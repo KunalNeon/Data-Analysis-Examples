{
 "cells": [
  {
   "cell_type": "code",
   "execution_count": 1,
   "id": "e73a99a0",
   "metadata": {},
   "outputs": [],
   "source": [
    "import pandas as pd\n",
    "import matplotlib.pyplot as myplot\n",
    "import numpy as np\n"
   ]
  },
  {
   "cell_type": "markdown",
   "id": "391ebd6d",
   "metadata": {},
   "source": [
    "## / is iteself a standard that expects escape character like t, n or other. Without escape it, there will be error so we used '//' with replace()"
   ]
  },
  {
   "cell_type": "code",
   "execution_count": 2,
   "id": "874f4e38",
   "metadata": {},
   "outputs": [],
   "source": [
    "fileLocation=r\"C:\\Users\\Kunal\\OneDrive\\Pictures\\Screenshots\\OneDrive\\Desktop\\PersonalDataScienceLearning\\Kaggle Data Set\\Beginner DataSet\\superstore.csv\".replace(\"\\\\\",\"/\")\n",
    "mySuperStoreDataFrame=pd.read_csv(fileLocation)\n"
   ]
  },
  {
   "cell_type": "code",
   "execution_count": 3,
   "id": "1abd05fe",
   "metadata": {},
   "outputs": [
    {
     "name": "stdout",
     "output_type": "stream",
     "text": [
      "<bound method NDFrame.describe of               CATEGORY         CITY        COUNTRY CUSTOMER.ID  \\\n",
      "0      Office Supplies  Los Angeles  United States   LS-172304   \n",
      "1      Office Supplies  Los Angeles  United States   MV-174854   \n",
      "2      Office Supplies  Los Angeles  United States   CS-121304   \n",
      "3      Office Supplies  Los Angeles  United States   CS-121304   \n",
      "4      Office Supplies  Los Angeles  United States   AP-109154   \n",
      "...                ...          ...            ...         ...   \n",
      "51285  Office Supplies  Los Angeles  United States   AM-103604   \n",
      "51286  Office Supplies  Los Angeles  United States   AM-103604   \n",
      "51287  Office Supplies  Los Angeles  United States   HR-147704   \n",
      "51288  Office Supplies  Los Angeles  United States   RM-196754   \n",
      "51289  Office Supplies  Los Angeles  United States   FH-143654   \n",
      "\n",
      "          CUSTOMER.NAME  DISCOUNT MARKET  记录数               ORDER.DATE  \\\n",
      "0      Lycoris Saunders       0.0     US    1  2011-01-07 00:00:00.000   \n",
      "1         Mark Van Huff       0.0     US    1  2011-01-21 00:00:00.000   \n",
      "2          Chad Sievert       0.0     US    1  2011-08-05 00:00:00.000   \n",
      "3          Chad Sievert       0.0     US    1  2011-08-05 00:00:00.000   \n",
      "4        Arthur Prichep       0.0     US    1  2011-09-29 00:00:00.000   \n",
      "...                 ...       ...    ...  ...                      ...   \n",
      "51285    Alice McCarthy       0.2     US    1  2014-12-03 00:00:00.000   \n",
      "51286    Alice McCarthy       0.2     US    1  2014-12-03 00:00:00.000   \n",
      "51287    Hallie Redmond       0.2     US    1  2014-12-18 00:00:00.000   \n",
      "51288     Robert Marley       0.2     US    1  2014-12-25 00:00:00.000   \n",
      "51289      Fred Hopkins       0.2     US    1  2014-12-26 00:00:00.000   \n",
      "\n",
      "             ORDER.ID  ... SALES      SEGMENT                SHIP.DATE  \\\n",
      "0      CA-2011-130813  ...    19     Consumer  2011-01-09 00:00:00.000   \n",
      "1      CA-2011-148614  ...    19     Consumer  2011-01-26 00:00:00.000   \n",
      "2      CA-2011-118962  ...    21     Consumer  2011-08-09 00:00:00.000   \n",
      "3      CA-2011-118962  ...   111     Consumer  2011-08-09 00:00:00.000   \n",
      "4      CA-2011-146969  ...     6     Consumer  2011-10-03 00:00:00.000   \n",
      "...               ...  ...   ...          ...                      ...   \n",
      "51285  CA-2014-109701  ...    69    Corporate  2014-12-04 00:00:00.000   \n",
      "51286  CA-2014-109701  ...     9    Corporate  2014-12-04 00:00:00.000   \n",
      "51287  CA-2014-106964  ...    12  Home Office  2014-12-21 00:00:00.000   \n",
      "51288  CA-2014-145219  ...    90  Home Office  2014-12-26 00:00:00.000   \n",
      "51289  CA-2014-121398  ...   154    Corporate  2014-12-30 00:00:00.000   \n",
      "\n",
      "            SHIP.MODE  SHIPPING.COST       STATE  SUB.CATEGORY  YEAR  \\\n",
      "0        Second Class           4.37  California         Paper  2011   \n",
      "1      Standard Class           0.94  California         Paper  2011   \n",
      "2      Standard Class           1.81  California         Paper  2011   \n",
      "3      Standard Class           4.59  California         Paper  2011   \n",
      "4      Standard Class           1.32  California         Paper  2011   \n",
      "...               ...            ...         ...           ...   ...   \n",
      "51285        Same Day           5.15  California       Binders  2014   \n",
      "51286        Same Day           0.44  California       Binders  2014   \n",
      "51287     First Class           0.31  California       Binders  2014   \n",
      "51288     First Class          15.95  California       Binders  2014   \n",
      "51289  Standard Class           9.59  California       Binders  2014   \n",
      "\n",
      "             MARKET2 WEEKNUM  \n",
      "0      North America       2  \n",
      "1      North America       4  \n",
      "2      North America      32  \n",
      "3      North America      32  \n",
      "4      North America      40  \n",
      "...              ...     ...  \n",
      "51285  North America      49  \n",
      "51286  North America      49  \n",
      "51287  North America      51  \n",
      "51288  North America      52  \n",
      "51289  North America      52  \n",
      "\n",
      "[51290 rows x 27 columns]>\n"
     ]
    }
   ],
   "source": [
    "total_columns=mySuperStoreDataFrame.columns\n",
    "mySuperStoreDataFrame.columns= total_columns.map(lambda x: x.upper())\n",
    "print(mySuperStoreDataFrame.describe)"
   ]
  },
  {
   "cell_type": "code",
   "execution_count": 4,
   "id": "6eabc8c4",
   "metadata": {},
   "outputs": [
    {
     "data": {
      "text/plain": [
       "CATEGORY          0\n",
       "CITY              0\n",
       "COUNTRY           0\n",
       "CUSTOMER.ID       0\n",
       "CUSTOMER.NAME     0\n",
       "DISCOUNT          0\n",
       "MARKET            0\n",
       "记录数               0\n",
       "ORDER.DATE        0\n",
       "ORDER.ID          0\n",
       "ORDER.PRIORITY    0\n",
       "PRODUCT.ID        0\n",
       "PRODUCT.NAME      0\n",
       "PROFIT            0\n",
       "QUANTITY          0\n",
       "REGION            0\n",
       "ROW.ID            0\n",
       "SALES             0\n",
       "SEGMENT           0\n",
       "SHIP.DATE         0\n",
       "SHIP.MODE         0\n",
       "SHIPPING.COST     0\n",
       "STATE             0\n",
       "SUB.CATEGORY      0\n",
       "YEAR              0\n",
       "MARKET2           0\n",
       "WEEKNUM           0\n",
       "dtype: int64"
      ]
     },
     "execution_count": 4,
     "metadata": {},
     "output_type": "execute_result"
    }
   ],
   "source": [
    "nullValueInformation=mySuperStoreDataFrame.isnull().sum()\n",
    "nullValueInformation"
   ]
  },
  {
   "cell_type": "markdown",
   "id": "5b03dac8",
   "metadata": {},
   "source": [
    "## value_counts work for series so stastical method like .sum() makes the series with the summed value for each column such that index is column name and value is sum of items like null or other of interest"
   ]
  },
  {
   "cell_type": "code",
   "execution_count": 5,
   "id": "ee0e6b7b",
   "metadata": {},
   "outputs": [
    {
     "data": {
      "text/plain": [
       "0    27\n",
       "Name: value, dtype: int64"
      ]
     },
     "execution_count": 5,
     "metadata": {},
     "output_type": "execute_result"
    }
   ],
   "source": [
    "null_value_series=pd.value_counts(mySuperStoreDataFrame.isnull().sum())\n",
    "null_value_series.name=\"value\"\n",
    "\n",
    "null_value_series"
   ]
  },
  {
   "cell_type": "markdown",
   "id": "ceef8e85",
   "metadata": {},
   "source": [
    "## We can not assign values using .values(), instead we have to use iloc[]"
   ]
  },
  {
   "cell_type": "code",
   "execution_count": 6,
   "id": "606bfa12",
   "metadata": {
    "scrolled": true
   },
   "outputs": [
    {
     "data": {
      "text/plain": [
       "CATEGORY          2\n",
       "CITY              2\n",
       "COUNTRY           2\n",
       "CUSTOMER.ID       2\n",
       "CUSTOMER.NAME     2\n",
       "DISCOUNT          2\n",
       "MARKET            2\n",
       "记录数               2\n",
       "ORDER.DATE        2\n",
       "ORDER.ID          2\n",
       "ORDER.PRIORITY    2\n",
       "PRODUCT.ID        2\n",
       "PRODUCT.NAME      2\n",
       "PROFIT            2\n",
       "QUANTITY          2\n",
       "REGION            2\n",
       "ROW.ID            2\n",
       "SALES             2\n",
       "SEGMENT           2\n",
       "SHIP.DATE         2\n",
       "SHIP.MODE         2\n",
       "SHIPPING.COST     2\n",
       "STATE             2\n",
       "SUB.CATEGORY      2\n",
       "YEAR              2\n",
       "MARKET2           2\n",
       "WEEKNUM           2\n",
       "dtype: int64"
      ]
     },
     "execution_count": 6,
     "metadata": {},
     "output_type": "execute_result"
    }
   ],
   "source": [
    "nullValueInformation.iloc[:]=[value +2 for value in nullValueInformation.values]\n",
    "nullValueInformation"
   ]
  },
  {
   "cell_type": "code",
   "execution_count": 7,
   "id": "cacbd0a0",
   "metadata": {},
   "outputs": [],
   "source": [
    "nullValueInformation.iloc[12:]=10"
   ]
  },
  {
   "cell_type": "code",
   "execution_count": 8,
   "id": "076c797b",
   "metadata": {},
   "outputs": [
    {
     "data": {
      "text/plain": [
       "CATEGORY           2\n",
       "CITY               2\n",
       "COUNTRY            2\n",
       "CUSTOMER.ID        2\n",
       "CUSTOMER.NAME      2\n",
       "DISCOUNT           2\n",
       "MARKET             2\n",
       "记录数                2\n",
       "ORDER.DATE         2\n",
       "ORDER.ID           2\n",
       "ORDER.PRIORITY     2\n",
       "PRODUCT.ID         2\n",
       "PRODUCT.NAME      10\n",
       "PROFIT            10\n",
       "QUANTITY          10\n",
       "REGION            10\n",
       "ROW.ID            10\n",
       "SALES             10\n",
       "SEGMENT           10\n",
       "SHIP.DATE         10\n",
       "SHIP.MODE         10\n",
       "SHIPPING.COST     10\n",
       "STATE             10\n",
       "SUB.CATEGORY      10\n",
       "YEAR              10\n",
       "MARKET2           10\n",
       "WEEKNUM           10\n",
       "dtype: int64"
      ]
     },
     "execution_count": 8,
     "metadata": {},
     "output_type": "execute_result"
    }
   ],
   "source": [
    "nullValueInformation"
   ]
  },
  {
   "cell_type": "markdown",
   "id": "eec5998e",
   "metadata": {},
   "source": [
    "## TypeError occurs when data type is inappropriate. The names parameter expects list but if you pass series or index  like below there will be an error names=myIrishDataFrame.columns"
   ]
  },
  {
   "cell_type": "code",
   "execution_count": 9,
   "id": "e5d8a3e9",
   "metadata": {},
   "outputs": [
    {
     "name": "stderr",
     "output_type": "stream",
     "text": [
      "C:\\Users\\Kunal\\AppData\\Local\\Temp\\ipykernel_1192\\3379730579.py:1: DtypeWarning: Columns (5,7,13,14,16,17,21,24,26) have mixed types. Specify dtype option on import or set low_memory=False.\n",
      "  pd.read_csv(fileLocation,header=None, names=list(mySuperStoreDataFrame.columns))\n"
     ]
    },
    {
     "data": {
      "text/html": [
       "<div>\n",
       "<style scoped>\n",
       "    .dataframe tbody tr th:only-of-type {\n",
       "        vertical-align: middle;\n",
       "    }\n",
       "\n",
       "    .dataframe tbody tr th {\n",
       "        vertical-align: top;\n",
       "    }\n",
       "\n",
       "    .dataframe thead th {\n",
       "        text-align: right;\n",
       "    }\n",
       "</style>\n",
       "<table border=\"1\" class=\"dataframe\">\n",
       "  <thead>\n",
       "    <tr style=\"text-align: right;\">\n",
       "      <th></th>\n",
       "      <th>CATEGORY</th>\n",
       "      <th>CITY</th>\n",
       "      <th>COUNTRY</th>\n",
       "      <th>CUSTOMER.ID</th>\n",
       "      <th>CUSTOMER.NAME</th>\n",
       "      <th>DISCOUNT</th>\n",
       "      <th>MARKET</th>\n",
       "      <th>记录数</th>\n",
       "      <th>ORDER.DATE</th>\n",
       "      <th>ORDER.ID</th>\n",
       "      <th>...</th>\n",
       "      <th>SALES</th>\n",
       "      <th>SEGMENT</th>\n",
       "      <th>SHIP.DATE</th>\n",
       "      <th>SHIP.MODE</th>\n",
       "      <th>SHIPPING.COST</th>\n",
       "      <th>STATE</th>\n",
       "      <th>SUB.CATEGORY</th>\n",
       "      <th>YEAR</th>\n",
       "      <th>MARKET2</th>\n",
       "      <th>WEEKNUM</th>\n",
       "    </tr>\n",
       "  </thead>\n",
       "  <tbody>\n",
       "    <tr>\n",
       "      <th>0</th>\n",
       "      <td>Category</td>\n",
       "      <td>City</td>\n",
       "      <td>Country</td>\n",
       "      <td>Customer.ID</td>\n",
       "      <td>Customer.Name</td>\n",
       "      <td>Discount</td>\n",
       "      <td>Market</td>\n",
       "      <td>记录数</td>\n",
       "      <td>Order.Date</td>\n",
       "      <td>Order.ID</td>\n",
       "      <td>...</td>\n",
       "      <td>Sales</td>\n",
       "      <td>Segment</td>\n",
       "      <td>Ship.Date</td>\n",
       "      <td>Ship.Mode</td>\n",
       "      <td>Shipping.Cost</td>\n",
       "      <td>State</td>\n",
       "      <td>Sub.Category</td>\n",
       "      <td>Year</td>\n",
       "      <td>Market2</td>\n",
       "      <td>weeknum</td>\n",
       "    </tr>\n",
       "    <tr>\n",
       "      <th>1</th>\n",
       "      <td>Office Supplies</td>\n",
       "      <td>Los Angeles</td>\n",
       "      <td>United States</td>\n",
       "      <td>LS-172304</td>\n",
       "      <td>Lycoris Saunders</td>\n",
       "      <td>0</td>\n",
       "      <td>US</td>\n",
       "      <td>1</td>\n",
       "      <td>2011-01-07 00:00:00.000</td>\n",
       "      <td>CA-2011-130813</td>\n",
       "      <td>...</td>\n",
       "      <td>19</td>\n",
       "      <td>Consumer</td>\n",
       "      <td>2011-01-09 00:00:00.000</td>\n",
       "      <td>Second Class</td>\n",
       "      <td>4.37</td>\n",
       "      <td>California</td>\n",
       "      <td>Paper</td>\n",
       "      <td>2011</td>\n",
       "      <td>North America</td>\n",
       "      <td>2</td>\n",
       "    </tr>\n",
       "    <tr>\n",
       "      <th>2</th>\n",
       "      <td>Office Supplies</td>\n",
       "      <td>Los Angeles</td>\n",
       "      <td>United States</td>\n",
       "      <td>MV-174854</td>\n",
       "      <td>Mark Van Huff</td>\n",
       "      <td>0</td>\n",
       "      <td>US</td>\n",
       "      <td>1</td>\n",
       "      <td>2011-01-21 00:00:00.000</td>\n",
       "      <td>CA-2011-148614</td>\n",
       "      <td>...</td>\n",
       "      <td>19</td>\n",
       "      <td>Consumer</td>\n",
       "      <td>2011-01-26 00:00:00.000</td>\n",
       "      <td>Standard Class</td>\n",
       "      <td>0.94</td>\n",
       "      <td>California</td>\n",
       "      <td>Paper</td>\n",
       "      <td>2011</td>\n",
       "      <td>North America</td>\n",
       "      <td>4</td>\n",
       "    </tr>\n",
       "    <tr>\n",
       "      <th>3</th>\n",
       "      <td>Office Supplies</td>\n",
       "      <td>Los Angeles</td>\n",
       "      <td>United States</td>\n",
       "      <td>CS-121304</td>\n",
       "      <td>Chad Sievert</td>\n",
       "      <td>0</td>\n",
       "      <td>US</td>\n",
       "      <td>1</td>\n",
       "      <td>2011-08-05 00:00:00.000</td>\n",
       "      <td>CA-2011-118962</td>\n",
       "      <td>...</td>\n",
       "      <td>21</td>\n",
       "      <td>Consumer</td>\n",
       "      <td>2011-08-09 00:00:00.000</td>\n",
       "      <td>Standard Class</td>\n",
       "      <td>1.81</td>\n",
       "      <td>California</td>\n",
       "      <td>Paper</td>\n",
       "      <td>2011</td>\n",
       "      <td>North America</td>\n",
       "      <td>32</td>\n",
       "    </tr>\n",
       "    <tr>\n",
       "      <th>4</th>\n",
       "      <td>Office Supplies</td>\n",
       "      <td>Los Angeles</td>\n",
       "      <td>United States</td>\n",
       "      <td>CS-121304</td>\n",
       "      <td>Chad Sievert</td>\n",
       "      <td>0</td>\n",
       "      <td>US</td>\n",
       "      <td>1</td>\n",
       "      <td>2011-08-05 00:00:00.000</td>\n",
       "      <td>CA-2011-118962</td>\n",
       "      <td>...</td>\n",
       "      <td>111</td>\n",
       "      <td>Consumer</td>\n",
       "      <td>2011-08-09 00:00:00.000</td>\n",
       "      <td>Standard Class</td>\n",
       "      <td>4.59</td>\n",
       "      <td>California</td>\n",
       "      <td>Paper</td>\n",
       "      <td>2011</td>\n",
       "      <td>North America</td>\n",
       "      <td>32</td>\n",
       "    </tr>\n",
       "    <tr>\n",
       "      <th>...</th>\n",
       "      <td>...</td>\n",
       "      <td>...</td>\n",
       "      <td>...</td>\n",
       "      <td>...</td>\n",
       "      <td>...</td>\n",
       "      <td>...</td>\n",
       "      <td>...</td>\n",
       "      <td>...</td>\n",
       "      <td>...</td>\n",
       "      <td>...</td>\n",
       "      <td>...</td>\n",
       "      <td>...</td>\n",
       "      <td>...</td>\n",
       "      <td>...</td>\n",
       "      <td>...</td>\n",
       "      <td>...</td>\n",
       "      <td>...</td>\n",
       "      <td>...</td>\n",
       "      <td>...</td>\n",
       "      <td>...</td>\n",
       "      <td>...</td>\n",
       "    </tr>\n",
       "    <tr>\n",
       "      <th>51286</th>\n",
       "      <td>Office Supplies</td>\n",
       "      <td>Los Angeles</td>\n",
       "      <td>United States</td>\n",
       "      <td>AM-103604</td>\n",
       "      <td>Alice McCarthy</td>\n",
       "      <td>0.2</td>\n",
       "      <td>US</td>\n",
       "      <td>1</td>\n",
       "      <td>2014-12-03 00:00:00.000</td>\n",
       "      <td>CA-2014-109701</td>\n",
       "      <td>...</td>\n",
       "      <td>69</td>\n",
       "      <td>Corporate</td>\n",
       "      <td>2014-12-04 00:00:00.000</td>\n",
       "      <td>Same Day</td>\n",
       "      <td>5.15</td>\n",
       "      <td>California</td>\n",
       "      <td>Binders</td>\n",
       "      <td>2014</td>\n",
       "      <td>North America</td>\n",
       "      <td>49</td>\n",
       "    </tr>\n",
       "    <tr>\n",
       "      <th>51287</th>\n",
       "      <td>Office Supplies</td>\n",
       "      <td>Los Angeles</td>\n",
       "      <td>United States</td>\n",
       "      <td>AM-103604</td>\n",
       "      <td>Alice McCarthy</td>\n",
       "      <td>0.2</td>\n",
       "      <td>US</td>\n",
       "      <td>1</td>\n",
       "      <td>2014-12-03 00:00:00.000</td>\n",
       "      <td>CA-2014-109701</td>\n",
       "      <td>...</td>\n",
       "      <td>9</td>\n",
       "      <td>Corporate</td>\n",
       "      <td>2014-12-04 00:00:00.000</td>\n",
       "      <td>Same Day</td>\n",
       "      <td>0.44</td>\n",
       "      <td>California</td>\n",
       "      <td>Binders</td>\n",
       "      <td>2014</td>\n",
       "      <td>North America</td>\n",
       "      <td>49</td>\n",
       "    </tr>\n",
       "    <tr>\n",
       "      <th>51288</th>\n",
       "      <td>Office Supplies</td>\n",
       "      <td>Los Angeles</td>\n",
       "      <td>United States</td>\n",
       "      <td>HR-147704</td>\n",
       "      <td>Hallie Redmond</td>\n",
       "      <td>0.2</td>\n",
       "      <td>US</td>\n",
       "      <td>1</td>\n",
       "      <td>2014-12-18 00:00:00.000</td>\n",
       "      <td>CA-2014-106964</td>\n",
       "      <td>...</td>\n",
       "      <td>12</td>\n",
       "      <td>Home Office</td>\n",
       "      <td>2014-12-21 00:00:00.000</td>\n",
       "      <td>First Class</td>\n",
       "      <td>0.31</td>\n",
       "      <td>California</td>\n",
       "      <td>Binders</td>\n",
       "      <td>2014</td>\n",
       "      <td>North America</td>\n",
       "      <td>51</td>\n",
       "    </tr>\n",
       "    <tr>\n",
       "      <th>51289</th>\n",
       "      <td>Office Supplies</td>\n",
       "      <td>Los Angeles</td>\n",
       "      <td>United States</td>\n",
       "      <td>RM-196754</td>\n",
       "      <td>Robert Marley</td>\n",
       "      <td>0.2</td>\n",
       "      <td>US</td>\n",
       "      <td>1</td>\n",
       "      <td>2014-12-25 00:00:00.000</td>\n",
       "      <td>CA-2014-145219</td>\n",
       "      <td>...</td>\n",
       "      <td>90</td>\n",
       "      <td>Home Office</td>\n",
       "      <td>2014-12-26 00:00:00.000</td>\n",
       "      <td>First Class</td>\n",
       "      <td>15.95</td>\n",
       "      <td>California</td>\n",
       "      <td>Binders</td>\n",
       "      <td>2014</td>\n",
       "      <td>North America</td>\n",
       "      <td>52</td>\n",
       "    </tr>\n",
       "    <tr>\n",
       "      <th>51290</th>\n",
       "      <td>Office Supplies</td>\n",
       "      <td>Los Angeles</td>\n",
       "      <td>United States</td>\n",
       "      <td>FH-143654</td>\n",
       "      <td>Fred Hopkins</td>\n",
       "      <td>0.2</td>\n",
       "      <td>US</td>\n",
       "      <td>1</td>\n",
       "      <td>2014-12-26 00:00:00.000</td>\n",
       "      <td>CA-2014-121398</td>\n",
       "      <td>...</td>\n",
       "      <td>154</td>\n",
       "      <td>Corporate</td>\n",
       "      <td>2014-12-30 00:00:00.000</td>\n",
       "      <td>Standard Class</td>\n",
       "      <td>9.59</td>\n",
       "      <td>California</td>\n",
       "      <td>Binders</td>\n",
       "      <td>2014</td>\n",
       "      <td>North America</td>\n",
       "      <td>52</td>\n",
       "    </tr>\n",
       "  </tbody>\n",
       "</table>\n",
       "<p>51291 rows × 27 columns</p>\n",
       "</div>"
      ],
      "text/plain": [
       "              CATEGORY         CITY        COUNTRY  CUSTOMER.ID  \\\n",
       "0             Category         City        Country  Customer.ID   \n",
       "1      Office Supplies  Los Angeles  United States    LS-172304   \n",
       "2      Office Supplies  Los Angeles  United States    MV-174854   \n",
       "3      Office Supplies  Los Angeles  United States    CS-121304   \n",
       "4      Office Supplies  Los Angeles  United States    CS-121304   \n",
       "...                ...          ...            ...          ...   \n",
       "51286  Office Supplies  Los Angeles  United States    AM-103604   \n",
       "51287  Office Supplies  Los Angeles  United States    AM-103604   \n",
       "51288  Office Supplies  Los Angeles  United States    HR-147704   \n",
       "51289  Office Supplies  Los Angeles  United States    RM-196754   \n",
       "51290  Office Supplies  Los Angeles  United States    FH-143654   \n",
       "\n",
       "          CUSTOMER.NAME  DISCOUNT  MARKET  记录数               ORDER.DATE  \\\n",
       "0         Customer.Name  Discount  Market  记录数               Order.Date   \n",
       "1      Lycoris Saunders         0      US    1  2011-01-07 00:00:00.000   \n",
       "2         Mark Van Huff         0      US    1  2011-01-21 00:00:00.000   \n",
       "3          Chad Sievert         0      US    1  2011-08-05 00:00:00.000   \n",
       "4          Chad Sievert         0      US    1  2011-08-05 00:00:00.000   \n",
       "...                 ...       ...     ...  ...                      ...   \n",
       "51286    Alice McCarthy       0.2      US    1  2014-12-03 00:00:00.000   \n",
       "51287    Alice McCarthy       0.2      US    1  2014-12-03 00:00:00.000   \n",
       "51288    Hallie Redmond       0.2      US    1  2014-12-18 00:00:00.000   \n",
       "51289     Robert Marley       0.2      US    1  2014-12-25 00:00:00.000   \n",
       "51290      Fred Hopkins       0.2      US    1  2014-12-26 00:00:00.000   \n",
       "\n",
       "             ORDER.ID  ...  SALES      SEGMENT                SHIP.DATE  \\\n",
       "0            Order.ID  ...  Sales      Segment                Ship.Date   \n",
       "1      CA-2011-130813  ...     19     Consumer  2011-01-09 00:00:00.000   \n",
       "2      CA-2011-148614  ...     19     Consumer  2011-01-26 00:00:00.000   \n",
       "3      CA-2011-118962  ...     21     Consumer  2011-08-09 00:00:00.000   \n",
       "4      CA-2011-118962  ...    111     Consumer  2011-08-09 00:00:00.000   \n",
       "...               ...  ...    ...          ...                      ...   \n",
       "51286  CA-2014-109701  ...     69    Corporate  2014-12-04 00:00:00.000   \n",
       "51287  CA-2014-109701  ...      9    Corporate  2014-12-04 00:00:00.000   \n",
       "51288  CA-2014-106964  ...     12  Home Office  2014-12-21 00:00:00.000   \n",
       "51289  CA-2014-145219  ...     90  Home Office  2014-12-26 00:00:00.000   \n",
       "51290  CA-2014-121398  ...    154    Corporate  2014-12-30 00:00:00.000   \n",
       "\n",
       "            SHIP.MODE  SHIPPING.COST       STATE  SUB.CATEGORY  YEAR  \\\n",
       "0           Ship.Mode  Shipping.Cost       State  Sub.Category  Year   \n",
       "1        Second Class           4.37  California         Paper  2011   \n",
       "2      Standard Class           0.94  California         Paper  2011   \n",
       "3      Standard Class           1.81  California         Paper  2011   \n",
       "4      Standard Class           4.59  California         Paper  2011   \n",
       "...               ...            ...         ...           ...   ...   \n",
       "51286        Same Day           5.15  California       Binders  2014   \n",
       "51287        Same Day           0.44  California       Binders  2014   \n",
       "51288     First Class           0.31  California       Binders  2014   \n",
       "51289     First Class          15.95  California       Binders  2014   \n",
       "51290  Standard Class           9.59  California       Binders  2014   \n",
       "\n",
       "             MARKET2  WEEKNUM  \n",
       "0            Market2  weeknum  \n",
       "1      North America        2  \n",
       "2      North America        4  \n",
       "3      North America       32  \n",
       "4      North America       32  \n",
       "...              ...      ...  \n",
       "51286  North America       49  \n",
       "51287  North America       49  \n",
       "51288  North America       51  \n",
       "51289  North America       52  \n",
       "51290  North America       52  \n",
       "\n",
       "[51291 rows x 27 columns]"
      ]
     },
     "execution_count": 9,
     "metadata": {},
     "output_type": "execute_result"
    }
   ],
   "source": [
    "pd.read_csv(fileLocation,header=None, names=list(mySuperStoreDataFrame.columns))"
   ]
  },
  {
   "cell_type": "markdown",
   "id": "701b37cf",
   "metadata": {},
   "source": [
    "## AttributeError is due to syntax error as shown below"
   ]
  },
  {
   "cell_type": "code",
   "execution_count": 10,
   "id": "9e9df609",
   "metadata": {},
   "outputs": [
    {
     "ename": "AttributeError",
     "evalue": "module 'numpy' has no attribute 'randm'",
     "output_type": "error",
     "traceback": [
      "\u001b[1;31m---------------------------------------------------------------------------\u001b[0m",
      "\u001b[1;31mAttributeError\u001b[0m                            Traceback (most recent call last)",
      "Cell \u001b[1;32mIn[10], line 1\u001b[0m\n\u001b[1;32m----> 1\u001b[0m mySeries\u001b[38;5;241m=\u001b[39mpd\u001b[38;5;241m.\u001b[39mSeries(\u001b[38;5;28mrange\u001b[39m(\u001b[38;5;241m10\u001b[39m), index\u001b[38;5;241m=\u001b[39mnp\u001b[38;5;241m.\u001b[39mrandm\u001b[38;5;241m.\u001b[39mrandn(\u001b[38;5;241m10\u001b[39m))\n\u001b[0;32m      2\u001b[0m mySeries\n",
      "File \u001b[1;32m~\\anaconda3\\Lib\\site-packages\\numpy\\__init__.py:320\u001b[0m, in \u001b[0;36m__getattr__\u001b[1;34m(attr)\u001b[0m\n\u001b[0;32m    317\u001b[0m     \u001b[38;5;28;01mfrom\u001b[39;00m \u001b[38;5;21;01m.\u001b[39;00m\u001b[38;5;21;01mtesting\u001b[39;00m \u001b[38;5;28;01mimport\u001b[39;00m Tester\n\u001b[0;32m    318\u001b[0m     \u001b[38;5;28;01mreturn\u001b[39;00m Tester\n\u001b[1;32m--> 320\u001b[0m \u001b[38;5;28;01mraise\u001b[39;00m \u001b[38;5;167;01mAttributeError\u001b[39;00m(\u001b[38;5;124m\"\u001b[39m\u001b[38;5;124mmodule \u001b[39m\u001b[38;5;132;01m{!r}\u001b[39;00m\u001b[38;5;124m has no attribute \u001b[39m\u001b[38;5;124m\"\u001b[39m\n\u001b[0;32m    321\u001b[0m                      \u001b[38;5;124m\"\u001b[39m\u001b[38;5;132;01m{!r}\u001b[39;00m\u001b[38;5;124m\"\u001b[39m\u001b[38;5;241m.\u001b[39mformat(\u001b[38;5;18m__name__\u001b[39m, attr))\n",
      "\u001b[1;31mAttributeError\u001b[0m: module 'numpy' has no attribute 'randm'"
     ]
    }
   ],
   "source": [
    "mySeries=pd.Series(range(10), index=np.randm.randn(10))\n",
    "mySeries"
   ]
  },
  {
   "cell_type": "code",
   "execution_count": null,
   "id": "76860592",
   "metadata": {},
   "outputs": [],
   "source": []
  },
  {
   "cell_type": "markdown",
   "id": "7cde8029",
   "metadata": {},
   "source": [
    "### And  i went back made error intentionally, but the question is it is still showing the same output  because Jupyter Notebook's state persistence and memory so 1.Restart the Kernel 2. Re-run All Cells or del the variable "
   ]
  },
  {
   "cell_type": "code",
   "execution_count": null,
   "id": "1789e6d2",
   "metadata": {},
   "outputs": [],
   "source": [
    "list(mySeries)"
   ]
  },
  {
   "cell_type": "code",
   "execution_count": null,
   "id": "b14e53a8",
   "metadata": {},
   "outputs": [],
   "source": [
    "del mySeries"
   ]
  },
  {
   "cell_type": "code",
   "execution_count": null,
   "id": "2150d5d9",
   "metadata": {},
   "outputs": [],
   "source": [
    "myIrishDataFrame.shape"
   ]
  },
  {
   "cell_type": "code",
   "execution_count": null,
   "id": "a393478e",
   "metadata": {},
   "outputs": [],
   "source": [
    "mySeries=pd.Series(range(10), index=np.random.randn(10))\n",
    "mySeries"
   ]
  },
  {
   "cell_type": "code",
   "execution_count": null,
   "id": "5ee2a48a",
   "metadata": {},
   "outputs": [],
   "source": [
    "mySuperStoreDataFrame[\"DISCOUNT\"].dtype"
   ]
  },
  {
   "cell_type": "code",
   "execution_count": null,
   "id": "1c377687",
   "metadata": {},
   "outputs": [],
   "source": [
    "mySuperStoreDataFrame[\"CUSTOMER.ID\"].dtype"
   ]
  },
  {
   "cell_type": "markdown",
   "id": "5a240f0a",
   "metadata": {},
   "source": [
    "## To all cells(data points) use applymap(). To each row or column use apply(). To each element in series use map() or apply()"
   ]
  },
  {
   "cell_type": "markdown",
   "id": "e091cf2c",
   "metadata": {},
   "source": [
    "### apply() is more powerful function can be used with single column or entire data frame where map() is used on each item in one dimension data with applymap() we can combine the power of both individuals"
   ]
  },
  {
   "cell_type": "code",
   "execution_count": 11,
   "id": "447e8894",
   "metadata": {},
   "outputs": [],
   "source": [
    "allDataTypes=mySuperStoreDataFrame.apply(lambda x: x.dtype)"
   ]
  },
  {
   "cell_type": "markdown",
   "id": "a5d90079",
   "metadata": {},
   "source": [
    "## We can use replace method unlike Series where mapping is allowed, for String we have to call multiple replace method to replace multiple words from the string."
   ]
  },
  {
   "cell_type": "code",
   "execution_count": 12,
   "id": "2817de0e",
   "metadata": {},
   "outputs": [
    {
     "data": {
      "text/plain": [
       "'C:\\\\Users\\\\KUNAL\\\\ONEDRIVE\\\\Pictures\\\\Screenshots\\\\ONEDRIVE\\\\Desktop\\\\PersonalDataScienceLearning\\\\Kaggle Data Set\\\\Beginner DataSet\\\\superstore.csv'"
      ]
     },
     "execution_count": 12,
     "metadata": {},
     "output_type": "execute_result"
    }
   ],
   "source": [
    "\n",
    "fileLocation=r\"C:\\Users\\Kunal\\OneDrive\\Pictures\\Screenshots\\OneDrive\\Desktop\\PersonalDataScienceLearning\\Kaggle Data Set\\Beginner DataSet\\superstore.csv\"\n",
    "string_mapped={\"Kunal\":\"KUNAL\", \"OneDrive\":\"ONEDRIVE\"}\n",
    "for key, value in string_mapped.items():\n",
    "    fileLocation=fileLocation.replace(key,value)\n",
    "fileLocation\n",
    "    "
   ]
  },
  {
   "cell_type": "code",
   "execution_count": 13,
   "id": "2869bf30",
   "metadata": {},
   "outputs": [
    {
     "data": {
      "text/plain": [
       "CATEGORY           object\n",
       "SHIP.DATE          object\n",
       "SHIP.MODE          object\n",
       "REGION             object\n",
       "STATE              object\n",
       "CITY               object\n",
       "PRODUCT.NAME       object\n",
       "PRODUCT.ID         object\n",
       "ORDER.PRIORITY     object\n",
       "ORDER.ID           object\n",
       "ORDER.DATE         object\n",
       "SUB.CATEGORY       object\n",
       "MARKET             object\n",
       "MARKET2            object\n",
       "CUSTOMER.NAME      object\n",
       "CUSTOMER.ID        object\n",
       "COUNTRY            object\n",
       "SEGMENT            object\n",
       "SHIPPING.COST     float64\n",
       "PROFIT            float64\n",
       "DISCOUNT          float64\n",
       "SALES               int64\n",
       "ROW.ID              int64\n",
       "QUANTITY            int64\n",
       "记录数                 int64\n",
       "YEAR                int64\n",
       "WEEKNUM             int64\n",
       "dtype: object"
      ]
     },
     "execution_count": 13,
     "metadata": {},
     "output_type": "execute_result"
    }
   ],
   "source": [
    "allDataTypes.sort_values(ascending=False)"
   ]
  },
  {
   "cell_type": "code",
   "execution_count": 14,
   "id": "73fb1c9e",
   "metadata": {},
   "outputs": [
    {
     "data": {
      "text/plain": [
       "dict_items([('Kunal', 'KUNAL'), ('OneDrive', 'ONEDRIVE')])"
      ]
     },
     "execution_count": 14,
     "metadata": {},
     "output_type": "execute_result"
    }
   ],
   "source": [
    "string_mapped.items()"
   ]
  },
  {
   "cell_type": "code",
   "execution_count": 15,
   "id": "ebe1cdba",
   "metadata": {},
   "outputs": [
    {
     "data": {
      "text/plain": [
       "dict_values(['KUNAL', 'ONEDRIVE'])"
      ]
     },
     "execution_count": 15,
     "metadata": {},
     "output_type": "execute_result"
    }
   ],
   "source": [
    "string_mapped.values()"
   ]
  },
  {
   "cell_type": "markdown",
   "id": "b44b7701",
   "metadata": {},
   "source": [
    "# THis is updated file"
   ]
  },
  {
   "cell_type": "code",
   "execution_count": 16,
   "id": "6c5d9007",
   "metadata": {},
   "outputs": [
    {
     "name": "stdout",
     "output_type": "stream",
     "text": [
      "0\n",
      "1\n",
      "2\n",
      "3\n",
      "4\n",
      "5\n",
      "6\n",
      "7\n",
      "8\n",
      "9\n"
     ]
    }
   ],
   "source": [
    "for i in range(10):\n",
    "    print(i)"
   ]
  },
  {
   "cell_type": "markdown",
   "id": "5640b3b7",
   "metadata": {},
   "source": [
    "#### The idea of updating the file in git is to first get access to repository on local machine by clonning it and then add the update file in the folder where you have clonded the file and then add the file in git(original) and then commit with some update message and finial push it in the main branch as shown below\n"
   ]
  },
  {
   "cell_type": "markdown",
   "id": "943be532",
   "metadata": {},
   "source": [
    "    ### 1. git clone https://github.com/username/repository.git    cd repository\n",
    "    2. Make Changes Locally (old file will be replaced)\n",
    "    3. git add your/file/path (adding new file in cloud git)\n",
    "    4. git commit -m \"File Updated\" (making changes in cloud git)\n",
    "    5. git push origin main (same as 3 and 4)"
   ]
  },
  {
   "cell_type": "code",
   "execution_count": 17,
   "id": "dc2ace6f",
   "metadata": {
    "scrolled": true
   },
   "outputs": [
    {
     "name": "stdout",
     "output_type": "stream",
     "text": [
      "(51290, 27)\n"
     ]
    },
    {
     "data": {
      "text/html": [
       "<div>\n",
       "<style scoped>\n",
       "    .dataframe tbody tr th:only-of-type {\n",
       "        vertical-align: middle;\n",
       "    }\n",
       "\n",
       "    .dataframe tbody tr th {\n",
       "        vertical-align: top;\n",
       "    }\n",
       "\n",
       "    .dataframe thead th {\n",
       "        text-align: right;\n",
       "    }\n",
       "</style>\n",
       "<table border=\"1\" class=\"dataframe\">\n",
       "  <thead>\n",
       "    <tr style=\"text-align: right;\">\n",
       "      <th></th>\n",
       "      <th>DISCOUNT</th>\n",
       "      <th>记录数</th>\n",
       "      <th>PROFIT</th>\n",
       "      <th>QUANTITY</th>\n",
       "      <th>ROW.ID</th>\n",
       "      <th>SALES</th>\n",
       "      <th>SHIPPING.COST</th>\n",
       "      <th>YEAR</th>\n",
       "      <th>WEEKNUM</th>\n",
       "    </tr>\n",
       "  </thead>\n",
       "  <tbody>\n",
       "    <tr>\n",
       "      <th>count</th>\n",
       "      <td>51290.000000</td>\n",
       "      <td>51290.0</td>\n",
       "      <td>51290.000000</td>\n",
       "      <td>51290.000000</td>\n",
       "      <td>51290.00000</td>\n",
       "      <td>51290.000000</td>\n",
       "      <td>51290.000000</td>\n",
       "      <td>51290.000000</td>\n",
       "      <td>51290.000000</td>\n",
       "    </tr>\n",
       "    <tr>\n",
       "      <th>mean</th>\n",
       "      <td>0.142908</td>\n",
       "      <td>1.0</td>\n",
       "      <td>28.610982</td>\n",
       "      <td>3.476545</td>\n",
       "      <td>25645.50000</td>\n",
       "      <td>246.498440</td>\n",
       "      <td>26.375818</td>\n",
       "      <td>2012.777208</td>\n",
       "      <td>31.287112</td>\n",
       "    </tr>\n",
       "    <tr>\n",
       "      <th>std</th>\n",
       "      <td>0.212280</td>\n",
       "      <td>0.0</td>\n",
       "      <td>174.340972</td>\n",
       "      <td>2.278766</td>\n",
       "      <td>14806.29199</td>\n",
       "      <td>487.567175</td>\n",
       "      <td>57.296810</td>\n",
       "      <td>1.098931</td>\n",
       "      <td>14.429795</td>\n",
       "    </tr>\n",
       "    <tr>\n",
       "      <th>min</th>\n",
       "      <td>0.000000</td>\n",
       "      <td>1.0</td>\n",
       "      <td>-6599.978000</td>\n",
       "      <td>1.000000</td>\n",
       "      <td>1.00000</td>\n",
       "      <td>0.000000</td>\n",
       "      <td>0.002000</td>\n",
       "      <td>2011.000000</td>\n",
       "      <td>1.000000</td>\n",
       "    </tr>\n",
       "    <tr>\n",
       "      <th>25%</th>\n",
       "      <td>0.000000</td>\n",
       "      <td>1.0</td>\n",
       "      <td>0.000000</td>\n",
       "      <td>2.000000</td>\n",
       "      <td>12823.25000</td>\n",
       "      <td>31.000000</td>\n",
       "      <td>2.610000</td>\n",
       "      <td>2012.000000</td>\n",
       "      <td>20.000000</td>\n",
       "    </tr>\n",
       "    <tr>\n",
       "      <th>50%</th>\n",
       "      <td>0.000000</td>\n",
       "      <td>1.0</td>\n",
       "      <td>9.240000</td>\n",
       "      <td>3.000000</td>\n",
       "      <td>25645.50000</td>\n",
       "      <td>85.000000</td>\n",
       "      <td>7.790000</td>\n",
       "      <td>2013.000000</td>\n",
       "      <td>33.000000</td>\n",
       "    </tr>\n",
       "    <tr>\n",
       "      <th>75%</th>\n",
       "      <td>0.200000</td>\n",
       "      <td>1.0</td>\n",
       "      <td>36.810000</td>\n",
       "      <td>5.000000</td>\n",
       "      <td>38467.75000</td>\n",
       "      <td>251.000000</td>\n",
       "      <td>24.450000</td>\n",
       "      <td>2014.000000</td>\n",
       "      <td>44.000000</td>\n",
       "    </tr>\n",
       "    <tr>\n",
       "      <th>max</th>\n",
       "      <td>0.850000</td>\n",
       "      <td>1.0</td>\n",
       "      <td>8399.976000</td>\n",
       "      <td>14.000000</td>\n",
       "      <td>51290.00000</td>\n",
       "      <td>22638.000000</td>\n",
       "      <td>933.570000</td>\n",
       "      <td>2014.000000</td>\n",
       "      <td>53.000000</td>\n",
       "    </tr>\n",
       "  </tbody>\n",
       "</table>\n",
       "</div>"
      ],
      "text/plain": [
       "           DISCOUNT      记录数        PROFIT      QUANTITY       ROW.ID  \\\n",
       "count  51290.000000  51290.0  51290.000000  51290.000000  51290.00000   \n",
       "mean       0.142908      1.0     28.610982      3.476545  25645.50000   \n",
       "std        0.212280      0.0    174.340972      2.278766  14806.29199   \n",
       "min        0.000000      1.0  -6599.978000      1.000000      1.00000   \n",
       "25%        0.000000      1.0      0.000000      2.000000  12823.25000   \n",
       "50%        0.000000      1.0      9.240000      3.000000  25645.50000   \n",
       "75%        0.200000      1.0     36.810000      5.000000  38467.75000   \n",
       "max        0.850000      1.0   8399.976000     14.000000  51290.00000   \n",
       "\n",
       "              SALES  SHIPPING.COST          YEAR       WEEKNUM  \n",
       "count  51290.000000   51290.000000  51290.000000  51290.000000  \n",
       "mean     246.498440      26.375818   2012.777208     31.287112  \n",
       "std      487.567175      57.296810      1.098931     14.429795  \n",
       "min        0.000000       0.002000   2011.000000      1.000000  \n",
       "25%       31.000000       2.610000   2012.000000     20.000000  \n",
       "50%       85.000000       7.790000   2013.000000     33.000000  \n",
       "75%      251.000000      24.450000   2014.000000     44.000000  \n",
       "max    22638.000000     933.570000   2014.000000     53.000000  "
      ]
     },
     "execution_count": 17,
     "metadata": {},
     "output_type": "execute_result"
    }
   ],
   "source": [
    "print(mySuperStoreDataFrame.shape)\n",
    "mySuperStoreDataFrame.describe()"
   ]
  },
  {
   "cell_type": "code",
   "execution_count": 18,
   "id": "7e20414c",
   "metadata": {
    "scrolled": true
   },
   "outputs": [
    {
     "ename": "NameError",
     "evalue": "name 'myIrishDataFrame' is not defined",
     "output_type": "error",
     "traceback": [
      "\u001b[1;31m---------------------------------------------------------------------------\u001b[0m",
      "\u001b[1;31mNameError\u001b[0m                                 Traceback (most recent call last)",
      "Cell \u001b[1;32mIn[18], line 1\u001b[0m\n\u001b[1;32m----> 1\u001b[0m \u001b[38;5;28mprint\u001b[39m(\u001b[38;5;124m\"\u001b[39m\u001b[38;5;124mTHe minumum is \u001b[39m\u001b[38;5;124m\"\u001b[39m,myIrishDataFrame[\u001b[38;5;124m\"\u001b[39m\u001b[38;5;124mPROFIT\u001b[39m\u001b[38;5;124m\"\u001b[39m]\u001b[38;5;241m.\u001b[39mmin(), myIrishDataFrame[\u001b[38;5;124m\"\u001b[39m\u001b[38;5;124mPROFIT\u001b[39m\u001b[38;5;124m\"\u001b[39m]\u001b[38;5;241m.\u001b[39mmax())\n",
      "\u001b[1;31mNameError\u001b[0m: name 'myIrishDataFrame' is not defined"
     ]
    }
   ],
   "source": [
    "print(\"THe minumum is \",myIrishDataFrame[\"PROFIT\"].min(), myIrishDataFrame[\"PROFIT\"].max())"
   ]
  },
  {
   "cell_type": "code",
   "execution_count": 19,
   "id": "092f514b",
   "metadata": {},
   "outputs": [
    {
     "data": {
      "text/plain": [
       "count    51290.000000\n",
       "mean        28.610982\n",
       "std        174.340972\n",
       "min      -6599.978000\n",
       "25%          0.000000\n",
       "50%          9.240000\n",
       "75%         36.810000\n",
       "max       8399.976000\n",
       "Name: PROFIT, dtype: float64"
      ]
     },
     "execution_count": 19,
     "metadata": {},
     "output_type": "execute_result"
    }
   ],
   "source": [
    "mySuperStoreDataFrame[\"PROFIT\"].describe()"
   ]
  },
  {
   "cell_type": "code",
   "execution_count": 20,
   "id": "9dbbf2a1",
   "metadata": {},
   "outputs": [],
   "source": [
    "mySuperStoreDataFrame[\"PROFIT\"].to_csv(r\"C:\\Users\\Kunal\\Data-Analysis-Examples\\PROFIT.csv\".replace(\"\\\\\",\"/\"))"
   ]
  },
  {
   "cell_type": "code",
   "execution_count": 21,
   "id": "ac3dbd8c",
   "metadata": {
    "scrolled": true
   },
   "outputs": [
    {
     "data": {
      "text/plain": [
       "0        3.1104\n",
       "1        6.5856\n",
       "2        5.8604\n",
       "3        6.4128\n",
       "4        3.1104\n",
       "          ...  \n",
       "25651    2.2450\n",
       "25652    4.9056\n",
       "25653    3.6714\n",
       "25654    3.1584\n",
       "25655    4.2804\n",
       "Name: PROFIT, Length: 25656, dtype: float64"
      ]
     },
     "execution_count": 21,
     "metadata": {},
     "output_type": "execute_result"
    }
   ],
   "source": [
    "mySuperStoreDataFrame[\"PROFIT\"][mySuperStoreDataFrame[\"PROFIT\"]<=9.24].reset_index(drop=True)"
   ]
  },
  {
   "cell_type": "code",
   "execution_count": 22,
   "id": "72c612ec",
   "metadata": {},
   "outputs": [
    {
     "ename": "TypeError",
     "evalue": "plot() got an unexpected keyword argument 'x'",
     "output_type": "error",
     "traceback": [
      "\u001b[1;31m---------------------------------------------------------------------------\u001b[0m",
      "\u001b[1;31mTypeError\u001b[0m                                 Traceback (most recent call last)",
      "Cell \u001b[1;32mIn[22], line 2\u001b[0m\n\u001b[0;32m      1\u001b[0m \u001b[38;5;28;01mimport\u001b[39;00m \u001b[38;5;21;01mmatplotlib\u001b[39;00m\u001b[38;5;21;01m.\u001b[39;00m\u001b[38;5;21;01mpyplot\u001b[39;00m \u001b[38;5;28;01mas\u001b[39;00m \u001b[38;5;21;01mmyPlot\u001b[39;00m\n\u001b[1;32m----> 2\u001b[0m myPlot\u001b[38;5;241m.\u001b[39mplot(x\u001b[38;5;241m=\u001b[39m\u001b[38;5;124m\"\u001b[39m\u001b[38;5;124mPRODUCT.NAME\u001b[39m\u001b[38;5;124m\"\u001b[39m, y\u001b[38;5;241m=\u001b[39m\u001b[38;5;124m\"\u001b[39m\u001b[38;5;124mPRODUCT\u001b[39m\u001b[38;5;124m\"\u001b[39m, data\u001b[38;5;241m=\u001b[39mmySuperStoreDataFrame, kind\u001b[38;5;241m=\u001b[39m\u001b[38;5;124m'\u001b[39m\u001b[38;5;124mbar\u001b[39m\u001b[38;5;124m'\u001b[39m)\n",
      "File \u001b[1;32m~\\anaconda3\\Lib\\site-packages\\matplotlib\\pyplot.py:3590\u001b[0m, in \u001b[0;36mplot\u001b[1;34m(scalex, scaley, data, *args, **kwargs)\u001b[0m\n\u001b[0;32m   3582\u001b[0m \u001b[38;5;129m@_copy_docstring_and_deprecators\u001b[39m(Axes\u001b[38;5;241m.\u001b[39mplot)\n\u001b[0;32m   3583\u001b[0m \u001b[38;5;28;01mdef\u001b[39;00m \u001b[38;5;21mplot\u001b[39m(\n\u001b[0;32m   3584\u001b[0m     \u001b[38;5;241m*\u001b[39margs: \u001b[38;5;28mfloat\u001b[39m \u001b[38;5;241m|\u001b[39m ArrayLike \u001b[38;5;241m|\u001b[39m \u001b[38;5;28mstr\u001b[39m,\n\u001b[1;32m   (...)\u001b[0m\n\u001b[0;32m   3588\u001b[0m     \u001b[38;5;241m*\u001b[39m\u001b[38;5;241m*\u001b[39mkwargs,\n\u001b[0;32m   3589\u001b[0m ) \u001b[38;5;241m-\u001b[39m\u001b[38;5;241m>\u001b[39m \u001b[38;5;28mlist\u001b[39m[Line2D]:\n\u001b[1;32m-> 3590\u001b[0m     \u001b[38;5;28;01mreturn\u001b[39;00m gca()\u001b[38;5;241m.\u001b[39mplot(\n\u001b[0;32m   3591\u001b[0m         \u001b[38;5;241m*\u001b[39margs,\n\u001b[0;32m   3592\u001b[0m         scalex\u001b[38;5;241m=\u001b[39mscalex,\n\u001b[0;32m   3593\u001b[0m         scaley\u001b[38;5;241m=\u001b[39mscaley,\n\u001b[0;32m   3594\u001b[0m         \u001b[38;5;241m*\u001b[39m\u001b[38;5;241m*\u001b[39m({\u001b[38;5;124m\"\u001b[39m\u001b[38;5;124mdata\u001b[39m\u001b[38;5;124m\"\u001b[39m: data} \u001b[38;5;28;01mif\u001b[39;00m data \u001b[38;5;129;01mis\u001b[39;00m \u001b[38;5;129;01mnot\u001b[39;00m \u001b[38;5;28;01mNone\u001b[39;00m \u001b[38;5;28;01melse\u001b[39;00m {}),\n\u001b[0;32m   3595\u001b[0m         \u001b[38;5;241m*\u001b[39m\u001b[38;5;241m*\u001b[39mkwargs,\n\u001b[0;32m   3596\u001b[0m     )\n",
      "File \u001b[1;32m~\\anaconda3\\Lib\\site-packages\\matplotlib\\axes\\_axes.py:1724\u001b[0m, in \u001b[0;36mAxes.plot\u001b[1;34m(self, scalex, scaley, data, *args, **kwargs)\u001b[0m\n\u001b[0;32m   1481\u001b[0m \u001b[38;5;250m\u001b[39m\u001b[38;5;124;03m\"\"\"\u001b[39;00m\n\u001b[0;32m   1482\u001b[0m \u001b[38;5;124;03mPlot y versus x as lines and/or markers.\u001b[39;00m\n\u001b[0;32m   1483\u001b[0m \n\u001b[1;32m   (...)\u001b[0m\n\u001b[0;32m   1721\u001b[0m \u001b[38;5;124;03m(``'green'``) or hex strings (``'#008000'``).\u001b[39;00m\n\u001b[0;32m   1722\u001b[0m \u001b[38;5;124;03m\"\"\"\u001b[39;00m\n\u001b[0;32m   1723\u001b[0m kwargs \u001b[38;5;241m=\u001b[39m cbook\u001b[38;5;241m.\u001b[39mnormalize_kwargs(kwargs, mlines\u001b[38;5;241m.\u001b[39mLine2D)\n\u001b[1;32m-> 1724\u001b[0m lines \u001b[38;5;241m=\u001b[39m [\u001b[38;5;241m*\u001b[39m\u001b[38;5;28mself\u001b[39m\u001b[38;5;241m.\u001b[39m_get_lines(\u001b[38;5;28mself\u001b[39m, \u001b[38;5;241m*\u001b[39margs, data\u001b[38;5;241m=\u001b[39mdata, \u001b[38;5;241m*\u001b[39m\u001b[38;5;241m*\u001b[39mkwargs)]\n\u001b[0;32m   1725\u001b[0m \u001b[38;5;28;01mfor\u001b[39;00m line \u001b[38;5;129;01min\u001b[39;00m lines:\n\u001b[0;32m   1726\u001b[0m     \u001b[38;5;28mself\u001b[39m\u001b[38;5;241m.\u001b[39madd_line(line)\n",
      "File \u001b[1;32m~\\anaconda3\\Lib\\site-packages\\matplotlib\\axes\\_base.py:238\u001b[0m, in \u001b[0;36m_process_plot_var_args.__call__\u001b[1;34m(self, axes, data, *args, **kwargs)\u001b[0m\n\u001b[0;32m    236\u001b[0m \u001b[38;5;28;01mfor\u001b[39;00m pos_only \u001b[38;5;129;01min\u001b[39;00m \u001b[38;5;124m\"\u001b[39m\u001b[38;5;124mxy\u001b[39m\u001b[38;5;124m\"\u001b[39m:\n\u001b[0;32m    237\u001b[0m     \u001b[38;5;28;01mif\u001b[39;00m pos_only \u001b[38;5;129;01min\u001b[39;00m kwargs:\n\u001b[1;32m--> 238\u001b[0m         \u001b[38;5;28;01mraise\u001b[39;00m _api\u001b[38;5;241m.\u001b[39mkwarg_error(\u001b[38;5;28mself\u001b[39m\u001b[38;5;241m.\u001b[39mcommand, pos_only)\n\u001b[0;32m    240\u001b[0m \u001b[38;5;28;01mif\u001b[39;00m \u001b[38;5;129;01mnot\u001b[39;00m args:\n\u001b[0;32m    241\u001b[0m     \u001b[38;5;28;01mreturn\u001b[39;00m\n",
      "\u001b[1;31mTypeError\u001b[0m: plot() got an unexpected keyword argument 'x'"
     ]
    },
    {
     "data": {
      "image/png": "[encoded data removed]",
      "text/plain": [
       "<Figure size 640x480 with 1 Axes>"
      ]
     },
     "metadata": {},
     "output_type": "display_data"
    }
   ],
   "source": [
    "import matplotlib.pyplot as myPlot\n",
    "myPlot.plot(x=\"PRODUCT.NAME\", y=\"PRODUCT\", data=mySuperStoreDataFrame, kind='bar')"
   ]
  },
  {
   "cell_type": "code",
   "execution_count": null,
   "id": "197675db",
   "metadata": {},
   "outputs": [],
   "source": [
    "myplot.plot(mySuperStoreDataFrame[\"DISCOUNT\"], 'k--')"
   ]
  },
  {
   "cell_type": "code",
   "execution_count": null,
   "id": "a27a955d",
   "metadata": {},
   "outputs": [],
   "source": [
    "myplot.plot(mySuperStoreDataFrame[\"DISCOUNT\"], 'g--',label=\"Steps\", drawstyle=\"steps-post\")"
   ]
  },
  {
   "cell_type": "code",
   "execution_count": null,
   "id": "6fa24ac7",
   "metadata": {},
   "outputs": [],
   "source": [
    "myplot.plot(mySuperStoreDataFrame[\"DISCOUNT\"], 'r--',label=\"default\")"
   ]
  },
  {
   "cell_type": "code",
   "execution_count": null,
   "id": "e49a1294",
   "metadata": {},
   "outputs": [],
   "source": [
    "fig, axes=myplot.subplots(2,2)"
   ]
  },
  {
   "cell_type": "code",
   "execution_count": null,
   "id": "cdf94d03",
   "metadata": {},
   "outputs": [],
   "source": [
    "axes[0,0]=myplot.plot(mySuperStoreDataFrame[\"DISCOUNT\"], 'k-',label=\"default\",alpha=0.7)\n",
    "axes[0,0]=myplot.hist(np.arange(1,200).cumsum(), bins=10, color='r', alpha=0.3)\n",
    "\n"
   ]
  },
  {
   "cell_type": "code",
   "execution_count": null,
   "id": "70cb5410",
   "metadata": {},
   "outputs": [],
   "source": [
    "mySuperStoreDataFrame[\"DISCOUNT\"].plot()"
   ]
  },
  {
   "cell_type": "code",
   "execution_count": null,
   "id": "bf52751e",
   "metadata": {},
   "outputs": [],
   "source": [
    "myplot.hist(np.arange(1,200).cumsum(), bins=10, color='r', alpha=0.3)\n",
    "myplot.show()"
   ]
  },
  {
   "cell_type": "code",
   "execution_count": null,
   "id": "ef89b00c",
   "metadata": {},
   "outputs": [],
   "source": [
    "np.random.seed(1)\n",
    "cat=pd.cut(np.random.choice([4,8,12,16,20], size=100),[4,8,12,16,20], labels=[\"One\",\"Two\",\"Three\",\"Four\"])"
   ]
  },
  {
   "cell_type": "code",
   "execution_count": null,
   "id": "6d74d810",
   "metadata": {
    "scrolled": true
   },
   "outputs": [],
   "source": [
    "myplot.bar(cat.categories, cat.categories.values)"
   ]
  },
  {
   "cell_type": "code",
   "execution_count": null,
   "id": "f2b33444",
   "metadata": {},
   "outputs": [],
   "source": [
    "myplot.bar?\n"
   ]
  },
  {
   "cell_type": "markdown",
   "id": "63a76d36",
   "metadata": {},
   "source": [
    "### when we plot using pandas directly, the thing is all the column with numerical values will be automatically selected.\n"
   ]
  },
  {
   "cell_type": "code",
   "execution_count": 23,
   "id": "6cddda92",
   "metadata": {},
   "outputs": [
    {
     "data": {
      "text/plain": [
       "<Axes: >"
      ]
     },
     "execution_count": 23,
     "metadata": {},
     "output_type": "execute_result"
    },
    {
     "name": "stderr",
     "output_type": "stream",
     "text": [
      "C:\\Users\\Kunal\\anaconda3\\Lib\\site-packages\\IPython\\core\\events.py:89: UserWarning: Glyph 35760 (\\N{CJK UNIFIED IDEOGRAPH-8BB0}) missing from current font.\n",
      "  func(*args, **kwargs)\n",
      "C:\\Users\\Kunal\\anaconda3\\Lib\\site-packages\\IPython\\core\\events.py:89: UserWarning: Glyph 24405 (\\N{CJK UNIFIED IDEOGRAPH-5F55}) missing from current font.\n",
      "  func(*args, **kwargs)\n",
      "C:\\Users\\Kunal\\anaconda3\\Lib\\site-packages\\IPython\\core\\events.py:89: UserWarning: Glyph 25968 (\\N{CJK UNIFIED IDEOGRAPH-6570}) missing from current font.\n",
      "  func(*args, **kwargs)\n",
      "C:\\Users\\Kunal\\anaconda3\\Lib\\site-packages\\IPython\\core\\pylabtools.py:152: UserWarning: Glyph 35760 (\\N{CJK UNIFIED IDEOGRAPH-8BB0}) missing from current font.\n",
      "  fig.canvas.print_figure(bytes_io, **kw)\n",
      "C:\\Users\\Kunal\\anaconda3\\Lib\\site-packages\\IPython\\core\\pylabtools.py:152: UserWarning: Glyph 24405 (\\N{CJK UNIFIED IDEOGRAPH-5F55}) missing from current font.\n",
      "  fig.canvas.print_figure(bytes_io, **kw)\n",
      "C:\\Users\\Kunal\\anaconda3\\Lib\\site-packages\\IPython\\core\\pylabtools.py:152: UserWarning: Glyph 25968 (\\N{CJK UNIFIED IDEOGRAPH-6570}) missing from current font.\n",
      "  fig.canvas.print_figure(bytes_io, **kw)\n"
     ]
    },
    {
     "data": {
      "image/png": "[encoded data removed]",
      "text/plain": [
       "<Figure size 640x480 with 1 Axes>"
      ]
     },
     "metadata": {},
     "output_type": "display_data"
    }
   ],
   "source": [
    "mySuperStoreDataFrame.plot.line()"
   ]
  },
  {
   "cell_type": "code",
   "execution_count": 24,
   "id": "5024a2a6",
   "metadata": {},
   "outputs": [
    {
     "data": {
      "text/plain": [
       "<BarContainer object of 50 artists>"
      ]
     },
     "execution_count": 24,
     "metadata": {},
     "output_type": "execute_result"
    },
    {
     "data": {
      "image/png": "[encoded data removed]",
      "text/plain": [
       "<Figure size 640x480 with 1 Axes>"
      ]
     },
     "metadata": {},
     "output_type": "display_data"
    }
   ],
   "source": [
    "myplot.bar(mySuperStoreDataFrame[\"CUSTOMER.NAME\"].value_counts()[:50].index,mySuperStoreDataFrame[\"CUSTOMER.NAME\"].value_counts()[:50].values)"
   ]
  },
  {
   "cell_type": "code",
   "execution_count": 25,
   "id": "d70d8969",
   "metadata": {},
   "outputs": [
    {
     "data": {
      "text/plain": [
       "Muhammed Yedwab     True\n",
       "Steven Ward         True\n",
       "Gary Hwang          True\n",
       "Bill Eplett         True\n",
       "Patrick O'Brill     True\n",
       "                   ...  \n",
       "Emily Burns        False\n",
       "David Bremer       False\n",
       "Nicole Brennan     False\n",
       "Darren Budd        False\n",
       "Michael Oakman     False\n",
       "Name: CUSTOMER.NAME, Length: 795, dtype: bool"
      ]
     },
     "execution_count": 25,
     "metadata": {},
     "output_type": "execute_result"
    }
   ],
   "source": [
    "mySuperStoreDataFrame[\"CUSTOMER.NAME\"].value_counts()>90"
   ]
  },
  {
   "cell_type": "code",
   "execution_count": 26,
   "id": "56c898fe",
   "metadata": {},
   "outputs": [
    {
     "name": "stdout",
     "output_type": "stream",
     "text": [
      "Muhammed Yedwab        108\n",
      "Steven Ward            106\n",
      "Gary Hwang             102\n",
      "Bill Eplett            102\n",
      "Patrick O'Brill        102\n",
      "Harry Greene           101\n",
      "Eric Murdock           100\n",
      "Art Ferguson            98\n",
      "Brosina Hoffman         97\n",
      "Chloris Kastensmidt     96\n",
      "Bart Watters            96\n",
      "Natalie Fritzler        95\n",
      "John Grady              95\n",
      "Eugene Moren            94\n",
      "Darrin Van Huff         94\n",
      "Michael Paige           94\n",
      "Tom Boeckenhauer        93\n",
      "Karl Braun              93\n",
      "Noel Staavos            92\n",
      "Paul Gonzalez           92\n",
      "Joe Kamberova           91\n",
      "Anna Andreadi           91\n",
      "Resi Pölking            91\n",
      "Tracy Blumstein         91\n",
      "Name: CUSTOMER.NAME, dtype: int64\n"
     ]
    }
   ],
   "source": [
    "namesMoreThanNintyTimes=mySuperStoreDataFrame[\"CUSTOMER.NAME\"].value_counts()[mySuperStoreDataFrame[\"CUSTOMER.NAME\"].value_counts()>90]\n",
    "print(namesMoreThanNintyTimes)"
   ]
  },
  {
   "cell_type": "code",
   "execution_count": 27,
   "id": "cddf1ad6",
   "metadata": {},
   "outputs": [
    {
     "data": {
      "text/plain": [
       "<BarContainer object of 24 artists>"
      ]
     },
     "execution_count": 27,
     "metadata": {},
     "output_type": "execute_result"
    },
    {
     "data": {
      "image/png": "[encoded data removed]",
      "text/plain": [
       "<Figure size 640x480 with 1 Axes>"
      ]
     },
     "metadata": {},
     "output_type": "display_data"
    }
   ],
   "source": [
    "myplot.bar(namesMoreThanNintyTimes.index, namesMoreThanNintyTimes.values, color='g')"
   ]
  },
  {
   "cell_type": "code",
   "execution_count": 28,
   "id": "65eb822c",
   "metadata": {},
   "outputs": [
    {
     "ename": "SyntaxError",
     "evalue": "invalid syntax (3492008508.py, line 1)",
     "output_type": "error",
     "traceback": [
      "\u001b[1;36m  Cell \u001b[1;32mIn[28], line 1\u001b[1;36m\u001b[0m\n\u001b[1;33m    what is difference between fill_value=0 and fillna(0)\u001b[0m\n\u001b[1;37m                       ^\u001b[0m\n\u001b[1;31mSyntaxError\u001b[0m\u001b[1;31m:\u001b[0m invalid syntax\n"
     ]
    }
   ],
   "source": [
    "what is difference between fill_value=0 and fillna(0)"
   ]
  },
  {
   "cell_type": "markdown",
   "id": "577c6977",
   "metadata": {},
   "source": [
    "### what i found differ from matplot lib for pandas and seaborn is that, they just plot the figure and other customization are still out of their scope and need to be done using original matplot lib. Things like title, labels which are outside of actual figure needs to go through using matplotlib. but legend lies inside the figure so it can be done using pandas and seaborn"
   ]
  },
  {
   "cell_type": "code",
   "execution_count": null,
   "id": "2745ab51",
   "metadata": {},
   "outputs": [],
   "source": [
    "myplot.plot(mySuperStoreDataFrame[\"SALES\"])"
   ]
  },
  {
   "cell_type": "code",
   "execution_count": null,
   "id": "27460ffc",
   "metadata": {},
   "outputs": [],
   "source": [
    "salesPlot=mySuperStoreDataFrame.plot(kind='line', y=\"SALES\", title=\"Sales Data\", ylabel=\"Values per month\", xlabel=\"Production Quantity\")\n",
    "print(salesPlot)"
   ]
  },
  {
   "cell_type": "code",
   "execution_count": null,
   "id": "e95140e3",
   "metadata": {},
   "outputs": [],
   "source": [
    "import seaborn as mySeaBorn\n",
    "\n",
    "mySeaBorn.lineplot(y='SALES', data=mySuperStoreDataFrame)"
   ]
  },
  {
   "cell_type": "markdown",
   "id": "45690acd",
   "metadata": {},
   "source": [
    " ### i came up with a code where i found that when we are using only one column from the data frame then we do not have to use x and y parameters instead we can do like something below\n",
    "mySeaBorn.lineplot(data=mySuperStoreDataFrame['SALES'])"
   ]
  },
  {
   "cell_type": "code",
   "execution_count": null,
   "id": "993c3d9d",
   "metadata": {},
   "outputs": [],
   "source": [
    "import seaborn as mySeaBorn\n",
    "\n",
    "mySeaBorn.lineplot( data=mySuperStoreDataFrame[\"SALES\"])"
   ]
  },
  {
   "cell_type": "markdown",
   "id": "f3e243f4",
   "metadata": {},
   "source": [
    "## Using Matplotlib:Matplotlib allows complete flexibility in a single subplot to:\n",
    "Plot multiple types of plots (e.g., line, bar, scatter, etc.).\n",
    "Overlay different data on the same subplot.\n",
    "Use different styles or customization for each plot type.\n",
    "## Using Pandas or Seaborn:\n",
    "### Pandas:\n",
    "\n",
    "Each call to .plot() creates a new subplot (unless using ax explicitly i.e ax=axes[0] or etc).\n",
    "Limited to one plot type per call (e.g., kind='bar' or kind='line').\n",
    "Hard to overlay multiple data series with different plot types.\n",
    "### Seaborn:\n",
    "\n",
    "Focused on producing one type of plot per call (e.g., lineplot, barplot).\n",
    "Overlays are possible but limited and often require manual tweaks with Matplotlib for customizations."
   ]
  },
  {
   "cell_type": "code",
   "execution_count": null,
   "id": "79cbb477",
   "metadata": {},
   "outputs": [],
   "source": [
    "import matplotlib.pyplot as plt\n",
    "\n",
    "fig, ax1 = plt.subplots()\n",
    "ax1.plot(mySuperStoreDataFrame['SALES'], color='blue', label='Sales')\n",
    "ax1.set_ylabel('Values per month')\n",
    "ax1.set_xlabel('Production Quantity')\n",
    "ax1.set_title('Sales Data')\n",
    "\n",
    "# Adding a secondary y-axis\n",
    "ax2 = ax1.twinx()\n",
    "ax2.plot(mySuperStoreDataFrame['PROFIT'], color='red', label='Cost')\n",
    "\n",
    "plt.show()\n"
   ]
  },
  {
   "cell_type": "code",
   "execution_count": null,
   "id": "92b506ae",
   "metadata": {},
   "outputs": [],
   "source": [
    "my_array=np.array([ 0,  1,  2,  3,  4,  5,  6,  7,  8,  9, 10, 11, 12, 13, 14, 15, \n",
    " 16, 17, 18, 19, 20, 21, 22, 23, 24, 25, 26, 27, 28, 29, 30, 31, \n",
    " 32, 33, 34, 35, 36, 37, 38, 39, 40, 41, 42, 43, 44, 45, 46, 47, \n",
    " 48, 49, 50, 51, 52, 53, 54, 55, 56, 57, 58, 59, 60, 61, 62, 63])"
   ]
  },
  {
   "cell_type": "code",
   "execution_count": null,
   "id": "51f38fa1",
   "metadata": {},
   "outputs": [],
   "source": [
    "my_array.reshape(-1,4,4,1)"
   ]
  },
  {
   "cell_type": "code",
   "execution_count": null,
   "id": "2affd258",
   "metadata": {},
   "outputs": [],
   "source": [
    "import matplotlib.pyplot as plt\n",
    "\n",
    "fig, ax1 = plt.subplots()\n",
    "ax1.plot(mySuperStoreDataFrame['SALES'], color='blue', label='Sales')\n",
    "ax1.set_ylabel('Values per month')\n",
    "ax1.set_xlabel('Production Quantity')\n",
    "ax1.set_title('Sales Data')\n",
    "#ax1.set_xticks([0,10000,20000,30000,40000,50000])\n",
    "ax1.set_xticklabels(list(\"abcdef\"))\n",
    "# Adding a secondary y-axis\n",
    "ax2 = ax1.twinx()\n",
    "ax2.plot(mySuperStoreDataFrame['PROFIT'], color='red', label='Cost')\n",
    "\n",
    "plt.show()\n"
   ]
  },
  {
   "cell_type": "markdown",
   "id": "957e91af",
   "metadata": {},
   "source": [
    "### xlim(), xticks() and xticklabels()\n",
    "xlim() is used for setting or getting the data by setting the range\n",
    "xticks() is used for the setting new tick lables\n",
    " xticklabels is user defined labels for ticks"
   ]
  },
  {
   "cell_type": "code",
   "execution_count": 29,
   "id": "e976561e",
   "metadata": {},
   "outputs": [
    {
     "data": {
      "image/png": "[encoded data removed]",
      "text/plain": [
       "<Figure size 640x480 with 1 Axes>"
      ]
     },
     "metadata": {},
     "output_type": "display_data"
    }
   ],
   "source": [
    "import matplotlib.pyplot as plt\n",
    "plt.plot(mySuperStoreDataFrame['SALES'], color='blue', label='Sales')\n",
    "plt.ylabel('Values per month')\n",
    "plt.xlabel('Production Quantity')\n",
    "plt.title('Sales Data')\n",
    "#plt.xticks([0,3000,15000])\n",
    "plt.xticks(ticks=[0,10000,20000,30000,40000,50000],labels=list(\"abcdef\"), rotation=30, fontsize=\"small\")\n",
    "plt.show()\n"
   ]
  },
  {
   "cell_type": "markdown",
   "id": "7cfbffa7",
   "metadata": {},
   "source": [
    "### wether you plot on axes object or matplot main object, we need to call show() method to display which sometime called automatically due to interactive mode"
   ]
  },
  {
   "cell_type": "code",
   "execution_count": 30,
   "id": "29554e22",
   "metadata": {},
   "outputs": [
    {
     "data": {
      "text/plain": [
       "[<matplotlib.lines.Line2D at 0x28195285d10>]"
      ]
     },
     "execution_count": 30,
     "metadata": {},
     "output_type": "execute_result"
    },
    {
     "data": {
      "image/png": "[encoded data removed]",
      "text/plain": [
       "<Figure size 640x480 with 1 Axes>"
      ]
     },
     "metadata": {},
     "output_type": "display_data"
    }
   ],
   "source": [
    "fig,ax1=plt.subplots()\n",
    "ax1.plot(np.random.randn(10))\n"
   ]
  },
  {
   "cell_type": "markdown",
   "id": "209b8c21",
   "metadata": {},
   "source": [
    "#### We can pass these decorating properties as dictionary which is unpacked inside the SET() of axes object\n",
    "decorating_props={\n",
    "\"title\":\"Line Plot\"}\n",
    "ax1.set(decorating_props)"
   ]
  },
  {
   "cell_type": "code",
   "execution_count": 31,
   "id": "007ad469",
   "metadata": {},
   "outputs": [
    {
     "name": "stderr",
     "output_type": "stream",
     "text": [
      "No artists with labels found to put in legend.  Note that artists whose label start with an underscore are ignored when legend() is called with no argument.\n"
     ]
    },
    {
     "data": {
      "image/png": "[encoded data removed]",
      "text/plain": [
       "<Figure size 640x480 with 1 Axes>"
      ]
     },
     "metadata": {},
     "output_type": "display_data"
    }
   ],
   "source": [
    "fig,ax1=plt.subplots()\n",
    "ax1.plot(np.random.randn(10))\n",
    "\n",
    "decorating_props={ \"title\":\"Line Plot\"} \n",
    "ax1.set(**decorating_props)\n",
    "\n",
    "ax1.set_xticks([1,2,3,4,5,6,7,8,9])\n",
    "ax1.legend(loc='best')\n",
    "plt.show()"
   ]
  },
  {
   "cell_type": "markdown",
   "id": "046a2929",
   "metadata": {},
   "source": [
    "### The labeling in Matplotlib is primarily concerned with the content inside the Axes object, like lines, bars, scatter points, or any other plot elements. These labels are then used by the legend to describe what each plot element represents. \n",
    "Note: The object return by line plot is list of line2D object even if we are plotting single line and thus from that list of line objects we need to select the interested one using ',' unpacking.\n",
    "\n",
    "first_line, second_line=ax1.plot([1,2,3],[4,5,6],[7,8,9])\n",
    "\n"
   ]
  },
  {
   "cell_type": "code",
   "execution_count": 32,
   "id": "9c995dec",
   "metadata": {},
   "outputs": [
    {
     "data": {
      "image/png": "[encoded data removed]",
      "text/plain": [
       "<Figure size 640x480 with 1 Axes>"
      ]
     },
     "metadata": {},
     "output_type": "display_data"
    }
   ],
   "source": [
    "fig,ax1=plt.subplots()\n",
    "line_plot,=ax1.plot(np.random.randn(10), label=\"Ok\") # line_plot uses \",\" unpacking \n",
    "#line_plot.set_label(\"Line\")\n",
    "\n",
    "decorating_props={ \"title\":\"Line Plot\"} \n",
    "ax1.set(**decorating_props)\n",
    "\n",
    "ax1.set_xticks([1,2,3,4,5,6,7,8,9])\n",
    "#ax1.legend(loc='best')\n",
    "plt.show()"
   ]
  },
  {
   "cell_type": "code",
   "execution_count": 33,
   "id": "650b79c1",
   "metadata": {},
   "outputs": [
    {
     "ename": "NameError",
     "evalue": "name 'middle_name' is not defined",
     "output_type": "error",
     "traceback": [
      "\u001b[1;31m---------------------------------------------------------------------------\u001b[0m",
      "\u001b[1;31mNameError\u001b[0m                                 Traceback (most recent call last)",
      "Cell \u001b[1;32mIn[33], line 2\u001b[0m\n\u001b[0;32m      1\u001b[0m first_name, \u001b[38;5;241m*\u001b[39m__\u001b[38;5;241m=\u001b[39m[\u001b[38;5;124m\"\u001b[39m\u001b[38;5;124mKaran\u001b[39m\u001b[38;5;124m\"\u001b[39m,\u001b[38;5;124m\"\u001b[39m\u001b[38;5;124mBudha\u001b[39m\u001b[38;5;124m\"\u001b[39m,\u001b[38;5;124m\"\u001b[39m\u001b[38;5;124m Air\u001b[39m\u001b[38;5;124m\"\u001b[39m]\n\u001b[1;32m----> 2\u001b[0m \u001b[38;5;28mprint\u001b[39m(middle_name)\n",
      "\u001b[1;31mNameError\u001b[0m: name 'middle_name' is not defined"
     ]
    }
   ],
   "source": [
    "first_name, *__=[\"Karan\",\"Budha\",\" Air\"]\n",
    "print(middle_name)"
   ]
  },
  {
   "cell_type": "code",
   "execution_count": 34,
   "id": "c6d067d3",
   "metadata": {},
   "outputs": [
    {
     "ename": "ValueError",
     "evalue": "too many values to unpack (expected 2)",
     "output_type": "error",
     "traceback": [
      "\u001b[1;31m---------------------------------------------------------------------------\u001b[0m",
      "\u001b[1;31mValueError\u001b[0m                                Traceback (most recent call last)",
      "Cell \u001b[1;32mIn[34], line 1\u001b[0m\n\u001b[1;32m----> 1\u001b[0m first_name,__ \u001b[38;5;241m=\u001b[39m [\u001b[38;5;124m\"\u001b[39m\u001b[38;5;124mKaran\u001b[39m\u001b[38;5;124m\"\u001b[39m,\u001b[38;5;124m\"\u001b[39m\u001b[38;5;124mBudha\u001b[39m\u001b[38;5;124m\"\u001b[39m,\u001b[38;5;124m\"\u001b[39m\u001b[38;5;124m Air\u001b[39m\u001b[38;5;124m\"\u001b[39m]\n",
      "\u001b[1;31mValueError\u001b[0m: too many values to unpack (expected 2)"
     ]
    }
   ],
   "source": [
    "first_name,__ = [\"Karan\",\"Budha\",\" Air\"]"
   ]
  },
  {
   "cell_type": "code",
   "execution_count": 35,
   "id": "1cb60374",
   "metadata": {},
   "outputs": [
    {
     "name": "stdout",
     "output_type": "stream",
     "text": [
      "Karan\n"
     ]
    }
   ],
   "source": [
    "first_name, __ , k= [\"Karan\", \"Budha\", \" Air\"]  # Unpacking the first item\n",
    "print(first_name)  # \"Karan\"\n"
   ]
  },
  {
   "cell_type": "code",
   "execution_count": 36,
   "id": "6e613e93",
   "metadata": {},
   "outputs": [
    {
     "data": {
      "text/html": [
       "<div>\n",
       "<style scoped>\n",
       "    .dataframe tbody tr th:only-of-type {\n",
       "        vertical-align: middle;\n",
       "    }\n",
       "\n",
       "    .dataframe tbody tr th {\n",
       "        vertical-align: top;\n",
       "    }\n",
       "\n",
       "    .dataframe thead th {\n",
       "        text-align: right;\n",
       "    }\n",
       "</style>\n",
       "<table border=\"1\" class=\"dataframe\">\n",
       "  <thead>\n",
       "    <tr style=\"text-align: right;\">\n",
       "      <th></th>\n",
       "      <th>CATEGORY</th>\n",
       "      <th>CITY</th>\n",
       "      <th>COUNTRY</th>\n",
       "      <th>CUSTOMER.ID</th>\n",
       "      <th>CUSTOMER.NAME</th>\n",
       "      <th>DISCOUNT</th>\n",
       "      <th>MARKET</th>\n",
       "      <th>记录数</th>\n",
       "      <th>ORDER.DATE</th>\n",
       "      <th>ORDER.ID</th>\n",
       "      <th>...</th>\n",
       "      <th>SALES</th>\n",
       "      <th>SEGMENT</th>\n",
       "      <th>SHIP.DATE</th>\n",
       "      <th>SHIP.MODE</th>\n",
       "      <th>SHIPPING.COST</th>\n",
       "      <th>STATE</th>\n",
       "      <th>SUB.CATEGORY</th>\n",
       "      <th>YEAR</th>\n",
       "      <th>MARKET2</th>\n",
       "      <th>WEEKNUM</th>\n",
       "    </tr>\n",
       "  </thead>\n",
       "  <tbody>\n",
       "    <tr>\n",
       "      <th>0</th>\n",
       "      <td>Office Supplies</td>\n",
       "      <td>Los Angeles</td>\n",
       "      <td>United States</td>\n",
       "      <td>LS-172304</td>\n",
       "      <td>Lycoris Saunders</td>\n",
       "      <td>0.0</td>\n",
       "      <td>US</td>\n",
       "      <td>1</td>\n",
       "      <td>2011-01-07 00:00:00.000</td>\n",
       "      <td>CA-2011-130813</td>\n",
       "      <td>...</td>\n",
       "      <td>19</td>\n",
       "      <td>Consumer</td>\n",
       "      <td>2011-01-09 00:00:00.000</td>\n",
       "      <td>Second Class</td>\n",
       "      <td>4.37</td>\n",
       "      <td>California</td>\n",
       "      <td>Paper</td>\n",
       "      <td>2011</td>\n",
       "      <td>North America</td>\n",
       "      <td>2</td>\n",
       "    </tr>\n",
       "    <tr>\n",
       "      <th>1</th>\n",
       "      <td>Office Supplies</td>\n",
       "      <td>Los Angeles</td>\n",
       "      <td>United States</td>\n",
       "      <td>MV-174854</td>\n",
       "      <td>Mark Van Huff</td>\n",
       "      <td>0.0</td>\n",
       "      <td>US</td>\n",
       "      <td>1</td>\n",
       "      <td>2011-01-21 00:00:00.000</td>\n",
       "      <td>CA-2011-148614</td>\n",
       "      <td>...</td>\n",
       "      <td>19</td>\n",
       "      <td>Consumer</td>\n",
       "      <td>2011-01-26 00:00:00.000</td>\n",
       "      <td>Standard Class</td>\n",
       "      <td>0.94</td>\n",
       "      <td>California</td>\n",
       "      <td>Paper</td>\n",
       "      <td>2011</td>\n",
       "      <td>North America</td>\n",
       "      <td>4</td>\n",
       "    </tr>\n",
       "    <tr>\n",
       "      <th>2</th>\n",
       "      <td>Office Supplies</td>\n",
       "      <td>Los Angeles</td>\n",
       "      <td>United States</td>\n",
       "      <td>CS-121304</td>\n",
       "      <td>Chad Sievert</td>\n",
       "      <td>0.0</td>\n",
       "      <td>US</td>\n",
       "      <td>1</td>\n",
       "      <td>2011-08-05 00:00:00.000</td>\n",
       "      <td>CA-2011-118962</td>\n",
       "      <td>...</td>\n",
       "      <td>21</td>\n",
       "      <td>Consumer</td>\n",
       "      <td>2011-08-09 00:00:00.000</td>\n",
       "      <td>Standard Class</td>\n",
       "      <td>1.81</td>\n",
       "      <td>California</td>\n",
       "      <td>Paper</td>\n",
       "      <td>2011</td>\n",
       "      <td>North America</td>\n",
       "      <td>32</td>\n",
       "    </tr>\n",
       "    <tr>\n",
       "      <th>3</th>\n",
       "      <td>Office Supplies</td>\n",
       "      <td>Los Angeles</td>\n",
       "      <td>United States</td>\n",
       "      <td>CS-121304</td>\n",
       "      <td>Chad Sievert</td>\n",
       "      <td>0.0</td>\n",
       "      <td>US</td>\n",
       "      <td>1</td>\n",
       "      <td>2011-08-05 00:00:00.000</td>\n",
       "      <td>CA-2011-118962</td>\n",
       "      <td>...</td>\n",
       "      <td>111</td>\n",
       "      <td>Consumer</td>\n",
       "      <td>2011-08-09 00:00:00.000</td>\n",
       "      <td>Standard Class</td>\n",
       "      <td>4.59</td>\n",
       "      <td>California</td>\n",
       "      <td>Paper</td>\n",
       "      <td>2011</td>\n",
       "      <td>North America</td>\n",
       "      <td>32</td>\n",
       "    </tr>\n",
       "    <tr>\n",
       "      <th>4</th>\n",
       "      <td>Office Supplies</td>\n",
       "      <td>Los Angeles</td>\n",
       "      <td>United States</td>\n",
       "      <td>AP-109154</td>\n",
       "      <td>Arthur Prichep</td>\n",
       "      <td>0.0</td>\n",
       "      <td>US</td>\n",
       "      <td>1</td>\n",
       "      <td>2011-09-29 00:00:00.000</td>\n",
       "      <td>CA-2011-146969</td>\n",
       "      <td>...</td>\n",
       "      <td>6</td>\n",
       "      <td>Consumer</td>\n",
       "      <td>2011-10-03 00:00:00.000</td>\n",
       "      <td>Standard Class</td>\n",
       "      <td>1.32</td>\n",
       "      <td>California</td>\n",
       "      <td>Paper</td>\n",
       "      <td>2011</td>\n",
       "      <td>North America</td>\n",
       "      <td>40</td>\n",
       "    </tr>\n",
       "  </tbody>\n",
       "</table>\n",
       "<p>5 rows × 27 columns</p>\n",
       "</div>"
      ],
      "text/plain": [
       "          CATEGORY         CITY        COUNTRY CUSTOMER.ID     CUSTOMER.NAME  \\\n",
       "0  Office Supplies  Los Angeles  United States   LS-172304  Lycoris Saunders   \n",
       "1  Office Supplies  Los Angeles  United States   MV-174854     Mark Van Huff   \n",
       "2  Office Supplies  Los Angeles  United States   CS-121304      Chad Sievert   \n",
       "3  Office Supplies  Los Angeles  United States   CS-121304      Chad Sievert   \n",
       "4  Office Supplies  Los Angeles  United States   AP-109154    Arthur Prichep   \n",
       "\n",
       "   DISCOUNT MARKET  记录数               ORDER.DATE        ORDER.ID  ... SALES  \\\n",
       "0       0.0     US    1  2011-01-07 00:00:00.000  CA-2011-130813  ...    19   \n",
       "1       0.0     US    1  2011-01-21 00:00:00.000  CA-2011-148614  ...    19   \n",
       "2       0.0     US    1  2011-08-05 00:00:00.000  CA-2011-118962  ...    21   \n",
       "3       0.0     US    1  2011-08-05 00:00:00.000  CA-2011-118962  ...   111   \n",
       "4       0.0     US    1  2011-09-29 00:00:00.000  CA-2011-146969  ...     6   \n",
       "\n",
       "    SEGMENT                SHIP.DATE       SHIP.MODE  SHIPPING.COST  \\\n",
       "0  Consumer  2011-01-09 00:00:00.000    Second Class           4.37   \n",
       "1  Consumer  2011-01-26 00:00:00.000  Standard Class           0.94   \n",
       "2  Consumer  2011-08-09 00:00:00.000  Standard Class           1.81   \n",
       "3  Consumer  2011-08-09 00:00:00.000  Standard Class           4.59   \n",
       "4  Consumer  2011-10-03 00:00:00.000  Standard Class           1.32   \n",
       "\n",
       "        STATE  SUB.CATEGORY  YEAR        MARKET2 WEEKNUM  \n",
       "0  California         Paper  2011  North America       2  \n",
       "1  California         Paper  2011  North America       4  \n",
       "2  California         Paper  2011  North America      32  \n",
       "3  California         Paper  2011  North America      32  \n",
       "4  California         Paper  2011  North America      40  \n",
       "\n",
       "[5 rows x 27 columns]"
      ]
     },
     "execution_count": 36,
     "metadata": {},
     "output_type": "execute_result"
    }
   ],
   "source": [
    "mySuperStoreDataFrame.head()"
   ]
  },
  {
   "cell_type": "code",
   "execution_count": 37,
   "id": "ce2ada8a",
   "metadata": {},
   "outputs": [
    {
     "data": {
      "text/plain": [
       "'CS'"
      ]
     },
     "execution_count": 37,
     "metadata": {},
     "output_type": "execute_result"
    }
   ],
   "source": [
    "id_name =[name[:1]for name in \"Chand Sievert\".split(' ')]\n",
    "id_name=id_name[0]+id_name[1]\n",
    "id_name"
   ]
  },
  {
   "cell_type": "code",
   "execution_count": 38,
   "id": "9c8ef166",
   "metadata": {
    "scrolled": true
   },
   "outputs": [
    {
     "data": {
      "text/plain": [
       "United States    9994\n",
       "Australia        2837\n",
       "France           2827\n",
       "Mexico           2644\n",
       "Germany          2065\n",
       "                 ... \n",
       "South Sudan         2\n",
       "Chad                2\n",
       "Swaziland           2\n",
       "Eritrea             2\n",
       "Bahrain             2\n",
       "Name: COUNTRY, Length: 147, dtype: int64"
      ]
     },
     "execution_count": 38,
     "metadata": {},
     "output_type": "execute_result"
    }
   ],
   "source": [
    "mySuperStoreDataFrame[\"COUNTRY\"].value_counts()"
   ]
  },
  {
   "cell_type": "code",
   "execution_count": 39,
   "id": "fe5d3461",
   "metadata": {},
   "outputs": [
    {
     "data": {
      "text/plain": [
       "0        Office Supplies\n",
       "1        Office Supplies\n",
       "2        Office Supplies\n",
       "3        Office Supplies\n",
       "4        Office Supplies\n",
       "              ...       \n",
       "51285    Office Supplies\n",
       "51286    Office Supplies\n",
       "51287    Office Supplies\n",
       "51288    Office Supplies\n",
       "51289    Office Supplies\n",
       "Name: CATEGORY, Length: 51290, dtype: object"
      ]
     },
     "execution_count": 39,
     "metadata": {},
     "output_type": "execute_result"
    }
   ],
   "source": [
    "mySuperStoreDataFrame[\"CATEGORY\"]"
   ]
  },
  {
   "cell_type": "code",
   "execution_count": 40,
   "id": "7ff7a801",
   "metadata": {},
   "outputs": [
    {
     "data": {
      "text/plain": [
       "Office Supplies    31273\n",
       "Technology         10141\n",
       "Furniture           9876\n",
       "Name: CATEGORY, dtype: int64"
      ]
     },
     "execution_count": 40,
     "metadata": {},
     "output_type": "execute_result"
    }
   ],
   "source": [
    "mySuperStoreDataFrame[\"CATEGORY\"].value_counts()"
   ]
  },
  {
   "cell_type": "code",
   "execution_count": 41,
   "id": "a407a14a",
   "metadata": {},
   "outputs": [
    {
     "name": "stdout",
     "output_type": "stream",
     "text": [
      "             COUNTRY\n",
      "0      United States\n",
      "1      United States\n",
      "2      United States\n",
      "3      United States\n",
      "4      United States\n",
      "...              ...\n",
      "51265  United States\n",
      "51266  United States\n",
      "51267  United States\n",
      "51268  United States\n",
      "51269  United States\n",
      "\n",
      "[51270 rows x 1 columns]\n"
     ]
    },
    {
     "data": {
      "text/html": [
       "<div>\n",
       "<style scoped>\n",
       "    .dataframe tbody tr th:only-of-type {\n",
       "        vertical-align: middle;\n",
       "    }\n",
       "\n",
       "    .dataframe tbody tr th {\n",
       "        vertical-align: top;\n",
       "    }\n",
       "\n",
       "    .dataframe thead th {\n",
       "        text-align: right;\n",
       "    }\n",
       "</style>\n",
       "<table border=\"1\" class=\"dataframe\">\n",
       "  <thead>\n",
       "    <tr style=\"text-align: right;\">\n",
       "      <th></th>\n",
       "    </tr>\n",
       "    <tr>\n",
       "      <th>COUNTRY</th>\n",
       "    </tr>\n",
       "  </thead>\n",
       "  <tbody>\n",
       "    <tr>\n",
       "      <th>United States</th>\n",
       "    </tr>\n",
       "    <tr>\n",
       "      <th>United States</th>\n",
       "    </tr>\n",
       "    <tr>\n",
       "      <th>United States</th>\n",
       "    </tr>\n",
       "    <tr>\n",
       "      <th>United States</th>\n",
       "    </tr>\n",
       "    <tr>\n",
       "      <th>United States</th>\n",
       "    </tr>\n",
       "  </tbody>\n",
       "</table>\n",
       "</div>"
      ],
      "text/plain": [
       "Empty DataFrame\n",
       "Columns: []\n",
       "Index: [United States, United States, United States, United States, United States]"
      ]
     },
     "execution_count": 41,
     "metadata": {},
     "output_type": "execute_result"
    }
   ],
   "source": [
    "countries=mySuperStoreDataFrame[ [\"COUNTRY\"]]\n",
    "print(countries[:-20])\n",
    "countries.index=countries[\"COUNTRY\"]\n",
    "united=countries.drop(\"COUNTRY\", axis=1)\n",
    "united.tail()"
   ]
  },
  {
   "cell_type": "code",
   "execution_count": 42,
   "id": "16e25574",
   "metadata": {
    "scrolled": true
   },
   "outputs": [
    {
     "name": "stdout",
     "output_type": "stream",
     "text": [
      "[6026 2121 1854 1847 1608 1492 1348 1091 1065  905  891  841  831  746\n",
      "  641  633  596  591  560  553]\n"
     ]
    }
   ],
   "source": [
    "United_States=mySuperStoreDataFrame[ [\"CATEGORY\",\"COUNTRY\"]].value_counts()[:20]\n",
    "print(United_States.values)"
   ]
  },
  {
   "cell_type": "code",
   "execution_count": 43,
   "id": "bbd7b8a6",
   "metadata": {},
   "outputs": [
    {
     "data": {
      "image/png": "[encoded data removed]",
      "text/plain": [
       "<Figure size 640x480 with 1 Axes>"
      ]
     },
     "metadata": {},
     "output_type": "display_data"
    }
   ],
   "source": [
    "United_States.plot(kind='bar')\n",
    "\n",
    "myplot.title(\"ok\")\n",
    "myplot.title(\"Countries and Categories\")\n",
    "#us_bar.xlabel(\"Items\")\n",
    "#us_bar.ylabel(\"Values\")\n",
    "myplot.show()"
   ]
  },
  {
   "cell_type": "code",
   "execution_count": 44,
   "id": "227d5d59",
   "metadata": {},
   "outputs": [
    {
     "name": "stdout",
     "output_type": "stream",
     "text": [
      "[  30   13   12    9    4    3  136   34   26   81   21   20  220   91\n",
      "   79    2    1 1608  633  596  218   61   52   18    6    5    1    1\n",
      "   89   40   34   13    7    6   59   12    9  104   23   20   27    7\n",
      "    1   27   13    8   12    4    1  891  381  327   47   15   13    2\n",
      "   22   12   11   70   24   16  277   65   42    5    2    2   75   36\n",
      "   32 1065  422  393  211   75   74   67   22   20   25    4    3  417\n",
      "  160  147   53   10    8  258   80   41   42   14    9    9    2    1\n",
      "  428  172  142   31   15   10  330   87   70  420  175  141    2    1\n",
      "    1    1    6    6    1    6    1   38   16   10 1854  553  420   12\n",
      "    1    1   25    5    3 1348  399  318   62   30   10    5    2    1\n",
      "  284  120  117   15    3    5    4   61   27   16  406  161  146   14\n",
      "    4    3   48   13    5  841  360  354  831  280  279  398  121   88\n",
      "  256   67   65   72   21   13   67   24   12  746  207  155   16   11\n",
      "    4  143   55   52   27    8    7   69   19   13   74   15    9   33\n",
      "    4    3    5    4    3    4    2    8    4    3   25    8    6   30\n",
      "   10   10    3    1   35   12    9   92   48   36   27    9    7   19\n",
      "    4    2    7    2    1 1492  641  511   25    9    5   30    4    3\n",
      "    3    1  311   78   62   59   18   17   70   37   29    6    3   12\n",
      "    4    3  274   81   80  340  147  141  358  135  121   32    8    3\n",
      "  591  186  128   46   18    6  134   60   55  232   80   76   13    5\n",
      "    4    5    4    3   98   39   25  359  173  149  157   49   46   47\n",
      "   13   10   10    4    2    3    3  104   35   34  252   76   56   22\n",
      "    9    5  231   74   56   67   30   15    9    5    1   87   31   23\n",
      "    7    1    2    1   37    8    7  287  104   70  103   35   34    2\n",
      "  560  161  138    5    1    1   58   19   15    1    1  133   36   34\n",
      "   54   13   11   17   10    2    7    6    1    2    1  110   25   13\n",
      "  171   64   60   28    8    8   17    9    4   11    1    1  905  260\n",
      "  213   15    7    3   21    8    8  249   74   58   11    2    1 1091\n",
      "  318  224 6026 2121 1847   15    6    3   30   14    4  125   35   34\n",
      "  141   63   61   19    6    5   62   21   19   64    9    7]\n",
      "MultiIndex([('Afghanistan', 'Office Supplies'),\n",
      "            ('Afghanistan',       'Furniture'),\n",
      "            ('Afghanistan',      'Technology'),\n",
      "            (    'Albania', 'Office Supplies'),\n",
      "            (    'Albania',      'Technology'),\n",
      "            (    'Albania',       'Furniture'),\n",
      "            (    'Algeria', 'Office Supplies'),\n",
      "            (    'Algeria',      'Technology'),\n",
      "            (    'Algeria',       'Furniture'),\n",
      "            (     'Angola', 'Office Supplies'),\n",
      "            ...\n",
      "            (    'Vietnam',      'Technology'),\n",
      "            (      'Yemen', 'Office Supplies'),\n",
      "            (      'Yemen',      'Technology'),\n",
      "            (      'Yemen',       'Furniture'),\n",
      "            (     'Zambia', 'Office Supplies'),\n",
      "            (     'Zambia',       'Furniture'),\n",
      "            (     'Zambia',      'Technology'),\n",
      "            (   'Zimbabwe', 'Office Supplies'),\n",
      "            (   'Zimbabwe',      'Technology'),\n",
      "            (   'Zimbabwe',       'Furniture')],\n",
      "           names=['COUNTRY', 'CATEGORY'], length=418)\n"
     ]
    },
    {
     "data": {
      "image/png": "[encoded data removed]",
      "text/plain": [
       "<Figure size 640x480 with 2 Axes>"
      ]
     },
     "metadata": {},
     "output_type": "display_data"
    }
   ],
   "source": [
    "grouped_data=mySuperStoreDataFrame[[\"COUNTRY\",\"CATEGORY\"]].groupby(\"COUNTRY\").value_counts()\n",
    "\n",
    "fix, axes=myplot.subplots(2,1)\n",
    "#axes[0,0].bar(grouped_data.index, grouped_data.values)\n",
    "grouped_data[:2].plot(kind='bar', ax=axes[0])\n",
    "print(grouped_data.values)\n",
    "print(grouped_data.index)"
   ]
  },
  {
   "cell_type": "code",
   "execution_count": 45,
   "id": "69642736",
   "metadata": {},
   "outputs": [
    {
     "data": {
      "text/plain": [
       "Karan    3\n",
       "Budha    3\n",
       "Air      3\n",
       "dtype: int64"
      ]
     },
     "execution_count": 45,
     "metadata": {},
     "output_type": "execute_result"
    }
   ],
   "source": [
    "mySeries=pd.Series([\"Karan\", \"Budha\", \"Air\"]*3, index=range(0,9))\n",
    "mySeries.value_counts()"
   ]
  },
  {
   "cell_type": "code",
   "execution_count": 46,
   "id": "63c02ae1",
   "metadata": {},
   "outputs": [
    {
     "data": {
      "text/plain": [
       "Karan    3\n",
       "Budha    3\n",
       "Air      3\n",
       "dtype: int64"
      ]
     },
     "execution_count": 46,
     "metadata": {},
     "output_type": "execute_result"
    }
   ],
   "source": [
    "mySeries=pd.Series([\"Karan\", \"Budha\", \"Air\"]*3, index=['a','b','c']*3)\n",
    "mySeries.value_counts()"
   ]
  },
  {
   "cell_type": "code",
   "execution_count": 47,
   "id": "018587d1",
   "metadata": {},
   "outputs": [
    {
     "data": {
      "text/plain": [
       "array([  30,   13,   12,    9,    4,    3,  136,   34,   26,   81,   21,\n",
       "         20,  220,   91,   79,    2,    1, 1608,  633,  596], dtype=int64)"
      ]
     },
     "execution_count": 47,
     "metadata": {},
     "output_type": "execute_result"
    }
   ],
   "source": [
    "grouped_data.values[:20]"
   ]
  },
  {
   "cell_type": "code",
   "execution_count": 48,
   "id": "06619ee2",
   "metadata": {},
   "outputs": [
    {
     "data": {
      "text/plain": [
       "COUNTRY      CATEGORY       \n",
       "Afghanistan  Office Supplies    30\n",
       "             Furniture          13\n",
       "             Technology         12\n",
       "Albania      Office Supplies     9\n",
       "             Technology          4\n",
       "                                ..\n",
       "Zambia       Furniture          21\n",
       "             Technology         19\n",
       "Zimbabwe     Office Supplies    64\n",
       "             Technology          9\n",
       "             Furniture           7\n",
       "Name: total item, Length: 418, dtype: int64"
      ]
     },
     "execution_count": 48,
     "metadata": {},
     "output_type": "execute_result"
    }
   ],
   "source": [
    "grouped_data.name=\"total item\"\n",
    "grouped_data"
   ]
  },
  {
   "cell_type": "code",
   "execution_count": 49,
   "id": "a1f3faf3",
   "metadata": {},
   "outputs": [
    {
     "data": {
      "text/plain": [
       "COUNTRY         CATEGORY       \n",
       "Australia       Office Supplies    1608\n",
       "                Technology          633\n",
       "                Furniture           596\n",
       "Brazil          Office Supplies     891\n",
       "China           Office Supplies    1065\n",
       "France          Office Supplies    1854\n",
       "                Technology          553\n",
       "Germany         Office Supplies    1348\n",
       "India           Office Supplies     841\n",
       "Indonesia       Office Supplies     831\n",
       "Italy           Office Supplies     746\n",
       "Mexico          Office Supplies    1492\n",
       "                Furniture           641\n",
       "                Technology          511\n",
       "Nigeria         Office Supplies     591\n",
       "Spain           Office Supplies     560\n",
       "Turkey          Office Supplies     905\n",
       "United Kingdom  Office Supplies    1091\n",
       "United States   Office Supplies    6026\n",
       "                Furniture          2121\n",
       "                Technology         1847\n",
       "Name: total item, dtype: int64"
      ]
     },
     "execution_count": 49,
     "metadata": {},
     "output_type": "execute_result"
    }
   ],
   "source": [
    "grouped_data[grouped_data>500]"
   ]
  },
  {
   "cell_type": "code",
   "execution_count": 50,
   "id": "c85642a7",
   "metadata": {},
   "outputs": [
    {
     "name": "stdout",
     "output_type": "stream",
     "text": [
      "THe max value is:  6026 and min value is: 1\n"
     ]
    }
   ],
   "source": [
    "print(\"THe max value is: \" ,grouped_data.max() , \"and min value is:\", grouped_data.min())"
   ]
  },
  {
   "cell_type": "code",
   "execution_count": 51,
   "id": "f0eb44c5",
   "metadata": {},
   "outputs": [
    {
     "data": {
      "text/html": [
       "<div>\n",
       "<style scoped>\n",
       "    .dataframe tbody tr th:only-of-type {\n",
       "        vertical-align: middle;\n",
       "    }\n",
       "\n",
       "    .dataframe tbody tr th {\n",
       "        vertical-align: top;\n",
       "    }\n",
       "\n",
       "    .dataframe thead th {\n",
       "        text-align: right;\n",
       "    }\n",
       "</style>\n",
       "<table border=\"1\" class=\"dataframe\">\n",
       "  <thead>\n",
       "    <tr style=\"text-align: right;\">\n",
       "      <th></th>\n",
       "      <th>COUNTRY</th>\n",
       "      <th>CATEGORY</th>\n",
       "      <th>total item</th>\n",
       "    </tr>\n",
       "  </thead>\n",
       "  <tbody>\n",
       "    <tr>\n",
       "      <th>0</th>\n",
       "      <td>United States</td>\n",
       "      <td>Office Supplies</td>\n",
       "      <td>6026</td>\n",
       "    </tr>\n",
       "    <tr>\n",
       "      <th>1</th>\n",
       "      <td>United States</td>\n",
       "      <td>Furniture</td>\n",
       "      <td>2121</td>\n",
       "    </tr>\n",
       "    <tr>\n",
       "      <th>2</th>\n",
       "      <td>France</td>\n",
       "      <td>Office Supplies</td>\n",
       "      <td>1854</td>\n",
       "    </tr>\n",
       "    <tr>\n",
       "      <th>3</th>\n",
       "      <td>United States</td>\n",
       "      <td>Technology</td>\n",
       "      <td>1847</td>\n",
       "    </tr>\n",
       "    <tr>\n",
       "      <th>4</th>\n",
       "      <td>Australia</td>\n",
       "      <td>Office Supplies</td>\n",
       "      <td>1608</td>\n",
       "    </tr>\n",
       "    <tr>\n",
       "      <th>...</th>\n",
       "      <td>...</td>\n",
       "      <td>...</td>\n",
       "      <td>...</td>\n",
       "    </tr>\n",
       "    <tr>\n",
       "      <th>413</th>\n",
       "      <td>Benin</td>\n",
       "      <td>Furniture</td>\n",
       "      <td>1</td>\n",
       "    </tr>\n",
       "    <tr>\n",
       "      <th>414</th>\n",
       "      <td>Gabon</td>\n",
       "      <td>Technology</td>\n",
       "      <td>1</td>\n",
       "    </tr>\n",
       "    <tr>\n",
       "      <th>415</th>\n",
       "      <td>Tunisia</td>\n",
       "      <td>Technology</td>\n",
       "      <td>1</td>\n",
       "    </tr>\n",
       "    <tr>\n",
       "      <th>416</th>\n",
       "      <td>Tunisia</td>\n",
       "      <td>Furniture</td>\n",
       "      <td>1</td>\n",
       "    </tr>\n",
       "    <tr>\n",
       "      <th>417</th>\n",
       "      <td>Ethiopia</td>\n",
       "      <td>Technology</td>\n",
       "      <td>1</td>\n",
       "    </tr>\n",
       "  </tbody>\n",
       "</table>\n",
       "<p>418 rows × 3 columns</p>\n",
       "</div>"
      ],
      "text/plain": [
       "           COUNTRY         CATEGORY  total item\n",
       "0    United States  Office Supplies        6026\n",
       "1    United States        Furniture        2121\n",
       "2           France  Office Supplies        1854\n",
       "3    United States       Technology        1847\n",
       "4        Australia  Office Supplies        1608\n",
       "..             ...              ...         ...\n",
       "413          Benin        Furniture           1\n",
       "414          Gabon       Technology           1\n",
       "415        Tunisia       Technology           1\n",
       "416        Tunisia        Furniture           1\n",
       "417       Ethiopia       Technology           1\n",
       "\n",
       "[418 rows x 3 columns]"
      ]
     },
     "execution_count": 51,
     "metadata": {},
     "output_type": "execute_result"
    }
   ],
   "source": [
    "\n",
    "grouped_data_frame=grouped_data.sort_values(ascending=False).reset_index()\n",
    "grouped_data_frame"
   ]
  },
  {
   "cell_type": "markdown",
   "id": "543ea6bc",
   "metadata": {},
   "source": [
    "### Both iloc[] and loc[] are the indexer, that work based on index value\n",
    "THe value inside the indexer should be one dimensional array of anything that is valid for data frame like array of boolean, array of index label or array of index integers"
   ]
  },
  {
   "cell_type": "code",
   "execution_count": 52,
   "id": "c3f55a07",
   "metadata": {},
   "outputs": [
    {
     "data": {
      "text/html": [
       "<div>\n",
       "<style scoped>\n",
       "    .dataframe tbody tr th:only-of-type {\n",
       "        vertical-align: middle;\n",
       "    }\n",
       "\n",
       "    .dataframe tbody tr th {\n",
       "        vertical-align: top;\n",
       "    }\n",
       "\n",
       "    .dataframe thead th {\n",
       "        text-align: right;\n",
       "    }\n",
       "</style>\n",
       "<table border=\"1\" class=\"dataframe\">\n",
       "  <thead>\n",
       "    <tr style=\"text-align: right;\">\n",
       "      <th></th>\n",
       "      <th>COUNTRY</th>\n",
       "      <th>CATEGORY</th>\n",
       "      <th>total item</th>\n",
       "    </tr>\n",
       "  </thead>\n",
       "  <tbody>\n",
       "    <tr>\n",
       "      <th>0</th>\n",
       "      <td>United States</td>\n",
       "      <td>Office Supplies</td>\n",
       "      <td>6026</td>\n",
       "    </tr>\n",
       "    <tr>\n",
       "      <th>1</th>\n",
       "      <td>United States</td>\n",
       "      <td>Furniture</td>\n",
       "      <td>2121</td>\n",
       "    </tr>\n",
       "    <tr>\n",
       "      <th>3</th>\n",
       "      <td>United States</td>\n",
       "      <td>Technology</td>\n",
       "      <td>1847</td>\n",
       "    </tr>\n",
       "  </tbody>\n",
       "</table>\n",
       "</div>"
      ],
      "text/plain": [
       "         COUNTRY         CATEGORY  total item\n",
       "0  United States  Office Supplies        6026\n",
       "1  United States        Furniture        2121\n",
       "3  United States       Technology        1847"
      ]
     },
     "execution_count": 52,
     "metadata": {},
     "output_type": "execute_result"
    }
   ],
   "source": [
    "grouped_data_frame.loc[grouped_data_frame[\"COUNTRY\"]==\"United States\"]\n"
   ]
  },
  {
   "cell_type": "code",
   "execution_count": 53,
   "id": "53d60c21",
   "metadata": {},
   "outputs": [
    {
     "data": {
      "text/html": [
       "<div>\n",
       "<style scoped>\n",
       "    .dataframe tbody tr th:only-of-type {\n",
       "        vertical-align: middle;\n",
       "    }\n",
       "\n",
       "    .dataframe tbody tr th {\n",
       "        vertical-align: top;\n",
       "    }\n",
       "\n",
       "    .dataframe thead th {\n",
       "        text-align: right;\n",
       "    }\n",
       "</style>\n",
       "<table border=\"1\" class=\"dataframe\">\n",
       "  <thead>\n",
       "    <tr style=\"text-align: right;\">\n",
       "      <th></th>\n",
       "      <th>COUNTRY</th>\n",
       "      <th>CATEGORY</th>\n",
       "      <th>total item</th>\n",
       "    </tr>\n",
       "  </thead>\n",
       "  <tbody>\n",
       "    <tr>\n",
       "      <th>0</th>\n",
       "      <td>United States</td>\n",
       "      <td>Office Supplies</td>\n",
       "      <td>6026</td>\n",
       "    </tr>\n",
       "    <tr>\n",
       "      <th>1</th>\n",
       "      <td>United States</td>\n",
       "      <td>Furniture</td>\n",
       "      <td>2121</td>\n",
       "    </tr>\n",
       "    <tr>\n",
       "      <th>2</th>\n",
       "      <td>France</td>\n",
       "      <td>Office Supplies</td>\n",
       "      <td>1854</td>\n",
       "    </tr>\n",
       "    <tr>\n",
       "      <th>3</th>\n",
       "      <td>United States</td>\n",
       "      <td>Technology</td>\n",
       "      <td>1847</td>\n",
       "    </tr>\n",
       "    <tr>\n",
       "      <th>4</th>\n",
       "      <td>Australia</td>\n",
       "      <td>Office Supplies</td>\n",
       "      <td>1608</td>\n",
       "    </tr>\n",
       "    <tr>\n",
       "      <th>5</th>\n",
       "      <td>Mexico</td>\n",
       "      <td>Office Supplies</td>\n",
       "      <td>1492</td>\n",
       "    </tr>\n",
       "    <tr>\n",
       "      <th>6</th>\n",
       "      <td>Germany</td>\n",
       "      <td>Office Supplies</td>\n",
       "      <td>1348</td>\n",
       "    </tr>\n",
       "    <tr>\n",
       "      <th>7</th>\n",
       "      <td>United Kingdom</td>\n",
       "      <td>Office Supplies</td>\n",
       "      <td>1091</td>\n",
       "    </tr>\n",
       "    <tr>\n",
       "      <th>8</th>\n",
       "      <td>China</td>\n",
       "      <td>Office Supplies</td>\n",
       "      <td>1065</td>\n",
       "    </tr>\n",
       "    <tr>\n",
       "      <th>9</th>\n",
       "      <td>Turkey</td>\n",
       "      <td>Office Supplies</td>\n",
       "      <td>905</td>\n",
       "    </tr>\n",
       "    <tr>\n",
       "      <th>10</th>\n",
       "      <td>Brazil</td>\n",
       "      <td>Office Supplies</td>\n",
       "      <td>891</td>\n",
       "    </tr>\n",
       "    <tr>\n",
       "      <th>11</th>\n",
       "      <td>India</td>\n",
       "      <td>Office Supplies</td>\n",
       "      <td>841</td>\n",
       "    </tr>\n",
       "    <tr>\n",
       "      <th>12</th>\n",
       "      <td>Indonesia</td>\n",
       "      <td>Office Supplies</td>\n",
       "      <td>831</td>\n",
       "    </tr>\n",
       "    <tr>\n",
       "      <th>13</th>\n",
       "      <td>Italy</td>\n",
       "      <td>Office Supplies</td>\n",
       "      <td>746</td>\n",
       "    </tr>\n",
       "    <tr>\n",
       "      <th>14</th>\n",
       "      <td>Mexico</td>\n",
       "      <td>Furniture</td>\n",
       "      <td>641</td>\n",
       "    </tr>\n",
       "    <tr>\n",
       "      <th>15</th>\n",
       "      <td>Australia</td>\n",
       "      <td>Technology</td>\n",
       "      <td>633</td>\n",
       "    </tr>\n",
       "    <tr>\n",
       "      <th>16</th>\n",
       "      <td>Australia</td>\n",
       "      <td>Furniture</td>\n",
       "      <td>596</td>\n",
       "    </tr>\n",
       "    <tr>\n",
       "      <th>17</th>\n",
       "      <td>Nigeria</td>\n",
       "      <td>Office Supplies</td>\n",
       "      <td>591</td>\n",
       "    </tr>\n",
       "    <tr>\n",
       "      <th>18</th>\n",
       "      <td>Spain</td>\n",
       "      <td>Office Supplies</td>\n",
       "      <td>560</td>\n",
       "    </tr>\n",
       "    <tr>\n",
       "      <th>19</th>\n",
       "      <td>France</td>\n",
       "      <td>Technology</td>\n",
       "      <td>553</td>\n",
       "    </tr>\n",
       "  </tbody>\n",
       "</table>\n",
       "</div>"
      ],
      "text/plain": [
       "           COUNTRY         CATEGORY  total item\n",
       "0    United States  Office Supplies        6026\n",
       "1    United States        Furniture        2121\n",
       "2           France  Office Supplies        1854\n",
       "3    United States       Technology        1847\n",
       "4        Australia  Office Supplies        1608\n",
       "5           Mexico  Office Supplies        1492\n",
       "6          Germany  Office Supplies        1348\n",
       "7   United Kingdom  Office Supplies        1091\n",
       "8            China  Office Supplies        1065\n",
       "9           Turkey  Office Supplies         905\n",
       "10          Brazil  Office Supplies         891\n",
       "11           India  Office Supplies         841\n",
       "12       Indonesia  Office Supplies         831\n",
       "13           Italy  Office Supplies         746\n",
       "14          Mexico        Furniture         641\n",
       "15       Australia       Technology         633\n",
       "16       Australia        Furniture         596\n",
       "17         Nigeria  Office Supplies         591\n",
       "18           Spain  Office Supplies         560\n",
       "19          France       Technology         553"
      ]
     },
     "execution_count": 53,
     "metadata": {},
     "output_type": "execute_result"
    }
   ],
   "source": [
    "grouped_data_frame.iloc[:20]"
   ]
  },
  {
   "cell_type": "code",
   "execution_count": 54,
   "id": "61f8f152",
   "metadata": {},
   "outputs": [
    {
     "ename": "NotImplementedError",
     "evalue": "iLocation based boolean indexing on an integer type is not available",
     "output_type": "error",
     "traceback": [
      "\u001b[1;31m---------------------------------------------------------------------------\u001b[0m",
      "\u001b[1;31mNotImplementedError\u001b[0m                       Traceback (most recent call last)",
      "Cell \u001b[1;32mIn[54], line 1\u001b[0m\n\u001b[1;32m----> 1\u001b[0m grouped_data_frame\u001b[38;5;241m.\u001b[39miloc[(grouped_data_frame[\u001b[38;5;124m'\u001b[39m\u001b[38;5;124mtotal item\u001b[39m\u001b[38;5;124m'\u001b[39m]\u001b[38;5;241m>\u001b[39m\u001b[38;5;241m1000\u001b[39m)]\n",
      "File \u001b[1;32m~\\anaconda3\\Lib\\site-packages\\pandas\\core\\indexing.py:1073\u001b[0m, in \u001b[0;36m_LocationIndexer.__getitem__\u001b[1;34m(self, key)\u001b[0m\n\u001b[0;32m   1070\u001b[0m axis \u001b[38;5;241m=\u001b[39m \u001b[38;5;28mself\u001b[39m\u001b[38;5;241m.\u001b[39maxis \u001b[38;5;129;01mor\u001b[39;00m \u001b[38;5;241m0\u001b[39m\n\u001b[0;32m   1072\u001b[0m maybe_callable \u001b[38;5;241m=\u001b[39m com\u001b[38;5;241m.\u001b[39mapply_if_callable(key, \u001b[38;5;28mself\u001b[39m\u001b[38;5;241m.\u001b[39mobj)\n\u001b[1;32m-> 1073\u001b[0m \u001b[38;5;28;01mreturn\u001b[39;00m \u001b[38;5;28mself\u001b[39m\u001b[38;5;241m.\u001b[39m_getitem_axis(maybe_callable, axis\u001b[38;5;241m=\u001b[39maxis)\n",
      "File \u001b[1;32m~\\anaconda3\\Lib\\site-packages\\pandas\\core\\indexing.py:1611\u001b[0m, in \u001b[0;36m_iLocIndexer._getitem_axis\u001b[1;34m(self, key, axis)\u001b[0m\n\u001b[0;32m   1608\u001b[0m     key \u001b[38;5;241m=\u001b[39m np\u001b[38;5;241m.\u001b[39masarray(key)\n\u001b[0;32m   1610\u001b[0m \u001b[38;5;28;01mif\u001b[39;00m com\u001b[38;5;241m.\u001b[39mis_bool_indexer(key):\n\u001b[1;32m-> 1611\u001b[0m     \u001b[38;5;28mself\u001b[39m\u001b[38;5;241m.\u001b[39m_validate_key(key, axis)\n\u001b[0;32m   1612\u001b[0m     \u001b[38;5;28;01mreturn\u001b[39;00m \u001b[38;5;28mself\u001b[39m\u001b[38;5;241m.\u001b[39m_getbool_axis(key, axis\u001b[38;5;241m=\u001b[39maxis)\n\u001b[0;32m   1614\u001b[0m \u001b[38;5;66;03m# a list of integers\u001b[39;00m\n",
      "File \u001b[1;32m~\\anaconda3\\Lib\\site-packages\\pandas\\core\\indexing.py:1452\u001b[0m, in \u001b[0;36m_iLocIndexer._validate_key\u001b[1;34m(self, key, axis)\u001b[0m\n\u001b[0;32m   1450\u001b[0m \u001b[38;5;28;01mif\u001b[39;00m \u001b[38;5;28mhasattr\u001b[39m(key, \u001b[38;5;124m\"\u001b[39m\u001b[38;5;124mindex\u001b[39m\u001b[38;5;124m\"\u001b[39m) \u001b[38;5;129;01mand\u001b[39;00m \u001b[38;5;28misinstance\u001b[39m(key\u001b[38;5;241m.\u001b[39mindex, Index):\n\u001b[0;32m   1451\u001b[0m     \u001b[38;5;28;01mif\u001b[39;00m key\u001b[38;5;241m.\u001b[39mindex\u001b[38;5;241m.\u001b[39minferred_type \u001b[38;5;241m==\u001b[39m \u001b[38;5;124m\"\u001b[39m\u001b[38;5;124minteger\u001b[39m\u001b[38;5;124m\"\u001b[39m:\n\u001b[1;32m-> 1452\u001b[0m         \u001b[38;5;28;01mraise\u001b[39;00m \u001b[38;5;167;01mNotImplementedError\u001b[39;00m(\n\u001b[0;32m   1453\u001b[0m             \u001b[38;5;124m\"\u001b[39m\u001b[38;5;124miLocation based boolean \u001b[39m\u001b[38;5;124m\"\u001b[39m\n\u001b[0;32m   1454\u001b[0m             \u001b[38;5;124m\"\u001b[39m\u001b[38;5;124mindexing on an integer type \u001b[39m\u001b[38;5;124m\"\u001b[39m\n\u001b[0;32m   1455\u001b[0m             \u001b[38;5;124m\"\u001b[39m\u001b[38;5;124mis not available\u001b[39m\u001b[38;5;124m\"\u001b[39m\n\u001b[0;32m   1456\u001b[0m         )\n\u001b[0;32m   1457\u001b[0m     \u001b[38;5;28;01mraise\u001b[39;00m \u001b[38;5;167;01mValueError\u001b[39;00m(\n\u001b[0;32m   1458\u001b[0m         \u001b[38;5;124m\"\u001b[39m\u001b[38;5;124miLocation based boolean indexing cannot use \u001b[39m\u001b[38;5;124m\"\u001b[39m\n\u001b[0;32m   1459\u001b[0m         \u001b[38;5;124m\"\u001b[39m\u001b[38;5;124man indexable as a mask\u001b[39m\u001b[38;5;124m\"\u001b[39m\n\u001b[0;32m   1460\u001b[0m     )\n\u001b[0;32m   1461\u001b[0m \u001b[38;5;28;01mreturn\u001b[39;00m\n",
      "\u001b[1;31mNotImplementedError\u001b[0m: iLocation based boolean indexing on an integer type is not available"
     ]
    }
   ],
   "source": [
    "grouped_data_frame.iloc[(grouped_data_frame['total item']>1000)]"
   ]
  },
  {
   "cell_type": "markdown",
   "id": "f2822988",
   "metadata": {},
   "source": [
    "### Since the (grouped_data_frame['total item']>1000) gives you the series of boolean values so we need to convert it into array using .values like below"
   ]
  },
  {
   "cell_type": "code",
   "execution_count": null,
   "id": "06ce5ed7",
   "metadata": {},
   "outputs": [],
   "source": [
    "grouped_data_frame.iloc[(grouped_data_frame['total item']>1000).values]"
   ]
  },
  {
   "cell_type": "code",
   "execution_count": 55,
   "id": "c2551192",
   "metadata": {},
   "outputs": [
    {
     "data": {
      "text/html": [
       "<div>\n",
       "<style scoped>\n",
       "    .dataframe tbody tr th:only-of-type {\n",
       "        vertical-align: middle;\n",
       "    }\n",
       "\n",
       "    .dataframe tbody tr th {\n",
       "        vertical-align: top;\n",
       "    }\n",
       "\n",
       "    .dataframe thead th {\n",
       "        text-align: right;\n",
       "    }\n",
       "</style>\n",
       "<table border=\"1\" class=\"dataframe\">\n",
       "  <thead>\n",
       "    <tr style=\"text-align: right;\">\n",
       "      <th></th>\n",
       "      <th>COUNTRY</th>\n",
       "      <th>CATEGORY</th>\n",
       "      <th>total item</th>\n",
       "    </tr>\n",
       "  </thead>\n",
       "  <tbody>\n",
       "    <tr>\n",
       "      <th>0</th>\n",
       "      <td>Afghanistan</td>\n",
       "      <td>Office Supplies</td>\n",
       "      <td>30</td>\n",
       "    </tr>\n",
       "    <tr>\n",
       "      <th>1</th>\n",
       "      <td>Afghanistan</td>\n",
       "      <td>Furniture</td>\n",
       "      <td>13</td>\n",
       "    </tr>\n",
       "    <tr>\n",
       "      <th>2</th>\n",
       "      <td>Afghanistan</td>\n",
       "      <td>Technology</td>\n",
       "      <td>12</td>\n",
       "    </tr>\n",
       "    <tr>\n",
       "      <th>3</th>\n",
       "      <td>Albania</td>\n",
       "      <td>Office Supplies</td>\n",
       "      <td>9</td>\n",
       "    </tr>\n",
       "    <tr>\n",
       "      <th>4</th>\n",
       "      <td>Albania</td>\n",
       "      <td>Technology</td>\n",
       "      <td>4</td>\n",
       "    </tr>\n",
       "    <tr>\n",
       "      <th>...</th>\n",
       "      <td>...</td>\n",
       "      <td>...</td>\n",
       "      <td>...</td>\n",
       "    </tr>\n",
       "    <tr>\n",
       "      <th>413</th>\n",
       "      <td>Zambia</td>\n",
       "      <td>Furniture</td>\n",
       "      <td>21</td>\n",
       "    </tr>\n",
       "    <tr>\n",
       "      <th>414</th>\n",
       "      <td>Zambia</td>\n",
       "      <td>Technology</td>\n",
       "      <td>19</td>\n",
       "    </tr>\n",
       "    <tr>\n",
       "      <th>415</th>\n",
       "      <td>Zimbabwe</td>\n",
       "      <td>Office Supplies</td>\n",
       "      <td>64</td>\n",
       "    </tr>\n",
       "    <tr>\n",
       "      <th>416</th>\n",
       "      <td>Zimbabwe</td>\n",
       "      <td>Technology</td>\n",
       "      <td>9</td>\n",
       "    </tr>\n",
       "    <tr>\n",
       "      <th>417</th>\n",
       "      <td>Zimbabwe</td>\n",
       "      <td>Furniture</td>\n",
       "      <td>7</td>\n",
       "    </tr>\n",
       "  </tbody>\n",
       "</table>\n",
       "<p>418 rows × 3 columns</p>\n",
       "</div>"
      ],
      "text/plain": [
       "         COUNTRY         CATEGORY  total item\n",
       "0    Afghanistan  Office Supplies          30\n",
       "1    Afghanistan        Furniture          13\n",
       "2    Afghanistan       Technology          12\n",
       "3        Albania  Office Supplies           9\n",
       "4        Albania       Technology           4\n",
       "..           ...              ...         ...\n",
       "413       Zambia        Furniture          21\n",
       "414       Zambia       Technology          19\n",
       "415     Zimbabwe  Office Supplies          64\n",
       "416     Zimbabwe       Technology           9\n",
       "417     Zimbabwe        Furniture           7\n",
       "\n",
       "[418 rows x 3 columns]"
      ]
     },
     "execution_count": 55,
     "metadata": {},
     "output_type": "execute_result"
    }
   ],
   "source": [
    "grouped_frame=grouped_data.reset_index()\n",
    "grouped_frame\n"
   ]
  },
  {
   "cell_type": "markdown",
   "id": "33ecd674",
   "metadata": {},
   "source": [
    "## Behavior of df.plot(kind='bar'):\n",
    "Default Selection:\n",
    "\n",
    "The index of the DataFrame is used for the x-axis.\n",
    "The values of the remaining columns (numerical data) are plotted along the y-axis.\n",
    "Any non-numeric columns are ignored in the plotting."
   ]
  },
  {
   "cell_type": "code",
   "execution_count": 56,
   "id": "4c5f0c18",
   "metadata": {},
   "outputs": [
    {
     "name": "stdout",
     "output_type": "stream",
     "text": [
      "                     COUNTRY         CATEGORY  total item\n",
      "CATEGORY                                                 \n",
      "Office Supplies  Afghanistan  Office Supplies          30\n",
      "Furniture        Afghanistan        Furniture          13\n",
      "Technology       Afghanistan       Technology          12\n"
     ]
    },
    {
     "data": {
      "text/plain": [
       "<Axes: xlabel='CATEGORY'>"
      ]
     },
     "execution_count": 56,
     "metadata": {},
     "output_type": "execute_result"
    },
    {
     "data": {
      "image/png": "[encoded data removed]",
      "text/plain": [
       "<Figure size 640x480 with 1 Axes>"
      ]
     },
     "metadata": {},
     "output_type": "display_data"
    }
   ],
   "source": [
    "grouped_frame=grouped_data.reset_index()\n",
    "grouped_frame.index=grouped_frame[\"CATEGORY\"]\n",
    "\n",
    "print(grouped_frame.loc[grouped_frame['COUNTRY']==\"Afghanistan\"])\n",
    "\n",
    "grouped_frame.loc[grouped_frame['COUNTRY']==\"Afghanistan\"].plot(kind='bar')"
   ]
  },
  {
   "cell_type": "code",
   "execution_count": 57,
   "id": "2d9d0ffc",
   "metadata": {},
   "outputs": [
    {
     "data": {
      "text/plain": [
       "<Axes: xlabel='CATEGORY'>"
      ]
     },
     "execution_count": 57,
     "metadata": {},
     "output_type": "execute_result"
    },
    {
     "data": {
      "image/png": "[encoded data removed]",
      "text/plain": [
       "<Figure size 640x480 with 1 Axes>"
      ]
     },
     "metadata": {},
     "output_type": "display_data"
    }
   ],
   "source": [
    "grouped_frame.loc[grouped_frame['COUNTRY']==\"United States\"].plot(kind='line')"
   ]
  },
  {
   "cell_type": "code",
   "execution_count": 58,
   "id": "e6e39510",
   "metadata": {},
   "outputs": [
    {
     "data": {
      "text/html": [
       "<div>\n",
       "<style scoped>\n",
       "    .dataframe tbody tr th:only-of-type {\n",
       "        vertical-align: middle;\n",
       "    }\n",
       "\n",
       "    .dataframe tbody tr th {\n",
       "        vertical-align: top;\n",
       "    }\n",
       "\n",
       "    .dataframe thead th {\n",
       "        text-align: right;\n",
       "    }\n",
       "</style>\n",
       "<table border=\"1\" class=\"dataframe\">\n",
       "  <thead>\n",
       "    <tr style=\"text-align: right;\">\n",
       "      <th></th>\n",
       "      <th>COUNTRY</th>\n",
       "      <th>CATEGORY</th>\n",
       "      <th>total item</th>\n",
       "    </tr>\n",
       "    <tr>\n",
       "      <th>CATEGORY</th>\n",
       "      <th></th>\n",
       "      <th></th>\n",
       "      <th></th>\n",
       "    </tr>\n",
       "  </thead>\n",
       "  <tbody>\n",
       "    <tr>\n",
       "      <th>Office Supplies</th>\n",
       "      <td>Eritrea</td>\n",
       "      <td>Office Supplies</td>\n",
       "      <td>1</td>\n",
       "    </tr>\n",
       "    <tr>\n",
       "      <th>Furniture</th>\n",
       "      <td>Montenegro</td>\n",
       "      <td>Furniture</td>\n",
       "      <td>1</td>\n",
       "    </tr>\n",
       "    <tr>\n",
       "      <th>Furniture</th>\n",
       "      <td>Bosnia and Herzegovina</td>\n",
       "      <td>Furniture</td>\n",
       "      <td>1</td>\n",
       "    </tr>\n",
       "    <tr>\n",
       "      <th>Furniture</th>\n",
       "      <td>Mauritania</td>\n",
       "      <td>Furniture</td>\n",
       "      <td>1</td>\n",
       "    </tr>\n",
       "    <tr>\n",
       "      <th>Furniture</th>\n",
       "      <td>Benin</td>\n",
       "      <td>Furniture</td>\n",
       "      <td>1</td>\n",
       "    </tr>\n",
       "    <tr>\n",
       "      <th>...</th>\n",
       "      <td>...</td>\n",
       "      <td>...</td>\n",
       "      <td>...</td>\n",
       "    </tr>\n",
       "    <tr>\n",
       "      <th>Office Supplies</th>\n",
       "      <td>Australia</td>\n",
       "      <td>Office Supplies</td>\n",
       "      <td>1608</td>\n",
       "    </tr>\n",
       "    <tr>\n",
       "      <th>Technology</th>\n",
       "      <td>United States</td>\n",
       "      <td>Technology</td>\n",
       "      <td>1847</td>\n",
       "    </tr>\n",
       "    <tr>\n",
       "      <th>Office Supplies</th>\n",
       "      <td>France</td>\n",
       "      <td>Office Supplies</td>\n",
       "      <td>1854</td>\n",
       "    </tr>\n",
       "    <tr>\n",
       "      <th>Furniture</th>\n",
       "      <td>United States</td>\n",
       "      <td>Furniture</td>\n",
       "      <td>2121</td>\n",
       "    </tr>\n",
       "    <tr>\n",
       "      <th>Office Supplies</th>\n",
       "      <td>United States</td>\n",
       "      <td>Office Supplies</td>\n",
       "      <td>6026</td>\n",
       "    </tr>\n",
       "  </tbody>\n",
       "</table>\n",
       "<p>418 rows × 3 columns</p>\n",
       "</div>"
      ],
      "text/plain": [
       "                                COUNTRY         CATEGORY  total item\n",
       "CATEGORY                                                            \n",
       "Office Supplies                 Eritrea  Office Supplies           1\n",
       "Furniture                    Montenegro        Furniture           1\n",
       "Furniture        Bosnia and Herzegovina        Furniture           1\n",
       "Furniture                    Mauritania        Furniture           1\n",
       "Furniture                         Benin        Furniture           1\n",
       "...                                 ...              ...         ...\n",
       "Office Supplies               Australia  Office Supplies        1608\n",
       "Technology                United States       Technology        1847\n",
       "Office Supplies                  France  Office Supplies        1854\n",
       "Furniture                 United States        Furniture        2121\n",
       "Office Supplies           United States  Office Supplies        6026\n",
       "\n",
       "[418 rows x 3 columns]"
      ]
     },
     "execution_count": 58,
     "metadata": {},
     "output_type": "execute_result"
    }
   ],
   "source": [
    "grouped_frame.sort_values(by='total item')"
   ]
  },
  {
   "cell_type": "markdown",
   "id": "62c429ca",
   "metadata": {},
   "source": [
    "### When you call groupby(),\n",
    "it returns a DataFrameGroupBy object. This is an intermediate state that represents the grouped data but hasn't yet been aggregated or transformed into a concrete Series or DataFrame.\n",
    "The groupby() object is a specialized structure used to hold grouped data, and operations like sum(), mean(), or apply() are typically performed on it."
   ]
  },
  {
   "cell_type": "code",
   "execution_count": 59,
   "id": "b8c5e6aa",
   "metadata": {},
   "outputs": [
    {
     "ename": "AttributeError",
     "evalue": "'DataFrameGroupBy' object has no attribute 'reset_index'",
     "output_type": "error",
     "traceback": [
      "\u001b[1;31m---------------------------------------------------------------------------\u001b[0m",
      "\u001b[1;31mAttributeError\u001b[0m                            Traceback (most recent call last)",
      "Cell \u001b[1;32mIn[59], line 1\u001b[0m\n\u001b[1;32m----> 1\u001b[0m grouped_frame\u001b[38;5;241m.\u001b[39msort_values(by\u001b[38;5;241m=\u001b[39m\u001b[38;5;124m'\u001b[39m\u001b[38;5;124mtotal item\u001b[39m\u001b[38;5;124m'\u001b[39m)\u001b[38;5;241m.\u001b[39mgroupby(\u001b[38;5;124m\"\u001b[39m\u001b[38;5;124mCOUNTRY\u001b[39m\u001b[38;5;124m\"\u001b[39m)\u001b[38;5;241m.\u001b[39mreset_index()\n",
      "File \u001b[1;32m~\\anaconda3\\Lib\\site-packages\\pandas\\core\\groupby\\groupby.py:987\u001b[0m, in \u001b[0;36mGroupBy.__getattr__\u001b[1;34m(self, attr)\u001b[0m\n\u001b[0;32m    984\u001b[0m \u001b[38;5;28;01mif\u001b[39;00m attr \u001b[38;5;129;01min\u001b[39;00m \u001b[38;5;28mself\u001b[39m\u001b[38;5;241m.\u001b[39mobj:\n\u001b[0;32m    985\u001b[0m     \u001b[38;5;28;01mreturn\u001b[39;00m \u001b[38;5;28mself\u001b[39m[attr]\n\u001b[1;32m--> 987\u001b[0m \u001b[38;5;28;01mraise\u001b[39;00m \u001b[38;5;167;01mAttributeError\u001b[39;00m(\n\u001b[0;32m    988\u001b[0m     \u001b[38;5;124mf\u001b[39m\u001b[38;5;124m\"\u001b[39m\u001b[38;5;124m'\u001b[39m\u001b[38;5;132;01m{\u001b[39;00m\u001b[38;5;28mtype\u001b[39m(\u001b[38;5;28mself\u001b[39m)\u001b[38;5;241m.\u001b[39m\u001b[38;5;18m__name__\u001b[39m\u001b[38;5;132;01m}\u001b[39;00m\u001b[38;5;124m'\u001b[39m\u001b[38;5;124m object has no attribute \u001b[39m\u001b[38;5;124m'\u001b[39m\u001b[38;5;132;01m{\u001b[39;00mattr\u001b[38;5;132;01m}\u001b[39;00m\u001b[38;5;124m'\u001b[39m\u001b[38;5;124m\"\u001b[39m\n\u001b[0;32m    989\u001b[0m )\n",
      "\u001b[1;31mAttributeError\u001b[0m: 'DataFrameGroupBy' object has no attribute 'reset_index'"
     ]
    }
   ],
   "source": [
    "grouped_frame.sort_values(by='total item').groupby(\"COUNTRY\").reset_index()\n",
    "# grouped_frame.sort_values(by='total item').groupby(\"COUNTRY\").mean().reset_index()"
   ]
  },
  {
   "cell_type": "code",
   "execution_count": null,
   "id": "24adc195",
   "metadata": {},
   "outputs": [],
   "source": [
    "grouped_data"
   ]
  },
  {
   "cell_type": "code",
   "execution_count": null,
   "id": "b9e0379a",
   "metadata": {},
   "outputs": [],
   "source": [
    "highFurtnitureSellingCountries=grouped_data.loc[:,\"Furniture\"]\n",
    "highFurtnitureSellingCountries=highFurtnitureSellingCountries[highFurtnitureSellingCountries>100]\n"
   ]
  },
  {
   "cell_type": "code",
   "execution_count": 60,
   "id": "3f155d43",
   "metadata": {
    "scrolled": true
   },
   "outputs": [
    {
     "ename": "NameError",
     "evalue": "name 'highFurtnitureSellingCountries' is not defined",
     "output_type": "error",
     "traceback": [
      "\u001b[1;31m---------------------------------------------------------------------------\u001b[0m",
      "\u001b[1;31mNameError\u001b[0m                                 Traceback (most recent call last)",
      "Cell \u001b[1;32mIn[60], line 1\u001b[0m\n\u001b[1;32m----> 1\u001b[0m highFurtnitureSellingCountries\u001b[38;5;241m.\u001b[39mplot(kind\u001b[38;5;241m=\u001b[39m\u001b[38;5;124m'\u001b[39m\u001b[38;5;124mbar\u001b[39m\u001b[38;5;124m'\u001b[39m, label\u001b[38;5;241m=\u001b[39m\u001b[38;5;124m'\u001b[39m\u001b[38;5;124mHigh Funiture Selling Countries\u001b[39m\u001b[38;5;124m'\u001b[39m)\n\u001b[0;32m      2\u001b[0m myplot\u001b[38;5;241m.\u001b[39mxlabel(\u001b[38;5;124m\"\u001b[39m\u001b[38;5;124mCounties\u001b[39m\u001b[38;5;124m\"\u001b[39m)\n\u001b[0;32m      3\u001b[0m myplot\u001b[38;5;241m.\u001b[39mylabel(\u001b[38;5;124m\"\u001b[39m\u001b[38;5;124mValues in Unit Number\u001b[39m\u001b[38;5;124m\"\u001b[39m)\n",
      "\u001b[1;31mNameError\u001b[0m: name 'highFurtnitureSellingCountries' is not defined"
     ]
    }
   ],
   "source": [
    "highFurtnitureSellingCountries.plot(kind='bar', label='High Funiture Selling Countries')\n",
    "myplot.xlabel(\"Counties\")\n",
    "myplot.ylabel(\"Values in Unit Number\")\n",
    "myplot.legend(loc='best')"
   ]
  },
  {
   "cell_type": "markdown",
   "id": "7ef5fa12",
   "metadata": {},
   "source": [
    "### Note\n",
    "It is quiet interesting that how group by works. This mechanism is similar for both single or multi level index. Based on the index or level provided, the method first groups the data meaning rearranges the data. "
   ]
  },
  {
   "cell_type": "code",
   "execution_count": 61,
   "id": "ca59fa06",
   "metadata": {},
   "outputs": [
    {
     "name": "stdout",
     "output_type": "stream",
     "text": [
      "COUNTRY             CATEGORY \n",
      "Australia           Furniture    596\n",
      "Brazil              Furniture    381\n",
      "China               Furniture    422\n",
      "Cuba                Furniture    147\n",
      "Dominican Republic  Furniture    172\n",
      "Name: total item, dtype: int64\n",
      "\n",
      "NOtice the difference\n",
      "COUNTRY    total item\n",
      "Australia  596           1\n",
      "           633           1\n",
      "Brazil     327           1\n",
      "Name: total item, dtype: int64\n"
     ]
    }
   ],
   "source": [
    "highFurtnitureSellingCountries=grouped_data.loc[:,[\"Furniture\",\"Technology\"]]\n",
    "highFurtnitureSellingCountries=highFurtnitureSellingCountries[highFurtnitureSellingCountries>100]\n",
    "print(highFurtnitureSellingCountries.head())\n",
    "print(\"\\nNOtice the difference\")\n",
    "print(highFurtnitureSellingCountries.groupby([\"COUNTRY\"]).value_counts()[:3])"
   ]
  },
  {
   "cell_type": "markdown",
   "id": "2bb14c3b",
   "metadata": {},
   "source": [
    "## Note two particular index together needs to be in tuple form ('ram','shyam')\n",
    "For multilevel index we can choose the indexes in following ways keeping the columns style as it is\n",
    "\n",
    "#### df.loc['value']: Access data by the first index (e.g., country).\n",
    "\n",
    "#### df.loc[:, 'value']: Access data by the second index (e.g., category).\n",
    "#### df.loc[('value1', 'value2')]: Access data for specific country-category pair.\n",
    "#### df.loc['start':'end', 'category']: Slice data between two countries for a specific category.\n",
    "#### df.xs('value', level='LEVEL_NAME'): Extract data for a particular level (e.g., category).\n",
    "#### reset_index(): Flatten the MultiIndex into columns.\n",
    "#### set_index(): Set columns as a MultiIndex."
   ]
  },
  {
   "cell_type": "code",
   "execution_count": 62,
   "id": "ef96c02a",
   "metadata": {},
   "outputs": [],
   "source": [
    "highTechnologySellingCountries=grouped_data.loc[:,\"Technology\",grouped_data.values>100]\n",
    "#highTechnologySellingCountries=highTechnologySellingCountries[highTechnologySellingCountries>100]\n"
   ]
  },
  {
   "cell_type": "code",
   "execution_count": 63,
   "id": "e32ee6f2",
   "metadata": {},
   "outputs": [
    {
     "data": {
      "text/plain": [
       "<matplotlib.legend.Legend at 0x28198ec1750>"
      ]
     },
     "execution_count": 63,
     "metadata": {},
     "output_type": "execute_result"
    },
    {
     "data": {
      "image/png": "[encoded data removed]",
      "text/plain": [
       "<Figure size 640x480 with 1 Axes>"
      ]
     },
     "metadata": {},
     "output_type": "display_data"
    }
   ],
   "source": [
    "highTechnologySellingCountries.plot(kind='bar', color='y', label=\"Technology\")\n",
    "myplot.title(\"Countires With Technology\")\n",
    "myplot.legend(loc='best')"
   ]
  },
  {
   "cell_type": "code",
   "execution_count": 64,
   "id": "60e18a9d",
   "metadata": {},
   "outputs": [
    {
     "data": {
      "text/html": [
       "<div>\n",
       "<style scoped>\n",
       "    .dataframe tbody tr th:only-of-type {\n",
       "        vertical-align: middle;\n",
       "    }\n",
       "\n",
       "    .dataframe tbody tr th {\n",
       "        vertical-align: top;\n",
       "    }\n",
       "\n",
       "    .dataframe thead th {\n",
       "        text-align: right;\n",
       "    }\n",
       "</style>\n",
       "<table border=\"1\" class=\"dataframe\">\n",
       "  <thead>\n",
       "    <tr style=\"text-align: right;\">\n",
       "      <th></th>\n",
       "      <th>COUNTRY</th>\n",
       "      <th>CATEGORY</th>\n",
       "      <th>total item</th>\n",
       "      <th>Dummy</th>\n",
       "    </tr>\n",
       "  </thead>\n",
       "  <tbody>\n",
       "    <tr>\n",
       "      <th>0</th>\n",
       "      <td>United States</td>\n",
       "      <td>Office Supplies</td>\n",
       "      <td>6026</td>\n",
       "      <td>0</td>\n",
       "    </tr>\n",
       "    <tr>\n",
       "      <th>1</th>\n",
       "      <td>United States</td>\n",
       "      <td>Furniture</td>\n",
       "      <td>2121</td>\n",
       "      <td>1</td>\n",
       "    </tr>\n",
       "    <tr>\n",
       "      <th>2</th>\n",
       "      <td>France</td>\n",
       "      <td>Office Supplies</td>\n",
       "      <td>1854</td>\n",
       "      <td>2</td>\n",
       "    </tr>\n",
       "    <tr>\n",
       "      <th>3</th>\n",
       "      <td>United States</td>\n",
       "      <td>Technology</td>\n",
       "      <td>1847</td>\n",
       "      <td>3</td>\n",
       "    </tr>\n",
       "    <tr>\n",
       "      <th>4</th>\n",
       "      <td>Australia</td>\n",
       "      <td>Office Supplies</td>\n",
       "      <td>1608</td>\n",
       "      <td>4</td>\n",
       "    </tr>\n",
       "    <tr>\n",
       "      <th>...</th>\n",
       "      <td>...</td>\n",
       "      <td>...</td>\n",
       "      <td>...</td>\n",
       "      <td>...</td>\n",
       "    </tr>\n",
       "    <tr>\n",
       "      <th>413</th>\n",
       "      <td>Benin</td>\n",
       "      <td>Furniture</td>\n",
       "      <td>1</td>\n",
       "      <td>413</td>\n",
       "    </tr>\n",
       "    <tr>\n",
       "      <th>414</th>\n",
       "      <td>Gabon</td>\n",
       "      <td>Technology</td>\n",
       "      <td>1</td>\n",
       "      <td>414</td>\n",
       "    </tr>\n",
       "    <tr>\n",
       "      <th>415</th>\n",
       "      <td>Tunisia</td>\n",
       "      <td>Technology</td>\n",
       "      <td>1</td>\n",
       "      <td>415</td>\n",
       "    </tr>\n",
       "    <tr>\n",
       "      <th>416</th>\n",
       "      <td>Tunisia</td>\n",
       "      <td>Furniture</td>\n",
       "      <td>1</td>\n",
       "      <td>416</td>\n",
       "    </tr>\n",
       "    <tr>\n",
       "      <th>417</th>\n",
       "      <td>Ethiopia</td>\n",
       "      <td>Technology</td>\n",
       "      <td>1</td>\n",
       "      <td>417</td>\n",
       "    </tr>\n",
       "  </tbody>\n",
       "</table>\n",
       "<p>418 rows × 4 columns</p>\n",
       "</div>"
      ],
      "text/plain": [
       "           COUNTRY         CATEGORY  total item  Dummy\n",
       "0    United States  Office Supplies        6026      0\n",
       "1    United States        Furniture        2121      1\n",
       "2           France  Office Supplies        1854      2\n",
       "3    United States       Technology        1847      3\n",
       "4        Australia  Office Supplies        1608      4\n",
       "..             ...              ...         ...    ...\n",
       "413          Benin        Furniture           1    413\n",
       "414          Gabon       Technology           1    414\n",
       "415        Tunisia       Technology           1    415\n",
       "416        Tunisia        Furniture           1    416\n",
       "417       Ethiopia       Technology           1    417\n",
       "\n",
       "[418 rows x 4 columns]"
      ]
     },
     "execution_count": 64,
     "metadata": {},
     "output_type": "execute_result"
    }
   ],
   "source": [
    "grouped_data_frame['Dummy']=range(len(grouped_data_frame['total item']))\n",
    "grouped_data_frame"
   ]
  },
  {
   "cell_type": "code",
   "execution_count": 65,
   "id": "c296693c",
   "metadata": {},
   "outputs": [
    {
     "data": {
      "text/html": [
       "<div>\n",
       "<style scoped>\n",
       "    .dataframe tbody tr th:only-of-type {\n",
       "        vertical-align: middle;\n",
       "    }\n",
       "\n",
       "    .dataframe tbody tr th {\n",
       "        vertical-align: top;\n",
       "    }\n",
       "\n",
       "    .dataframe thead th {\n",
       "        text-align: right;\n",
       "    }\n",
       "</style>\n",
       "<table border=\"1\" class=\"dataframe\">\n",
       "  <thead>\n",
       "    <tr style=\"text-align: right;\">\n",
       "      <th></th>\n",
       "      <th>total item</th>\n",
       "      <th>Dummy</th>\n",
       "    </tr>\n",
       "    <tr>\n",
       "      <th>COUNTRY</th>\n",
       "      <th></th>\n",
       "      <th></th>\n",
       "    </tr>\n",
       "  </thead>\n",
       "  <tbody>\n",
       "    <tr>\n",
       "      <th>United States</th>\n",
       "      <td>6026</td>\n",
       "      <td>0</td>\n",
       "    </tr>\n",
       "    <tr>\n",
       "      <th>United States</th>\n",
       "      <td>2121</td>\n",
       "      <td>1</td>\n",
       "    </tr>\n",
       "    <tr>\n",
       "      <th>United States</th>\n",
       "      <td>1847</td>\n",
       "      <td>3</td>\n",
       "    </tr>\n",
       "  </tbody>\n",
       "</table>\n",
       "</div>"
      ],
      "text/plain": [
       "               total item  Dummy\n",
       "COUNTRY                         \n",
       "United States        6026      0\n",
       "United States        2121      1\n",
       "United States        1847      3"
      ]
     },
     "execution_count": 65,
     "metadata": {},
     "output_type": "execute_result"
    }
   ],
   "source": [
    "grouped_data_frame.index=grouped_data_frame[\"COUNTRY\"]\n",
    "\n",
    "grouped_data_frame.loc[\"United States\", [\"total item\",\"Dummy\"]]"
   ]
  },
  {
   "cell_type": "code",
   "execution_count": 66,
   "id": "a021677a",
   "metadata": {},
   "outputs": [
    {
     "data": {
      "text/plain": [
       "COUNTRY      CATEGORY       \n",
       "Afghanistan  Office Supplies    30\n",
       "             Furniture          13\n",
       "             Technology         12\n",
       "Albania      Office Supplies     9\n",
       "             Technology          4\n",
       "Name: total item, dtype: int64"
      ]
     },
     "execution_count": 66,
     "metadata": {},
     "output_type": "execute_result"
    }
   ],
   "source": [
    "grouped_data.head()"
   ]
  },
  {
   "cell_type": "code",
   "execution_count": 67,
   "id": "79b44c6d",
   "metadata": {},
   "outputs": [
    {
     "data": {
      "text/plain": [
       "COUNTRY    CATEGORY       \n",
       "Australia  Office Supplies    1608\n",
       "           Technology          633\n",
       "           Furniture           596\n",
       "Brazil     Office Supplies     891\n",
       "China      Office Supplies    1065\n",
       "France     Office Supplies    1854\n",
       "           Technology          553\n",
       "Germany    Office Supplies    1348\n",
       "India      Office Supplies     841\n",
       "Indonesia  Office Supplies     831\n",
       "Italy      Office Supplies     746\n",
       "Mexico     Office Supplies    1492\n",
       "           Furniture           641\n",
       "           Technology          511\n",
       "Nigeria    Office Supplies     591\n",
       "Spain      Office Supplies     560\n",
       "Name: total item, dtype: int64"
      ]
     },
     "execution_count": 67,
     "metadata": {},
     "output_type": "execute_result"
    }
   ],
   "source": [
    "grouped_data.loc[:\"Technology\", grouped_data.values>500] #Slcining of rows upto technology\n",
    "# row (level 1 and level 2 with column of values )  row1, row2, column"
   ]
  },
  {
   "cell_type": "code",
   "execution_count": 68,
   "id": "44044011",
   "metadata": {},
   "outputs": [
    {
     "ename": "AttributeError",
     "evalue": "'Series' object has no attribute 'level'",
     "output_type": "error",
     "traceback": [
      "\u001b[1;31m---------------------------------------------------------------------------\u001b[0m",
      "\u001b[1;31mAttributeError\u001b[0m                            Traceback (most recent call last)",
      "Cell \u001b[1;32mIn[68], line 1\u001b[0m\n\u001b[1;32m----> 1\u001b[0m grouped_data\u001b[38;5;241m.\u001b[39mloc[grouped_data\u001b[38;5;241m.\u001b[39mlevel\u001b[38;5;241m==\u001b[39m\u001b[38;5;124m\"\u001b[39m\u001b[38;5;124mIndia\u001b[39m\u001b[38;5;124m\"\u001b[39m]\n",
      "File \u001b[1;32m~\\anaconda3\\Lib\\site-packages\\pandas\\core\\generic.py:5902\u001b[0m, in \u001b[0;36mNDFrame.__getattr__\u001b[1;34m(self, name)\u001b[0m\n\u001b[0;32m   5895\u001b[0m \u001b[38;5;28;01mif\u001b[39;00m (\n\u001b[0;32m   5896\u001b[0m     name \u001b[38;5;129;01mnot\u001b[39;00m \u001b[38;5;129;01min\u001b[39;00m \u001b[38;5;28mself\u001b[39m\u001b[38;5;241m.\u001b[39m_internal_names_set\n\u001b[0;32m   5897\u001b[0m     \u001b[38;5;129;01mand\u001b[39;00m name \u001b[38;5;129;01mnot\u001b[39;00m \u001b[38;5;129;01min\u001b[39;00m \u001b[38;5;28mself\u001b[39m\u001b[38;5;241m.\u001b[39m_metadata\n\u001b[0;32m   5898\u001b[0m     \u001b[38;5;129;01mand\u001b[39;00m name \u001b[38;5;129;01mnot\u001b[39;00m \u001b[38;5;129;01min\u001b[39;00m \u001b[38;5;28mself\u001b[39m\u001b[38;5;241m.\u001b[39m_accessors\n\u001b[0;32m   5899\u001b[0m     \u001b[38;5;129;01mand\u001b[39;00m \u001b[38;5;28mself\u001b[39m\u001b[38;5;241m.\u001b[39m_info_axis\u001b[38;5;241m.\u001b[39m_can_hold_identifiers_and_holds_name(name)\n\u001b[0;32m   5900\u001b[0m ):\n\u001b[0;32m   5901\u001b[0m     \u001b[38;5;28;01mreturn\u001b[39;00m \u001b[38;5;28mself\u001b[39m[name]\n\u001b[1;32m-> 5902\u001b[0m \u001b[38;5;28;01mreturn\u001b[39;00m \u001b[38;5;28mobject\u001b[39m\u001b[38;5;241m.\u001b[39m\u001b[38;5;21m__getattribute__\u001b[39m(\u001b[38;5;28mself\u001b[39m, name)\n",
      "\u001b[1;31mAttributeError\u001b[0m: 'Series' object has no attribute 'level'"
     ]
    }
   ],
   "source": [
    "grouped_data.loc[grouped_data.level==\"India\"]"
   ]
  },
  {
   "cell_type": "markdown",
   "id": "27d184bb",
   "metadata": {},
   "source": [
    "## Selecting all the countries that starts with character \"A\""
   ]
  },
  {
   "cell_type": "code",
   "execution_count": null,
   "id": "81c786ff",
   "metadata": {},
   "outputs": [],
   "source": [
    "# THe idea is to pass first level with the list of countries that starts with letter A\n",
    "grouped_data.loc[['India','United States'],:,grouped_data.values>355]"
   ]
  },
  {
   "cell_type": "code",
   "execution_count": null,
   "id": "74859851",
   "metadata": {},
   "outputs": [],
   "source": [
    "#all_Countries[0].startswith(\"A\")\n",
    "countries_With_Letter_A=all_Countries.map(lambda x: x.startswith(\"A\"))\n",
    "countries_With_Letter_A"
   ]
  },
  {
   "cell_type": "code",
   "execution_count": null,
   "id": "3369a866",
   "metadata": {},
   "outputs": [],
   "source": [
    "all_Countries=grouped_data.reset_index()[\"COUNTRY\"]\n",
    "all_Countries"
   ]
  },
  {
   "cell_type": "code",
   "execution_count": null,
   "id": "490f28ec",
   "metadata": {},
   "outputs": [],
   "source": [
    "all_Countires_With_A=grouped_data.loc[countries_With_Letter_A,:]\n",
    "print(all_Countires_With_A)"
   ]
  },
  {
   "cell_type": "code",
   "execution_count": null,
   "id": "cd22bf8d",
   "metadata": {},
   "outputs": [],
   "source": [
    "all_Countires_With_A.plot(kind='bar', title=\"Countries Name Starting With A\")"
   ]
  },
  {
   "cell_type": "markdown",
   "id": "393bd316",
   "metadata": {},
   "source": [
    "# Length Must Be Same\n",
    "The most important thing to filter the data is to have filtering values like boolean of same length as of original data\n",
    "The other thing is it is easy to work with one level index such that we can extract the length easily as shown in example below"
   ]
  },
  {
   "cell_type": "code",
   "execution_count": null,
   "id": "088171b0",
   "metadata": {},
   "outputs": [],
   "source": [
    "grouped_data.loc[grouped_data.reset_index()[\"COUNTRY\"].map(lambda x: x.startswith(\"A\")),:, grouped_data.values>50].plot(kind='bar', color='g')"
   ]
  },
  {
   "cell_type": "code",
   "execution_count": null,
   "id": "6ec839f9",
   "metadata": {},
   "outputs": [],
   "source": [
    "mySuperStoreDataFrame.sort_values(by=\"SHIPPING.COST\", ascending=False)"
   ]
  },
  {
   "cell_type": "code",
   "execution_count": null,
   "id": "90b87154",
   "metadata": {},
   "outputs": [],
   "source": [
    "mySuperStoreDataFrame.sort_values(by=\"SHIPPING.COST\", ascending=False).iloc[13542,4]"
   ]
  },
  {
   "cell_type": "code",
   "execution_count": null,
   "id": "f9f7cdf0",
   "metadata": {},
   "outputs": [],
   "source": [
    "mySuperStoreDataFrame[\"CUSTOMER.NAME\"]==\"Clay Cheatham\""
   ]
  },
  {
   "cell_type": "code",
   "execution_count": null,
   "id": "ba1a3761",
   "metadata": {},
   "outputs": [],
   "source": [
    "columns_to_select=mySuperStoreDataFrame[\"CUSTOMER.NAME\"]==\"Clay Cheatham\""
   ]
  },
  {
   "cell_type": "code",
   "execution_count": null,
   "id": "ca5a5495",
   "metadata": {},
   "outputs": [],
   "source": [
    "mySuperStoreDataFrame.loc[:,\"CUSTOMER.NAME\"]"
   ]
  },
  {
   "cell_type": "code",
   "execution_count": null,
   "id": "44bf27eb",
   "metadata": {},
   "outputs": [],
   "source": [
    "mySuperStoreDataFrame.sort_values(by=\"SHIPPING.COST\", ascending=False)"
   ]
  },
  {
   "cell_type": "code",
   "execution_count": null,
   "id": "24fe0d56",
   "metadata": {},
   "outputs": [],
   "source": [
    "mySuperStoreDataFrame.sort_values(by=\"SHIPPING.COST\", ascending=False).min()"
   ]
  },
  {
   "cell_type": "code",
   "execution_count": null,
   "id": "db3fa2c5",
   "metadata": {},
   "outputs": [],
   "source": [
    "mySuperStoreDataFrame.sort_values(by=\"SHIPPING.COST\", ascending=False).max()"
   ]
  },
  {
   "cell_type": "code",
   "execution_count": null,
   "id": "d96c883d",
   "metadata": {},
   "outputs": [],
   "source": [
    "mySuperStoreDataFrame.sort_values(by=\"SHIPPING.COST\", ascending=False)[\"ORDER.DATE\"].max()"
   ]
  },
  {
   "cell_type": "code",
   "execution_count": null,
   "id": "311050e0",
   "metadata": {},
   "outputs": [],
   "source": [
    "mySuperStoreDataFrame.sort_values(by=\"SHIPPING.COST\", ascending=False).loc[mySuperStoreDataFrame[\"COUNTRY\"].values==\"South Sudan\",:].reset_index(drop=True)"
   ]
  },
  {
   "cell_type": "code",
   "execution_count": null,
   "id": "8b210a1f",
   "metadata": {},
   "outputs": [],
   "source": [
    "mySuperStoreDataFrame[\"COUNTRY\"].value_counts()"
   ]
  },
  {
   "cell_type": "code",
   "execution_count": null,
   "id": "117612e0",
   "metadata": {},
   "outputs": [],
   "source": [
    "mySuperStoreDataFrame.sort_values(by=\"SHIPPING.COST\", ascending=False).loc[mySuperStoreDataFrame[\"COUNTRY\"].values==\"South Sudan\",[\"COUNTRY\",\"SEGMENT\", \"SHIP.DATE\"]].reset_index(drop=True)"
   ]
  },
  {
   "cell_type": "code",
   "execution_count": null,
   "id": "bd22e4ae",
   "metadata": {},
   "outputs": [],
   "source": [
    "country_count=mySuperStoreDataFrame[\"COUNTRY\"].value_counts()\n",
    "country_count.loc[:,country_count.values<5]"
   ]
  },
  {
   "cell_type": "code",
   "execution_count": null,
   "id": "da1b89ef",
   "metadata": {},
   "outputs": [],
   "source": [
    "mySuperStoreDataFrame.sort_values(by=\"SHIPPING.COST\", ascending=False).loc[mySuperStoreDataFrame[\"COUNTRY\"].values==\"Swaziland\",[\"COUNTRY\",\"SEGMENT\", \"SHIP.DATE\"]].reset_index(drop=True)"
   ]
  },
  {
   "cell_type": "code",
   "execution_count": null,
   "id": "b5ded9b4",
   "metadata": {},
   "outputs": [],
   "source": [
    "\n",
    "import pandas as pd\n",
    "\n",
    "# Create data\n",
    "data = [100, 200, 150, 300, 250]\n",
    "countries = ['USA', 'USA', 'India', 'India', 'India']\n",
    "categories = ['Technology', 'Furniture', 'Technology', 'Furniture', 'Office Supplies']\n",
    "\n",
    "# Create MultiIndex\n",
    "multi_index = pd.MultiIndex.from_tuples(list(zip(countries, categories)), names=[\"COUNTRY\", \"CATEGORY\"])\n",
    "\n",
    "# Create Series with MultiIndex\n",
    "multi_index_series = pd.Series(data, index=multi_index, name=\"Sales\")\n",
    "\n",
    "print(multi_index_series)\n"
   ]
  },
  {
   "cell_type": "code",
   "execution_count": 69,
   "id": "1c3aa32f",
   "metadata": {},
   "outputs": [
    {
     "ename": "NameError",
     "evalue": "name 'multi_index_series' is not defined",
     "output_type": "error",
     "traceback": [
      "\u001b[1;31m---------------------------------------------------------------------------\u001b[0m",
      "\u001b[1;31mNameError\u001b[0m                                 Traceback (most recent call last)",
      "Cell \u001b[1;32mIn[69], line 1\u001b[0m\n\u001b[1;32m----> 1\u001b[0m multi_index_series[:][\u001b[38;5;124m\"\u001b[39m\u001b[38;5;124mUSA\u001b[39m\u001b[38;5;124m\"\u001b[39m][\u001b[38;5;124m\"\u001b[39m\u001b[38;5;124mTechnology\u001b[39m\u001b[38;5;124m\"\u001b[39m]\n",
      "\u001b[1;31mNameError\u001b[0m: name 'multi_index_series' is not defined"
     ]
    }
   ],
   "source": [
    "multi_index_series[:][\"USA\"][\"Technology\"]"
   ]
  },
  {
   "cell_type": "code",
   "execution_count": 70,
   "id": "e4309f01",
   "metadata": {},
   "outputs": [
    {
     "data": {
      "text/html": [
       "<div>\n",
       "<style scoped>\n",
       "    .dataframe tbody tr th:only-of-type {\n",
       "        vertical-align: middle;\n",
       "    }\n",
       "\n",
       "    .dataframe tbody tr th {\n",
       "        vertical-align: top;\n",
       "    }\n",
       "\n",
       "    .dataframe thead th {\n",
       "        text-align: right;\n",
       "    }\n",
       "</style>\n",
       "<table border=\"1\" class=\"dataframe\">\n",
       "  <thead>\n",
       "    <tr style=\"text-align: right;\">\n",
       "      <th></th>\n",
       "      <th>COUNTRY</th>\n",
       "      <th>CUSTOMER.NAME</th>\n",
       "      <th>CATEGORY</th>\n",
       "      <th>CITY</th>\n",
       "      <th>CUSTOMER.ID</th>\n",
       "      <th>DISCOUNT</th>\n",
       "      <th>MARKET</th>\n",
       "      <th>记录数</th>\n",
       "      <th>ORDER.DATE</th>\n",
       "      <th>ORDER.ID</th>\n",
       "      <th>...</th>\n",
       "      <th>SEGMENT</th>\n",
       "      <th>SHIP.DATE</th>\n",
       "      <th>SHIP.MODE</th>\n",
       "      <th>SHIPPING.COST</th>\n",
       "      <th>STATE</th>\n",
       "      <th>SUB.CATEGORY</th>\n",
       "      <th>YEAR</th>\n",
       "      <th>MARKET2</th>\n",
       "      <th>WEEKNUM</th>\n",
       "      <th>0</th>\n",
       "    </tr>\n",
       "  </thead>\n",
       "  <tbody>\n",
       "    <tr>\n",
       "      <th>0</th>\n",
       "      <td>Afghanistan</td>\n",
       "      <td>Allen Armold</td>\n",
       "      <td>Furniture</td>\n",
       "      <td>Kabul</td>\n",
       "      <td>AA-103751</td>\n",
       "      <td>0.0</td>\n",
       "      <td>APAC</td>\n",
       "      <td>1</td>\n",
       "      <td>2014-07-10 00:00:00.000</td>\n",
       "      <td>IN-2014-75456</td>\n",
       "      <td>...</td>\n",
       "      <td>Consumer</td>\n",
       "      <td>2014-07-15 00:00:00.000</td>\n",
       "      <td>Second Class</td>\n",
       "      <td>8.73</td>\n",
       "      <td>Kabul</td>\n",
       "      <td>Furnishings</td>\n",
       "      <td>2014</td>\n",
       "      <td>APAC</td>\n",
       "      <td>28</td>\n",
       "      <td>1</td>\n",
       "    </tr>\n",
       "    <tr>\n",
       "      <th>1</th>\n",
       "      <td>Afghanistan</td>\n",
       "      <td>Allen Armold</td>\n",
       "      <td>Office Supplies</td>\n",
       "      <td>Kabul</td>\n",
       "      <td>AA-103751</td>\n",
       "      <td>0.0</td>\n",
       "      <td>APAC</td>\n",
       "      <td>1</td>\n",
       "      <td>2014-07-10 00:00:00.000</td>\n",
       "      <td>IN-2014-75456</td>\n",
       "      <td>...</td>\n",
       "      <td>Consumer</td>\n",
       "      <td>2014-07-15 00:00:00.000</td>\n",
       "      <td>Second Class</td>\n",
       "      <td>72.67</td>\n",
       "      <td>Kabul</td>\n",
       "      <td>Appliances</td>\n",
       "      <td>2014</td>\n",
       "      <td>APAC</td>\n",
       "      <td>28</td>\n",
       "      <td>1</td>\n",
       "    </tr>\n",
       "    <tr>\n",
       "      <th>2</th>\n",
       "      <td>Afghanistan</td>\n",
       "      <td>Allen Armold</td>\n",
       "      <td>Office Supplies</td>\n",
       "      <td>Kabul</td>\n",
       "      <td>AA-103751</td>\n",
       "      <td>0.0</td>\n",
       "      <td>APAC</td>\n",
       "      <td>1</td>\n",
       "      <td>2014-07-10 00:00:00.000</td>\n",
       "      <td>IN-2014-75456</td>\n",
       "      <td>...</td>\n",
       "      <td>Consumer</td>\n",
       "      <td>2014-07-15 00:00:00.000</td>\n",
       "      <td>Second Class</td>\n",
       "      <td>2.54</td>\n",
       "      <td>Kabul</td>\n",
       "      <td>Paper</td>\n",
       "      <td>2014</td>\n",
       "      <td>APAC</td>\n",
       "      <td>28</td>\n",
       "      <td>1</td>\n",
       "    </tr>\n",
       "    <tr>\n",
       "      <th>3</th>\n",
       "      <td>Afghanistan</td>\n",
       "      <td>Allen Armold</td>\n",
       "      <td>Office Supplies</td>\n",
       "      <td>Kabul</td>\n",
       "      <td>AA-103751</td>\n",
       "      <td>0.0</td>\n",
       "      <td>APAC</td>\n",
       "      <td>1</td>\n",
       "      <td>2014-07-10 00:00:00.000</td>\n",
       "      <td>IN-2014-75456</td>\n",
       "      <td>...</td>\n",
       "      <td>Consumer</td>\n",
       "      <td>2014-07-15 00:00:00.000</td>\n",
       "      <td>Second Class</td>\n",
       "      <td>37.48</td>\n",
       "      <td>Kabul</td>\n",
       "      <td>Storage</td>\n",
       "      <td>2014</td>\n",
       "      <td>APAC</td>\n",
       "      <td>28</td>\n",
       "      <td>1</td>\n",
       "    </tr>\n",
       "    <tr>\n",
       "      <th>4</th>\n",
       "      <td>Afghanistan</td>\n",
       "      <td>Allen Armold</td>\n",
       "      <td>Office Supplies</td>\n",
       "      <td>Kabul</td>\n",
       "      <td>AA-103751</td>\n",
       "      <td>0.0</td>\n",
       "      <td>APAC</td>\n",
       "      <td>1</td>\n",
       "      <td>2014-07-10 00:00:00.000</td>\n",
       "      <td>IN-2014-75456</td>\n",
       "      <td>...</td>\n",
       "      <td>Consumer</td>\n",
       "      <td>2014-07-15 00:00:00.000</td>\n",
       "      <td>Second Class</td>\n",
       "      <td>12.51</td>\n",
       "      <td>Kabul</td>\n",
       "      <td>Storage</td>\n",
       "      <td>2014</td>\n",
       "      <td>APAC</td>\n",
       "      <td>28</td>\n",
       "      <td>1</td>\n",
       "    </tr>\n",
       "    <tr>\n",
       "      <th>5</th>\n",
       "      <td>Afghanistan</td>\n",
       "      <td>Angele Hood</td>\n",
       "      <td>Furniture</td>\n",
       "      <td>Kabul</td>\n",
       "      <td>AH-105851</td>\n",
       "      <td>0.0</td>\n",
       "      <td>APAC</td>\n",
       "      <td>1</td>\n",
       "      <td>2011-12-01 00:00:00.000</td>\n",
       "      <td>IN-2011-38895</td>\n",
       "      <td>...</td>\n",
       "      <td>Consumer</td>\n",
       "      <td>2011-12-04 00:00:00.000</td>\n",
       "      <td>First Class</td>\n",
       "      <td>36.24</td>\n",
       "      <td>Kabul</td>\n",
       "      <td>Furnishings</td>\n",
       "      <td>2011</td>\n",
       "      <td>APAC</td>\n",
       "      <td>49</td>\n",
       "      <td>1</td>\n",
       "    </tr>\n",
       "  </tbody>\n",
       "</table>\n",
       "<p>6 rows × 28 columns</p>\n",
       "</div>"
      ],
      "text/plain": [
       "       COUNTRY CUSTOMER.NAME         CATEGORY   CITY CUSTOMER.ID  DISCOUNT  \\\n",
       "0  Afghanistan  Allen Armold        Furniture  Kabul   AA-103751       0.0   \n",
       "1  Afghanistan  Allen Armold  Office Supplies  Kabul   AA-103751       0.0   \n",
       "2  Afghanistan  Allen Armold  Office Supplies  Kabul   AA-103751       0.0   \n",
       "3  Afghanistan  Allen Armold  Office Supplies  Kabul   AA-103751       0.0   \n",
       "4  Afghanistan  Allen Armold  Office Supplies  Kabul   AA-103751       0.0   \n",
       "5  Afghanistan   Angele Hood        Furniture  Kabul   AH-105851       0.0   \n",
       "\n",
       "  MARKET  记录数               ORDER.DATE       ORDER.ID  ...   SEGMENT  \\\n",
       "0   APAC    1  2014-07-10 00:00:00.000  IN-2014-75456  ...  Consumer   \n",
       "1   APAC    1  2014-07-10 00:00:00.000  IN-2014-75456  ...  Consumer   \n",
       "2   APAC    1  2014-07-10 00:00:00.000  IN-2014-75456  ...  Consumer   \n",
       "3   APAC    1  2014-07-10 00:00:00.000  IN-2014-75456  ...  Consumer   \n",
       "4   APAC    1  2014-07-10 00:00:00.000  IN-2014-75456  ...  Consumer   \n",
       "5   APAC    1  2011-12-01 00:00:00.000  IN-2011-38895  ...  Consumer   \n",
       "\n",
       "                 SHIP.DATE     SHIP.MODE  SHIPPING.COST  STATE SUB.CATEGORY  \\\n",
       "0  2014-07-15 00:00:00.000  Second Class           8.73  Kabul  Furnishings   \n",
       "1  2014-07-15 00:00:00.000  Second Class          72.67  Kabul   Appliances   \n",
       "2  2014-07-15 00:00:00.000  Second Class           2.54  Kabul        Paper   \n",
       "3  2014-07-15 00:00:00.000  Second Class          37.48  Kabul      Storage   \n",
       "4  2014-07-15 00:00:00.000  Second Class          12.51  Kabul      Storage   \n",
       "5  2011-12-04 00:00:00.000   First Class          36.24  Kabul  Furnishings   \n",
       "\n",
       "   YEAR  MARKET2 WEEKNUM  0  \n",
       "0  2014     APAC      28  1  \n",
       "1  2014     APAC      28  1  \n",
       "2  2014     APAC      28  1  \n",
       "3  2014     APAC      28  1  \n",
       "4  2014     APAC      28  1  \n",
       "5  2011     APAC      49  1  \n",
       "\n",
       "[6 rows x 28 columns]"
      ]
     },
     "execution_count": 70,
     "metadata": {},
     "output_type": "execute_result"
    }
   ],
   "source": [
    "mySuperStoreDataFrame.groupby([\"COUNTRY\",\"CUSTOMER.NAME\"]).value_counts().reset_index()[:6]\n"
   ]
  },
  {
   "cell_type": "markdown",
   "id": "a04cc812",
   "metadata": {},
   "source": [
    "### If you pass the list of boolean array to the dataframe, then it will select entire data frame\n",
    "Sometime to make syntax short we forget and result might be just boolean array not selected data frame just like below\n",
    "### customer_allen.sort_values(by=\"SHIPPING.COST\")[\"SHIPPING.COST\"]>50 ## gives boolean array\n",
    "rather it should be \n",
    "### customer_allen.sort_values(by=\"SHIPPING.COST\")[customer_allen[\"SHIPPING.COST\"]>50]\n",
    "\n"
   ]
  },
  {
   "cell_type": "code",
   "execution_count": 71,
   "id": "38e7efd5",
   "metadata": {},
   "outputs": [
    {
     "name": "stderr",
     "output_type": "stream",
     "text": [
      "C:\\Users\\Kunal\\AppData\\Local\\Temp\\ipykernel_1192\\345535302.py:5: UserWarning: Boolean Series key will be reindexed to match DataFrame index.\n",
      "  customer_allen.sort_values(by=\"SHIPPING.COST\", ascending=False)[customer_allen[\"SHIPPING.COST\"]>50]\n"
     ]
    },
    {
     "data": {
      "text/html": [
       "<div>\n",
       "<style scoped>\n",
       "    .dataframe tbody tr th:only-of-type {\n",
       "        vertical-align: middle;\n",
       "    }\n",
       "\n",
       "    .dataframe tbody tr th {\n",
       "        vertical-align: top;\n",
       "    }\n",
       "\n",
       "    .dataframe thead th {\n",
       "        text-align: right;\n",
       "    }\n",
       "</style>\n",
       "<table border=\"1\" class=\"dataframe\">\n",
       "  <thead>\n",
       "    <tr style=\"text-align: right;\">\n",
       "      <th></th>\n",
       "      <th>CITY</th>\n",
       "      <th>SHIPPING.COST</th>\n",
       "    </tr>\n",
       "  </thead>\n",
       "  <tbody>\n",
       "    <tr>\n",
       "      <th>54</th>\n",
       "      <td>Santa Catarina</td>\n",
       "      <td>162.998</td>\n",
       "    </tr>\n",
       "    <tr>\n",
       "      <th>53</th>\n",
       "      <td>Atlanta</td>\n",
       "      <td>139.020</td>\n",
       "    </tr>\n",
       "    <tr>\n",
       "      <th>52</th>\n",
       "      <td>Kabul</td>\n",
       "      <td>72.670</td>\n",
       "    </tr>\n",
       "    <tr>\n",
       "      <th>51</th>\n",
       "      <td>Morelia</td>\n",
       "      <td>60.721</td>\n",
       "    </tr>\n",
       "    <tr>\n",
       "      <th>50</th>\n",
       "      <td>Lima</td>\n",
       "      <td>59.972</td>\n",
       "    </tr>\n",
       "  </tbody>\n",
       "</table>\n",
       "</div>"
      ],
      "text/plain": [
       "              CITY  SHIPPING.COST\n",
       "54  Santa Catarina        162.998\n",
       "53         Atlanta        139.020\n",
       "52           Kabul         72.670\n",
       "51         Morelia         60.721\n",
       "50            Lima         59.972"
      ]
     },
     "execution_count": 71,
     "metadata": {},
     "output_type": "execute_result"
    }
   ],
   "source": [
    "customer_per_country=mySuperStoreDataFrame.groupby([\"COUNTRY\",\"CUSTOMER.NAME\"]).value_counts().reset_index()\n",
    "customer_per_country.index=customer_per_country[\"CUSTOMER.NAME\"]\n",
    "customer_allen= customer_per_country.loc[\"Allen Armold\",[\"CITY\", \"SHIPPING.COST\"]].sort_values(by=\"SHIPPING.COST\")\n",
    "customer_allen.reset_index(inplace=True,drop=True)\n",
    "customer_allen.sort_values(by=\"SHIPPING.COST\", ascending=False)[customer_allen[\"SHIPPING.COST\"]>50]\n",
    "\n"
   ]
  },
  {
   "cell_type": "markdown",
   "id": "42c31094",
   "metadata": {},
   "source": [
    "### NOTE: pandas tries to match sorted and unsorted indexes of same data frame with one to one matching\n",
    "### If [a,b,c] and [c,b,a] then it will be [none,b, none] so unlike above example always apply the boolean array\n",
    "### on SORTE data frame. \n",
    "# Caution: \n",
    "### do not use sorted and unsorted data frame together"
   ]
  },
  {
   "cell_type": "code",
   "execution_count": 72,
   "id": "d6342559",
   "metadata": {},
   "outputs": [
    {
     "name": "stdout",
     "output_type": "stream",
     "text": [
      "                  CITY  SHIPPING.COST\n",
      "0                Bursa          0.150\n",
      "1                Lagos          0.310\n",
      "2              Lokossa          0.420\n",
      "3                Salem          0.610\n",
      "4                 Lodz          0.680\n",
      "5                Bursa          0.830\n",
      "6          Los Angeles          0.970\n",
      "7                 Mesa          0.990\n",
      "8            San Justo          1.049\n",
      "9        New York City          1.070\n",
      "10             Zapopan          1.126\n",
      "11             Atlanta          1.240\n",
      "12           Carrefour          1.302\n",
      "13             Morelia          1.391\n",
      "14       New York City          1.570\n",
      "15             Atlanta          1.750\n",
      "16    Rancho Cucamonga          2.060\n",
      "17                Lima          2.081\n",
      "18            Montréal          2.250\n",
      "19               Kabul          2.540\n",
      "20          Providence          2.980\n",
      "21                Lima          3.696\n",
      "22          Providence          4.210\n",
      "23            Molfetta          5.540\n",
      "24                Lodz          6.030\n",
      "25             Nairobi          6.700\n",
      "26                Lodz          7.400\n",
      "27              Jeddah          7.790\n",
      "28               Kabul          8.730\n",
      "29             Lebanon         10.110\n",
      "30                Lima         10.235\n",
      "31       New York City         10.690\n",
      "32            Molfetta         11.160\n",
      "33               Kabul         12.510\n",
      "34  Sesto San Giovanni         12.820\n",
      "35              Mumbai         13.270\n",
      "36            Molfetta         14.420\n",
      "37               Omaha         14.940\n",
      "38              Angers         15.720\n",
      "39          Hermosillo         16.608\n",
      "40         Livingstone         16.710\n",
      "41            Molfetta         16.870\n",
      "42            Molfetta         17.040\n",
      "43            Tamworth         25.030\n",
      "44         Livingstone         27.390\n",
      "45             Porirua         34.740\n",
      "46               Kabul         37.480\n",
      "47         Livingstone         42.040\n",
      "48             Porirua         44.820\n",
      "49               Omaha         45.160\n",
      "50                Lima         59.972\n",
      "51             Morelia         60.721\n",
      "52               Kabul         72.670\n",
      "53             Atlanta        139.020\n",
      "54      Santa Catarina        162.998\n"
     ]
    }
   ],
   "source": [
    "customer_per_country=mySuperStoreDataFrame.groupby([\"COUNTRY\",\"CUSTOMER.NAME\"]).value_counts().reset_index()\n",
    "customer_per_country.index=customer_per_country[\"CUSTOMER.NAME\"]\n",
    "customer_allen_sorted= customer_per_country.loc[\"Allen Armold\",[\"CITY\", \"SHIPPING.COST\"]].sort_values(by=\"SHIPPING.COST\")\n",
    "\n",
    "customer_allen_sorted.reset_index(inplace=True, drop=True) # sorting index causes weird result if we have label as index\n",
    "# like names or charcter, their ASSCII values are calculated before sorted so go with integers\n",
    "customer_allen_sorted[customer_allen_sorted[\"SHIPPING.COST\"]>50].reset_index(inplace=True, drop=True)\n",
    "\n",
    "print(customer_allen_sorted)\n",
    "\n"
   ]
  },
  {
   "cell_type": "markdown",
   "id": "0d32bccf",
   "metadata": {},
   "source": [
    "### Do not chain while using inplace= True\n",
    "Step-by-Step Explanation\n",
    "Filtering:\n",
    "\n",
    "customer_allen_sorted[customer_allen_sorted[\"SHIPPING.COST\"] > 50] creates a new filtered DataFrame (a temporary object).\n",
    "This filtered DataFrame is not assigned back to anything.\n",
    "Resetting Index (inplace=True):\n",
    "\n",
    "The reset_index(inplace=True, drop=True) is applied on the temporary filtered DataFrame.\n",
    "Since reset_index modifies the temporary DataFrame in place and returns None, the operation is effectively discarded (because the temporary object is not saved anywhere).\n",
    "Original DataFrame (customer_allen_sorted) Remains Unchanged:\n",
    "\n",
    "The original customer_allen_sorted remains unchanged because the filtering and resetting steps are applied to a temporary object, not the original DataFrame.\n"
   ]
  },
  {
   "cell_type": "code",
   "execution_count": 73,
   "id": "cde86229",
   "metadata": {},
   "outputs": [
    {
     "data": {
      "text/html": [
       "<div>\n",
       "<style scoped>\n",
       "    .dataframe tbody tr th:only-of-type {\n",
       "        vertical-align: middle;\n",
       "    }\n",
       "\n",
       "    .dataframe tbody tr th {\n",
       "        vertical-align: top;\n",
       "    }\n",
       "\n",
       "    .dataframe thead th {\n",
       "        text-align: right;\n",
       "    }\n",
       "</style>\n",
       "<table border=\"1\" class=\"dataframe\">\n",
       "  <thead>\n",
       "    <tr style=\"text-align: right;\">\n",
       "      <th></th>\n",
       "      <th>CITY</th>\n",
       "      <th>SHIPPING.COST</th>\n",
       "    </tr>\n",
       "  </thead>\n",
       "  <tbody>\n",
       "    <tr>\n",
       "      <th>0</th>\n",
       "      <td>Lima</td>\n",
       "      <td>59.972</td>\n",
       "    </tr>\n",
       "    <tr>\n",
       "      <th>1</th>\n",
       "      <td>Morelia</td>\n",
       "      <td>60.721</td>\n",
       "    </tr>\n",
       "    <tr>\n",
       "      <th>2</th>\n",
       "      <td>Kabul</td>\n",
       "      <td>72.670</td>\n",
       "    </tr>\n",
       "    <tr>\n",
       "      <th>3</th>\n",
       "      <td>Atlanta</td>\n",
       "      <td>139.020</td>\n",
       "    </tr>\n",
       "    <tr>\n",
       "      <th>4</th>\n",
       "      <td>Santa Catarina</td>\n",
       "      <td>162.998</td>\n",
       "    </tr>\n",
       "  </tbody>\n",
       "</table>\n",
       "</div>"
      ],
      "text/plain": [
       "             CITY  SHIPPING.COST\n",
       "0            Lima         59.972\n",
       "1         Morelia         60.721\n",
       "2           Kabul         72.670\n",
       "3         Atlanta        139.020\n",
       "4  Santa Catarina        162.998"
      ]
     },
     "execution_count": 73,
     "metadata": {},
     "output_type": "execute_result"
    }
   ],
   "source": [
    "customer_per_country=mySuperStoreDataFrame.groupby([\"COUNTRY\",\"CUSTOMER.NAME\"]).value_counts().reset_index()\n",
    "customer_per_country.index=customer_per_country[\"CUSTOMER.NAME\"]\n",
    "customer_allen_sorted= customer_per_country.loc[\"Allen Armold\",[\"CITY\", \"SHIPPING.COST\"]].sort_values(by=\"SHIPPING.COST\")\n",
    "\n",
    "customer_allen_sorted.reset_index(inplace=True, drop=True) # sorting index causes weird result if we have label as index\n",
    "# like names or charcter, their ASSCII values are calculated before sorted so go with integers\n",
    "customer_allen_sorted=customer_allen_sorted[customer_allen_sorted[\"SHIPPING.COST\"]>50].reset_index(drop=True)\n",
    "\n",
    "\n",
    "customer_allen_sorted\n"
   ]
  },
  {
   "cell_type": "code",
   "execution_count": 74,
   "id": "4d69c9b4",
   "metadata": {},
   "outputs": [
    {
     "data": {
      "text/plain": [
       "Index(['CATEGORY', 'CITY', 'COUNTRY', 'CUSTOMER.ID', 'CUSTOMER.NAME',\n",
       "       'DISCOUNT', 'MARKET', '记录数', 'ORDER.DATE', 'ORDER.ID', 'ORDER.PRIORITY',\n",
       "       'PRODUCT.ID', 'PRODUCT.NAME', 'PROFIT', 'QUANTITY', 'REGION', 'ROW.ID',\n",
       "       'SALES', 'SEGMENT', 'SHIP.DATE', 'SHIP.MODE', 'SHIPPING.COST', 'STATE',\n",
       "       'SUB.CATEGORY', 'YEAR', 'MARKET2', 'WEEKNUM'],\n",
       "      dtype='object')"
      ]
     },
     "execution_count": 74,
     "metadata": {},
     "output_type": "execute_result"
    }
   ],
   "source": [
    "mySuperStoreDataFrame.columns"
   ]
  },
  {
   "cell_type": "code",
   "execution_count": 75,
   "id": "404c05f9",
   "metadata": {},
   "outputs": [
    {
     "data": {
      "text/plain": [
       "51290"
      ]
     },
     "execution_count": 75,
     "metadata": {},
     "output_type": "execute_result"
    }
   ],
   "source": [
    "sum(mySuperStoreDataFrame[\"ORDER.PRIORITY\"].value_counts().values)"
   ]
  },
  {
   "cell_type": "code",
   "execution_count": 76,
   "id": "38535d4c",
   "metadata": {},
   "outputs": [
    {
     "data": {
      "text/plain": [
       "Low          2424\n",
       "Critical     3932\n",
       "High        15501\n",
       "Medium      29433\n",
       "Name: ORDER.PRIORITY, dtype: int64"
      ]
     },
     "execution_count": 76,
     "metadata": {},
     "output_type": "execute_result"
    }
   ],
   "source": [
    "mySuperStoreDataFrame[\"ORDER.PRIORITY\"].value_counts().sort_values()"
   ]
  },
  {
   "cell_type": "code",
   "execution_count": 77,
   "id": "2dfbe015",
   "metadata": {},
   "outputs": [
    {
     "name": "stdout",
     "output_type": "stream",
     "text": [
      "            index  SHIP.MODE\n",
      "0        Same Day       2701\n",
      "1     First Class       7505\n",
      "2    Second Class      10309\n",
      "3  Standard Class      30775\n"
     ]
    }
   ],
   "source": [
    "modes=mySuperStoreDataFrame[\"SHIP.MODE\"].value_counts().sort_values().reset_index()\n",
    "print(modes)\n"
   ]
  },
  {
   "cell_type": "code",
   "execution_count": 78,
   "id": "ecd1516b",
   "metadata": {},
   "outputs": [
    {
     "data": {
      "text/html": [
       "<div>\n",
       "<style scoped>\n",
       "    .dataframe tbody tr th:only-of-type {\n",
       "        vertical-align: middle;\n",
       "    }\n",
       "\n",
       "    .dataframe tbody tr th {\n",
       "        vertical-align: top;\n",
       "    }\n",
       "\n",
       "    .dataframe thead th {\n",
       "        text-align: right;\n",
       "    }\n",
       "</style>\n",
       "<table border=\"1\" class=\"dataframe\">\n",
       "  <thead>\n",
       "    <tr style=\"text-align: right;\">\n",
       "      <th></th>\n",
       "      <th>SHIP.MODE</th>\n",
       "      <th>ORDER.PRIORITY</th>\n",
       "      <th>SHIPPING.COST</th>\n",
       "    </tr>\n",
       "  </thead>\n",
       "  <tbody>\n",
       "    <tr>\n",
       "      <th>0</th>\n",
       "      <td>Second Class</td>\n",
       "      <td>High</td>\n",
       "      <td>4.37</td>\n",
       "    </tr>\n",
       "    <tr>\n",
       "      <th>1</th>\n",
       "      <td>Standard Class</td>\n",
       "      <td>Medium</td>\n",
       "      <td>0.94</td>\n",
       "    </tr>\n",
       "    <tr>\n",
       "      <th>2</th>\n",
       "      <td>Standard Class</td>\n",
       "      <td>Medium</td>\n",
       "      <td>1.81</td>\n",
       "    </tr>\n",
       "    <tr>\n",
       "      <th>3</th>\n",
       "      <td>Standard Class</td>\n",
       "      <td>Medium</td>\n",
       "      <td>4.59</td>\n",
       "    </tr>\n",
       "    <tr>\n",
       "      <th>4</th>\n",
       "      <td>Standard Class</td>\n",
       "      <td>High</td>\n",
       "      <td>1.32</td>\n",
       "    </tr>\n",
       "    <tr>\n",
       "      <th>...</th>\n",
       "      <td>...</td>\n",
       "      <td>...</td>\n",
       "      <td>...</td>\n",
       "    </tr>\n",
       "    <tr>\n",
       "      <th>51285</th>\n",
       "      <td>Same Day</td>\n",
       "      <td>High</td>\n",
       "      <td>5.15</td>\n",
       "    </tr>\n",
       "    <tr>\n",
       "      <th>51286</th>\n",
       "      <td>Same Day</td>\n",
       "      <td>High</td>\n",
       "      <td>0.44</td>\n",
       "    </tr>\n",
       "    <tr>\n",
       "      <th>51287</th>\n",
       "      <td>First Class</td>\n",
       "      <td>Medium</td>\n",
       "      <td>0.31</td>\n",
       "    </tr>\n",
       "    <tr>\n",
       "      <th>51288</th>\n",
       "      <td>First Class</td>\n",
       "      <td>Critical</td>\n",
       "      <td>15.95</td>\n",
       "    </tr>\n",
       "    <tr>\n",
       "      <th>51289</th>\n",
       "      <td>Standard Class</td>\n",
       "      <td>Medium</td>\n",
       "      <td>9.59</td>\n",
       "    </tr>\n",
       "  </tbody>\n",
       "</table>\n",
       "<p>51290 rows × 3 columns</p>\n",
       "</div>"
      ],
      "text/plain": [
       "            SHIP.MODE ORDER.PRIORITY  SHIPPING.COST\n",
       "0        Second Class           High           4.37\n",
       "1      Standard Class         Medium           0.94\n",
       "2      Standard Class         Medium           1.81\n",
       "3      Standard Class         Medium           4.59\n",
       "4      Standard Class           High           1.32\n",
       "...               ...            ...            ...\n",
       "51285        Same Day           High           5.15\n",
       "51286        Same Day           High           0.44\n",
       "51287     First Class         Medium           0.31\n",
       "51288     First Class       Critical          15.95\n",
       "51289  Standard Class         Medium           9.59\n",
       "\n",
       "[51290 rows x 3 columns]"
      ]
     },
     "execution_count": 78,
     "metadata": {},
     "output_type": "execute_result"
    }
   ],
   "source": [
    "shipCostWithPriority=mySuperStoreDataFrame[[\"SHIP.MODE\",\"ORDER.PRIORITY\",\"SHIPPING.COST\"]]\n",
    "shipCostWithPriority"
   ]
  },
  {
   "cell_type": "code",
   "execution_count": 79,
   "id": "2e49eec6",
   "metadata": {},
   "outputs": [
    {
     "data": {
      "text/plain": [
       "SHIP.MODE       ORDER.PRIORITY  SHIPPING.COST\n",
       "First Class     Critical        4.920            4\n",
       "                                7.820            4\n",
       "                                3.480            3\n",
       "                                21.100           3\n",
       "                                17.180           3\n",
       "                                                ..\n",
       "Standard Class  Medium          5.567            1\n",
       "                                5.564            1\n",
       "                                5.561            1\n",
       "                                2.018            1\n",
       "                                655.610          1\n",
       "Length: 30546, dtype: int64"
      ]
     },
     "execution_count": 79,
     "metadata": {},
     "output_type": "execute_result"
    }
   ],
   "source": [
    "grouped_ShippingCostWithPriority=shipCostWithPriority.groupby([\"SHIP.MODE\", \"ORDER.PRIORITY\"]).value_counts()\n",
    "grouped_ShippingCostWithPriority"
   ]
  },
  {
   "cell_type": "code",
   "execution_count": 80,
   "id": "468824fc",
   "metadata": {},
   "outputs": [
    {
     "data": {
      "text/plain": [
       "933.57"
      ]
     },
     "execution_count": 80,
     "metadata": {},
     "output_type": "execute_result"
    }
   ],
   "source": [
    "mySuperStoreDataFrame[\"SHIPPING.COST\"].max()"
   ]
  },
  {
   "cell_type": "code",
   "execution_count": 81,
   "id": "0d39672b",
   "metadata": {},
   "outputs": [
    {
     "data": {
      "text/plain": [
       "SHIPPING.COST\n",
       "4.92     4\n",
       "7.82     4\n",
       "3.48     3\n",
       "21.10    3\n",
       "dtype: int64"
      ]
     },
     "execution_count": 81,
     "metadata": {},
     "output_type": "execute_result"
    }
   ],
   "source": [
    "shipping_cost=grouped_ShippingCostWithPriority.loc[\"First Class\",\"Critical\"]\n",
    "shipping_cost[4.92:21.10]\n",
    "\n"
   ]
  },
  {
   "cell_type": "code",
   "execution_count": 82,
   "id": "248e033c",
   "metadata": {},
   "outputs": [
    {
     "data": {
      "text/plain": [
       "Float64Index([ 4.92,  7.82,  3.48,  21.1, 17.18,  9.06,  8.81,  6.52, 14.89,\n",
       "               6.83,\n",
       "              ...\n",
       "              17.78, 17.73, 17.72, 17.71,  17.7, 17.69, 17.67, 17.63, 17.55,\n",
       "               0.31],\n",
       "             dtype='float64', name='SHIPPING.COST', length=1594)"
      ]
     },
     "execution_count": 82,
     "metadata": {},
     "output_type": "execute_result"
    }
   ],
   "source": [
    "grouped_ShippingCostWithPriority.loc[\"First Class\",\"Critical\"].index"
   ]
  },
  {
   "cell_type": "code",
   "execution_count": 83,
   "id": "a08e716d",
   "metadata": {},
   "outputs": [
    {
     "data": {
      "text/plain": [
       "894.77"
      ]
     },
     "execution_count": 83,
     "metadata": {},
     "output_type": "execute_result"
    }
   ],
   "source": [
    "grouped_ShippingCostWithPriority.loc[\"First Class\",\"Critical\"].index.max()"
   ]
  },
  {
   "cell_type": "code",
   "execution_count": 85,
   "id": "0da29f9e",
   "metadata": {},
   "outputs": [
    {
     "data": {
      "text/html": [
       "<div>\n",
       "<style scoped>\n",
       "    .dataframe tbody tr th:only-of-type {\n",
       "        vertical-align: middle;\n",
       "    }\n",
       "\n",
       "    .dataframe tbody tr th {\n",
       "        vertical-align: top;\n",
       "    }\n",
       "\n",
       "    .dataframe thead th {\n",
       "        text-align: right;\n",
       "    }\n",
       "</style>\n",
       "<table border=\"1\" class=\"dataframe\">\n",
       "  <thead>\n",
       "    <tr style=\"text-align: right;\">\n",
       "      <th></th>\n",
       "      <th>SHIP.MODE</th>\n",
       "      <th>ORDER.PRIORITY</th>\n",
       "      <th>COUNTRY</th>\n",
       "      <th>CITY</th>\n",
       "      <th>SHIPPING.COST</th>\n",
       "      <th>0</th>\n",
       "    </tr>\n",
       "  </thead>\n",
       "  <tbody>\n",
       "    <tr>\n",
       "      <th>0</th>\n",
       "      <td>First Class</td>\n",
       "      <td>Critical</td>\n",
       "      <td>Afghanistan</td>\n",
       "      <td>Kabul</td>\n",
       "      <td>21.21</td>\n",
       "      <td>1</td>\n",
       "    </tr>\n",
       "    <tr>\n",
       "      <th>1</th>\n",
       "      <td>First Class</td>\n",
       "      <td>Critical</td>\n",
       "      <td>Afghanistan</td>\n",
       "      <td>Kabul</td>\n",
       "      <td>36.24</td>\n",
       "      <td>1</td>\n",
       "    </tr>\n",
       "    <tr>\n",
       "      <th>2</th>\n",
       "      <td>First Class</td>\n",
       "      <td>Critical</td>\n",
       "      <td>Albania</td>\n",
       "      <td>Durres</td>\n",
       "      <td>206.56</td>\n",
       "      <td>1</td>\n",
       "    </tr>\n",
       "    <tr>\n",
       "      <th>3</th>\n",
       "      <td>First Class</td>\n",
       "      <td>Critical</td>\n",
       "      <td>Algeria</td>\n",
       "      <td>Barika</td>\n",
       "      <td>50.56</td>\n",
       "      <td>1</td>\n",
       "    </tr>\n",
       "    <tr>\n",
       "      <th>4</th>\n",
       "      <td>First Class</td>\n",
       "      <td>Critical</td>\n",
       "      <td>Algeria</td>\n",
       "      <td>Guelma</td>\n",
       "      <td>3.66</td>\n",
       "      <td>1</td>\n",
       "    </tr>\n",
       "    <tr>\n",
       "      <th>...</th>\n",
       "      <td>...</td>\n",
       "      <td>...</td>\n",
       "      <td>...</td>\n",
       "      <td>...</td>\n",
       "      <td>...</td>\n",
       "      <td>...</td>\n",
       "    </tr>\n",
       "    <tr>\n",
       "      <th>50853</th>\n",
       "      <td>Standard Class</td>\n",
       "      <td>Medium</td>\n",
       "      <td>Zimbabwe</td>\n",
       "      <td>Harare</td>\n",
       "      <td>0.61</td>\n",
       "      <td>1</td>\n",
       "    </tr>\n",
       "    <tr>\n",
       "      <th>50854</th>\n",
       "      <td>Standard Class</td>\n",
       "      <td>Medium</td>\n",
       "      <td>Zimbabwe</td>\n",
       "      <td>Harare</td>\n",
       "      <td>1.93</td>\n",
       "      <td>1</td>\n",
       "    </tr>\n",
       "    <tr>\n",
       "      <th>50855</th>\n",
       "      <td>Standard Class</td>\n",
       "      <td>Medium</td>\n",
       "      <td>Zimbabwe</td>\n",
       "      <td>Harare</td>\n",
       "      <td>2.14</td>\n",
       "      <td>1</td>\n",
       "    </tr>\n",
       "    <tr>\n",
       "      <th>50856</th>\n",
       "      <td>Standard Class</td>\n",
       "      <td>Medium</td>\n",
       "      <td>Zimbabwe</td>\n",
       "      <td>Kadoma</td>\n",
       "      <td>7.46</td>\n",
       "      <td>1</td>\n",
       "    </tr>\n",
       "    <tr>\n",
       "      <th>50857</th>\n",
       "      <td>Standard Class</td>\n",
       "      <td>Medium</td>\n",
       "      <td>Zimbabwe</td>\n",
       "      <td>Mutare</td>\n",
       "      <td>0.46</td>\n",
       "      <td>1</td>\n",
       "    </tr>\n",
       "  </tbody>\n",
       "</table>\n",
       "<p>50858 rows × 6 columns</p>\n",
       "</div>"
      ],
      "text/plain": [
       "            SHIP.MODE ORDER.PRIORITY      COUNTRY    CITY  SHIPPING.COST  0\n",
       "0         First Class       Critical  Afghanistan   Kabul          21.21  1\n",
       "1         First Class       Critical  Afghanistan   Kabul          36.24  1\n",
       "2         First Class       Critical      Albania  Durres         206.56  1\n",
       "3         First Class       Critical      Algeria  Barika          50.56  1\n",
       "4         First Class       Critical      Algeria  Guelma           3.66  1\n",
       "...               ...            ...          ...     ...            ... ..\n",
       "50853  Standard Class         Medium     Zimbabwe  Harare           0.61  1\n",
       "50854  Standard Class         Medium     Zimbabwe  Harare           1.93  1\n",
       "50855  Standard Class         Medium     Zimbabwe  Harare           2.14  1\n",
       "50856  Standard Class         Medium     Zimbabwe  Kadoma           7.46  1\n",
       "50857  Standard Class         Medium     Zimbabwe  Mutare           0.46  1\n",
       "\n",
       "[50858 rows x 6 columns]"
      ]
     },
     "execution_count": 85,
     "metadata": {},
     "output_type": "execute_result"
    }
   ],
   "source": [
    "countryWiseShippingCost=mySuperStoreDataFrame[[\"SHIP.MODE\",\"ORDER.PRIORITY\",\"COUNTRY\",\"CITY\",\"SHIPPING.COST\"]]\n",
    "countryWiseShippingCost.groupby([\"SHIP.MODE\",\"ORDER.PRIORITY\",\"COUNTRY\"]).value_counts().reset_index()"
   ]
  },
  {
   "cell_type": "markdown",
   "id": "1a68cdc4",
   "metadata": {},
   "source": [
    "### just trying to concat priority, shipping mode and other so that how shipping cost is dependent. \n",
    "What i can see is\n",
    "#### First Class\tCritical\tAfghanistan\tKabul\t21.21\t\n",
    "####  First Class\tCritical\tAfghanistan\tKabul\t36.24\n",
    "# Why the price for the same country, shipping mode , order priorty differs?\n",
    "There might or might not be the relationship with other variables like PROFIT', 'QUANTITY', 'DISCOUNT' and so on. So this will be the One good way to analysis the data and learn more about it.\n",
    "# :-)"
   ]
  },
  {
   "cell_type": "code",
   "execution_count": 89,
   "id": "d2b12c64",
   "metadata": {},
   "outputs": [
    {
     "data": {
      "text/html": [
       "<div>\n",
       "<style scoped>\n",
       "    .dataframe tbody tr th:only-of-type {\n",
       "        vertical-align: middle;\n",
       "    }\n",
       "\n",
       "    .dataframe tbody tr th {\n",
       "        vertical-align: top;\n",
       "    }\n",
       "\n",
       "    .dataframe thead th {\n",
       "        text-align: right;\n",
       "    }\n",
       "</style>\n",
       "<table border=\"1\" class=\"dataframe\">\n",
       "  <thead>\n",
       "    <tr style=\"text-align: right;\">\n",
       "      <th></th>\n",
       "      <th>SHIP.MODE</th>\n",
       "      <th>NO.DELIVERY</th>\n",
       "      <th>ORDER.PRIORITY</th>\n",
       "      <th>NO.ORDERS</th>\n",
       "    </tr>\n",
       "  </thead>\n",
       "  <tbody>\n",
       "    <tr>\n",
       "      <th>0</th>\n",
       "      <td>Same Day</td>\n",
       "      <td>2701</td>\n",
       "      <td>Low</td>\n",
       "      <td>2424</td>\n",
       "    </tr>\n",
       "    <tr>\n",
       "      <th>1</th>\n",
       "      <td>First Class</td>\n",
       "      <td>7505</td>\n",
       "      <td>Critical</td>\n",
       "      <td>3932</td>\n",
       "    </tr>\n",
       "    <tr>\n",
       "      <th>2</th>\n",
       "      <td>Second Class</td>\n",
       "      <td>10309</td>\n",
       "      <td>High</td>\n",
       "      <td>15501</td>\n",
       "    </tr>\n",
       "    <tr>\n",
       "      <th>3</th>\n",
       "      <td>Standard Class</td>\n",
       "      <td>30775</td>\n",
       "      <td>Medium</td>\n",
       "      <td>29433</td>\n",
       "    </tr>\n",
       "  </tbody>\n",
       "</table>\n",
       "</div>"
      ],
      "text/plain": [
       "        SHIP.MODE  NO.DELIVERY ORDER.PRIORITY  NO.ORDERS\n",
       "0        Same Day         2701            Low       2424\n",
       "1     First Class         7505       Critical       3932\n",
       "2    Second Class        10309           High      15501\n",
       "3  Standard Class        30775         Medium      29433"
      ]
     },
     "execution_count": 89,
     "metadata": {},
     "output_type": "execute_result"
    }
   ],
   "source": [
    "modes=mySuperStoreDataFrame[\"SHIP.MODE\"].value_counts().sort_values().reset_index()\n",
    "priority=mySuperStoreDataFrame[[\"ORDER.PRIORITY\"]].value_counts().sort_values().reset_index()\n",
    "#country=mySuperStoreDataFrame[\"COUNTRY\"].value_counts().sort_values().reset_index()\n",
    "dependency_looking_for=pd.concat([modes,priority], axis=1)\n",
    "dependency_looking_for.columns=[\"SHIP.MODE\",\"NO.DELIVERY\",\"ORDER.PRIORITY\",\"NO.ORDERS\"]\n",
    "dependency_looking_for"
   ]
  },
  {
   "cell_type": "code",
   "execution_count": 92,
   "id": "21da6c59",
   "metadata": {},
   "outputs": [
    {
     "data": {
      "text/plain": [
       "147"
      ]
     },
     "execution_count": 92,
     "metadata": {},
     "output_type": "execute_result"
    }
   ],
   "source": [
    "country=mySuperStoreDataFrame[\"COUNTRY\"].unique()\n",
    "len(country)\n"
   ]
  },
  {
   "cell_type": "code",
   "execution_count": 99,
   "id": "dce1a4b5",
   "metadata": {},
   "outputs": [
    {
     "name": "stdout",
     "output_type": "stream",
     "text": [
      "[0.    0.002 0.07  0.1   0.15  0.17  0.2   0.202 0.25  0.27  0.3   0.32\n",
      " 0.35  0.37  0.4   0.402 0.45  0.47  0.5   0.55  0.57  0.6   0.602 0.65\n",
      " 0.7   0.8   0.85 ]\n"
     ]
    }
   ],
   "source": [
    "discounts=mySuperStoreDataFrame[\"DISCOUNT\"].unique()\n",
    "discounts.sort()\n",
    "print(discounts)"
   ]
  },
  {
   "cell_type": "code",
   "execution_count": 103,
   "id": "e08ba67b",
   "metadata": {},
   "outputs": [
    {
     "name": "stdout",
     "output_type": "stream",
     "text": [
      "24575\n"
     ]
    }
   ],
   "source": [
    "profit=mySuperStoreDataFrame[\"PROFIT\"].unique()\n",
    "print(len(profit))"
   ]
  },
  {
   "cell_type": "code",
   "execution_count": 106,
   "id": "5223e5e7",
   "metadata": {},
   "outputs": [
    {
     "data": {
      "text/plain": [
       "2246"
      ]
     },
     "execution_count": 106,
     "metadata": {},
     "output_type": "execute_result"
    }
   ],
   "source": [
    "len(mySuperStoreDataFrame[\"SALES\"].unique())"
   ]
  },
  {
   "cell_type": "code",
   "execution_count": 108,
   "id": "fc0ff433",
   "metadata": {},
   "outputs": [
    {
     "data": {
      "text/html": [
       "<div>\n",
       "<style scoped>\n",
       "    .dataframe tbody tr th:only-of-type {\n",
       "        vertical-align: middle;\n",
       "    }\n",
       "\n",
       "    .dataframe tbody tr th {\n",
       "        vertical-align: top;\n",
       "    }\n",
       "\n",
       "    .dataframe thead th {\n",
       "        text-align: right;\n",
       "    }\n",
       "</style>\n",
       "<table border=\"1\" class=\"dataframe\">\n",
       "  <thead>\n",
       "    <tr style=\"text-align: right;\">\n",
       "      <th></th>\n",
       "      <th>SHIP.MODE</th>\n",
       "      <th>ORDER.PRIORITY</th>\n",
       "      <th>COUNTRY</th>\n",
       "      <th>CITY</th>\n",
       "      <th>SHIPPING.COST</th>\n",
       "      <th>DISCOUNT</th>\n",
       "      <th>SALES</th>\n",
       "      <th>PROFIT</th>\n",
       "    </tr>\n",
       "  </thead>\n",
       "  <tbody>\n",
       "    <tr>\n",
       "      <th>0</th>\n",
       "      <td>Second Class</td>\n",
       "      <td>High</td>\n",
       "      <td>United States</td>\n",
       "      <td>Los Angeles</td>\n",
       "      <td>4.37</td>\n",
       "      <td>0.0</td>\n",
       "      <td>19</td>\n",
       "      <td>9.3312</td>\n",
       "    </tr>\n",
       "    <tr>\n",
       "      <th>1</th>\n",
       "      <td>Standard Class</td>\n",
       "      <td>Medium</td>\n",
       "      <td>United States</td>\n",
       "      <td>Los Angeles</td>\n",
       "      <td>0.94</td>\n",
       "      <td>0.0</td>\n",
       "      <td>19</td>\n",
       "      <td>9.2928</td>\n",
       "    </tr>\n",
       "    <tr>\n",
       "      <th>2</th>\n",
       "      <td>Standard Class</td>\n",
       "      <td>Medium</td>\n",
       "      <td>United States</td>\n",
       "      <td>Los Angeles</td>\n",
       "      <td>1.81</td>\n",
       "      <td>0.0</td>\n",
       "      <td>21</td>\n",
       "      <td>9.8418</td>\n",
       "    </tr>\n",
       "    <tr>\n",
       "      <th>3</th>\n",
       "      <td>Standard Class</td>\n",
       "      <td>Medium</td>\n",
       "      <td>United States</td>\n",
       "      <td>Los Angeles</td>\n",
       "      <td>4.59</td>\n",
       "      <td>0.0</td>\n",
       "      <td>111</td>\n",
       "      <td>53.2608</td>\n",
       "    </tr>\n",
       "    <tr>\n",
       "      <th>4</th>\n",
       "      <td>Standard Class</td>\n",
       "      <td>High</td>\n",
       "      <td>United States</td>\n",
       "      <td>Los Angeles</td>\n",
       "      <td>1.32</td>\n",
       "      <td>0.0</td>\n",
       "      <td>6</td>\n",
       "      <td>3.1104</td>\n",
       "    </tr>\n",
       "    <tr>\n",
       "      <th>...</th>\n",
       "      <td>...</td>\n",
       "      <td>...</td>\n",
       "      <td>...</td>\n",
       "      <td>...</td>\n",
       "      <td>...</td>\n",
       "      <td>...</td>\n",
       "      <td>...</td>\n",
       "      <td>...</td>\n",
       "    </tr>\n",
       "    <tr>\n",
       "      <th>51285</th>\n",
       "      <td>Same Day</td>\n",
       "      <td>High</td>\n",
       "      <td>United States</td>\n",
       "      <td>Los Angeles</td>\n",
       "      <td>5.15</td>\n",
       "      <td>0.2</td>\n",
       "      <td>69</td>\n",
       "      <td>22.5732</td>\n",
       "    </tr>\n",
       "    <tr>\n",
       "      <th>51286</th>\n",
       "      <td>Same Day</td>\n",
       "      <td>High</td>\n",
       "      <td>United States</td>\n",
       "      <td>Los Angeles</td>\n",
       "      <td>0.44</td>\n",
       "      <td>0.2</td>\n",
       "      <td>9</td>\n",
       "      <td>3.1584</td>\n",
       "    </tr>\n",
       "    <tr>\n",
       "      <th>51287</th>\n",
       "      <td>First Class</td>\n",
       "      <td>Medium</td>\n",
       "      <td>United States</td>\n",
       "      <td>Los Angeles</td>\n",
       "      <td>0.31</td>\n",
       "      <td>0.2</td>\n",
       "      <td>12</td>\n",
       "      <td>4.2804</td>\n",
       "    </tr>\n",
       "    <tr>\n",
       "      <th>51288</th>\n",
       "      <td>First Class</td>\n",
       "      <td>Critical</td>\n",
       "      <td>United States</td>\n",
       "      <td>Los Angeles</td>\n",
       "      <td>15.95</td>\n",
       "      <td>0.2</td>\n",
       "      <td>90</td>\n",
       "      <td>33.9300</td>\n",
       "    </tr>\n",
       "    <tr>\n",
       "      <th>51289</th>\n",
       "      <td>Standard Class</td>\n",
       "      <td>Medium</td>\n",
       "      <td>United States</td>\n",
       "      <td>Los Angeles</td>\n",
       "      <td>9.59</td>\n",
       "      <td>0.2</td>\n",
       "      <td>154</td>\n",
       "      <td>51.8238</td>\n",
       "    </tr>\n",
       "  </tbody>\n",
       "</table>\n",
       "<p>51290 rows × 8 columns</p>\n",
       "</div>"
      ],
      "text/plain": [
       "            SHIP.MODE ORDER.PRIORITY        COUNTRY         CITY  \\\n",
       "0        Second Class           High  United States  Los Angeles   \n",
       "1      Standard Class         Medium  United States  Los Angeles   \n",
       "2      Standard Class         Medium  United States  Los Angeles   \n",
       "3      Standard Class         Medium  United States  Los Angeles   \n",
       "4      Standard Class           High  United States  Los Angeles   \n",
       "...               ...            ...            ...          ...   \n",
       "51285        Same Day           High  United States  Los Angeles   \n",
       "51286        Same Day           High  United States  Los Angeles   \n",
       "51287     First Class         Medium  United States  Los Angeles   \n",
       "51288     First Class       Critical  United States  Los Angeles   \n",
       "51289  Standard Class         Medium  United States  Los Angeles   \n",
       "\n",
       "       SHIPPING.COST  DISCOUNT  SALES   PROFIT  \n",
       "0               4.37       0.0     19   9.3312  \n",
       "1               0.94       0.0     19   9.2928  \n",
       "2               1.81       0.0     21   9.8418  \n",
       "3               4.59       0.0    111  53.2608  \n",
       "4               1.32       0.0      6   3.1104  \n",
       "...              ...       ...    ...      ...  \n",
       "51285           5.15       0.2     69  22.5732  \n",
       "51286           0.44       0.2      9   3.1584  \n",
       "51287           0.31       0.2     12   4.2804  \n",
       "51288          15.95       0.2     90  33.9300  \n",
       "51289           9.59       0.2    154  51.8238  \n",
       "\n",
       "[51290 rows x 8 columns]"
      ]
     },
     "execution_count": 108,
     "metadata": {},
     "output_type": "execute_result"
    }
   ],
   "source": [
    "miniStore=mySuperStoreDataFrame[[\"SHIP.MODE\",\"ORDER.PRIORITY\",\"COUNTRY\",\"CITY\",\"SHIPPING.COST\",\"DISCOUNT\", \"SALES\",\"PROFIT\"]]\n",
    "miniStore\n",
    "        "
   ]
  },
  {
   "cell_type": "code",
   "execution_count": 113,
   "id": "e16af4c1",
   "metadata": {},
   "outputs": [
    {
     "data": {
      "text/plain": [
       "SHIP.MODE       ORDER.PRIORITY  COUNTRY        SALES\n",
       "First Class     Medium          United States  9        14\n",
       "                High            United States  12       14\n",
       "                                               15       14\n",
       "                                               6        14\n",
       "                                               13       14\n",
       "                                                        ..\n",
       "Standard Class  High            Belgium        159       1\n",
       "                                               151       1\n",
       "                                               146       1\n",
       "                                               130       1\n",
       "                Medium          Zimbabwe       104       1\n",
       "Length: 34489, dtype: int64"
      ]
     },
     "execution_count": 113,
     "metadata": {},
     "output_type": "execute_result"
    }
   ],
   "source": [
    "miniStore[[\"SHIP.MODE\", \"ORDER.PRIORITY\",'COUNTRY','SALES']].groupby(\"SHIP.MODE\").value_counts()"
   ]
  },
  {
   "cell_type": "code",
   "execution_count": 124,
   "id": "46e674de",
   "metadata": {},
   "outputs": [
    {
     "data": {
      "text/plain": [
       "COUNTRY      SHIP.MODE       ORDER.PRIORITY  SALES\n",
       "Afghanistan  First Class     Critical        83       1\n",
       "                             Medium          160      1\n",
       "                             High            4626     1\n",
       "                                             333      1\n",
       "                                             267      1\n",
       "                                                     ..\n",
       "Zimbabwe     Standard Class  High            156      1\n",
       "                                             85       1\n",
       "                                             78       1\n",
       "                                             67       1\n",
       "                             Medium          104      1\n",
       "Length: 34489, dtype: int64"
      ]
     },
     "execution_count": 124,
     "metadata": {},
     "output_type": "execute_result"
    }
   ],
   "source": [
    "miniStoreGroupedByCountry=miniStore[[\"SHIP.MODE\", \"ORDER.PRIORITY\",'COUNTRY','SALES']].groupby([\"COUNTRY\",\"SHIP.MODE\"]).value_counts()\n",
    "miniStoreGroupedByCountry"
   ]
  },
  {
   "cell_type": "code",
   "execution_count": 152,
   "id": "4dfb074f",
   "metadata": {},
   "outputs": [
    {
     "data": {
      "text/plain": [
       "SHIP.MODE       ORDER.PRIORITY  COUNTRY  SALES\n",
       "First Class     Medium          India    11       2\n",
       "                                         67       1\n",
       "                                         153      1\n",
       "                                         147      1\n",
       "                                         134      1\n",
       "                                                 ..\n",
       "Standard Class  Medium          India    53       1\n",
       "                                         48       1\n",
       "                                         12       1\n",
       "                                         6        1\n",
       "                                         5        1\n",
       "Length: 459, dtype: int64"
      ]
     },
     "execution_count": 152,
     "metadata": {},
     "output_type": "execute_result"
    }
   ],
   "source": [
    "demo=miniStore[[\"SHIP.MODE\", \"ORDER.PRIORITY\",'COUNTRY','SALES']].groupby(\"SHIP.MODE\").value_counts().loc[[\"First Class\", \"Standard Class\"], 'Medium', \"India\"]\n",
    "demo"
   ]
  },
  {
   "cell_type": "code",
   "execution_count": 172,
   "id": "381a6d2e",
   "metadata": {},
   "outputs": [],
   "source": [
    "demo=miniStore[[\"SHIP.MODE\", \"ORDER.PRIORITY\",'COUNTRY','SALES']].groupby(\"SHIP.MODE\").value_counts().loc[[\"First Class\", \"Standard Class\"]]"
   ]
  },
  {
   "cell_type": "code",
   "execution_count": 126,
   "id": "89232898",
   "metadata": {},
   "outputs": [
    {
     "data": {
      "text/plain": [
       "147"
      ]
     },
     "execution_count": 126,
     "metadata": {},
     "output_type": "execute_result"
    }
   ],
   "source": [
    "len(miniStore[\"COUNTRY\"].unique())"
   ]
  },
  {
   "cell_type": "code",
   "execution_count": 129,
   "id": "3521038a",
   "metadata": {},
   "outputs": [
    {
     "data": {
      "text/html": [
       "<div>\n",
       "<style scoped>\n",
       "    .dataframe tbody tr th:only-of-type {\n",
       "        vertical-align: middle;\n",
       "    }\n",
       "\n",
       "    .dataframe tbody tr th {\n",
       "        vertical-align: top;\n",
       "    }\n",
       "\n",
       "    .dataframe thead th {\n",
       "        text-align: right;\n",
       "    }\n",
       "</style>\n",
       "<table border=\"1\" class=\"dataframe\">\n",
       "  <thead>\n",
       "    <tr style=\"text-align: right;\">\n",
       "      <th></th>\n",
       "      <th>SHIP.MODE</th>\n",
       "      <th>ORDER.PRIORITY</th>\n",
       "      <th>COUNTRY</th>\n",
       "      <th>CITY</th>\n",
       "      <th>SHIPPING.COST</th>\n",
       "      <th>DISCOUNT</th>\n",
       "      <th>SALES</th>\n",
       "      <th>PROFIT</th>\n",
       "    </tr>\n",
       "  </thead>\n",
       "  <tbody>\n",
       "    <tr>\n",
       "      <th>0</th>\n",
       "      <td>Second Class</td>\n",
       "      <td>High</td>\n",
       "      <td>United States</td>\n",
       "      <td>Los Angeles</td>\n",
       "      <td>4.37</td>\n",
       "      <td>0.0</td>\n",
       "      <td>19</td>\n",
       "      <td>9.3312</td>\n",
       "    </tr>\n",
       "    <tr>\n",
       "      <th>1</th>\n",
       "      <td>Standard Class</td>\n",
       "      <td>Medium</td>\n",
       "      <td>United States</td>\n",
       "      <td>Los Angeles</td>\n",
       "      <td>0.94</td>\n",
       "      <td>0.0</td>\n",
       "      <td>19</td>\n",
       "      <td>9.2928</td>\n",
       "    </tr>\n",
       "    <tr>\n",
       "      <th>2</th>\n",
       "      <td>Standard Class</td>\n",
       "      <td>Medium</td>\n",
       "      <td>United States</td>\n",
       "      <td>Los Angeles</td>\n",
       "      <td>1.81</td>\n",
       "      <td>0.0</td>\n",
       "      <td>21</td>\n",
       "      <td>9.8418</td>\n",
       "    </tr>\n",
       "    <tr>\n",
       "      <th>3</th>\n",
       "      <td>Standard Class</td>\n",
       "      <td>Medium</td>\n",
       "      <td>United States</td>\n",
       "      <td>Los Angeles</td>\n",
       "      <td>4.59</td>\n",
       "      <td>0.0</td>\n",
       "      <td>111</td>\n",
       "      <td>53.2608</td>\n",
       "    </tr>\n",
       "    <tr>\n",
       "      <th>4</th>\n",
       "      <td>Standard Class</td>\n",
       "      <td>High</td>\n",
       "      <td>United States</td>\n",
       "      <td>Los Angeles</td>\n",
       "      <td>1.32</td>\n",
       "      <td>0.0</td>\n",
       "      <td>6</td>\n",
       "      <td>3.1104</td>\n",
       "    </tr>\n",
       "    <tr>\n",
       "      <th>...</th>\n",
       "      <td>...</td>\n",
       "      <td>...</td>\n",
       "      <td>...</td>\n",
       "      <td>...</td>\n",
       "      <td>...</td>\n",
       "      <td>...</td>\n",
       "      <td>...</td>\n",
       "      <td>...</td>\n",
       "    </tr>\n",
       "    <tr>\n",
       "      <th>51285</th>\n",
       "      <td>Same Day</td>\n",
       "      <td>High</td>\n",
       "      <td>United States</td>\n",
       "      <td>Los Angeles</td>\n",
       "      <td>5.15</td>\n",
       "      <td>0.2</td>\n",
       "      <td>69</td>\n",
       "      <td>22.5732</td>\n",
       "    </tr>\n",
       "    <tr>\n",
       "      <th>51286</th>\n",
       "      <td>Same Day</td>\n",
       "      <td>High</td>\n",
       "      <td>United States</td>\n",
       "      <td>Los Angeles</td>\n",
       "      <td>0.44</td>\n",
       "      <td>0.2</td>\n",
       "      <td>9</td>\n",
       "      <td>3.1584</td>\n",
       "    </tr>\n",
       "    <tr>\n",
       "      <th>51287</th>\n",
       "      <td>First Class</td>\n",
       "      <td>Medium</td>\n",
       "      <td>United States</td>\n",
       "      <td>Los Angeles</td>\n",
       "      <td>0.31</td>\n",
       "      <td>0.2</td>\n",
       "      <td>12</td>\n",
       "      <td>4.2804</td>\n",
       "    </tr>\n",
       "    <tr>\n",
       "      <th>51288</th>\n",
       "      <td>First Class</td>\n",
       "      <td>Critical</td>\n",
       "      <td>United States</td>\n",
       "      <td>Los Angeles</td>\n",
       "      <td>15.95</td>\n",
       "      <td>0.2</td>\n",
       "      <td>90</td>\n",
       "      <td>33.9300</td>\n",
       "    </tr>\n",
       "    <tr>\n",
       "      <th>51289</th>\n",
       "      <td>Standard Class</td>\n",
       "      <td>Medium</td>\n",
       "      <td>United States</td>\n",
       "      <td>Los Angeles</td>\n",
       "      <td>9.59</td>\n",
       "      <td>0.2</td>\n",
       "      <td>154</td>\n",
       "      <td>51.8238</td>\n",
       "    </tr>\n",
       "  </tbody>\n",
       "</table>\n",
       "<p>51290 rows × 8 columns</p>\n",
       "</div>"
      ],
      "text/plain": [
       "            SHIP.MODE ORDER.PRIORITY        COUNTRY         CITY  \\\n",
       "0        Second Class           High  United States  Los Angeles   \n",
       "1      Standard Class         Medium  United States  Los Angeles   \n",
       "2      Standard Class         Medium  United States  Los Angeles   \n",
       "3      Standard Class         Medium  United States  Los Angeles   \n",
       "4      Standard Class           High  United States  Los Angeles   \n",
       "...               ...            ...            ...          ...   \n",
       "51285        Same Day           High  United States  Los Angeles   \n",
       "51286        Same Day           High  United States  Los Angeles   \n",
       "51287     First Class         Medium  United States  Los Angeles   \n",
       "51288     First Class       Critical  United States  Los Angeles   \n",
       "51289  Standard Class         Medium  United States  Los Angeles   \n",
       "\n",
       "       SHIPPING.COST  DISCOUNT  SALES   PROFIT  \n",
       "0               4.37       0.0     19   9.3312  \n",
       "1               0.94       0.0     19   9.2928  \n",
       "2               1.81       0.0     21   9.8418  \n",
       "3               4.59       0.0    111  53.2608  \n",
       "4               1.32       0.0      6   3.1104  \n",
       "...              ...       ...    ...      ...  \n",
       "51285           5.15       0.2     69  22.5732  \n",
       "51286           0.44       0.2      9   3.1584  \n",
       "51287           0.31       0.2     12   4.2804  \n",
       "51288          15.95       0.2     90  33.9300  \n",
       "51289           9.59       0.2    154  51.8238  \n",
       "\n",
       "[51290 rows x 8 columns]"
      ]
     },
     "execution_count": 129,
     "metadata": {},
     "output_type": "execute_result"
    }
   ],
   "source": [
    "miniStore"
   ]
  },
  {
   "cell_type": "code",
   "execution_count": 143,
   "id": "8229f316",
   "metadata": {},
   "outputs": [
    {
     "name": "stdout",
     "output_type": "stream",
     "text": [
      "[<matplotlib.lines.Line2D object at 0x00000281A99F2810>]\n"
     ]
    },
    {
     "data": {
      "image/png": "[encoded data removed]",
      "text/plain": [
       "<Figure size 640x480 with 1 Axes>"
      ]
     },
     "metadata": {},
     "output_type": "display_data"
    }
   ],
   "source": [
    "print(myplot.plot(miniStore[\"PROFIT\"]))"
   ]
  },
  {
   "cell_type": "code",
   "execution_count": 140,
   "id": "f073baf4",
   "metadata": {},
   "outputs": [
    {
     "name": "stdout",
     "output_type": "stream",
     "text": [
      "-6599.978 8399.976\n"
     ]
    }
   ],
   "source": [
    "print(miniStore[\"PROFIT\"].min(),\n",
    "miniStore[\"PROFIT\"].max())"
   ]
  },
  {
   "cell_type": "code",
   "execution_count": 141,
   "id": "7efbcd56",
   "metadata": {},
   "outputs": [
    {
     "data": {
      "text/plain": [
       "[<matplotlib.lines.Line2D at 0x281ae3c4d50>]"
      ]
     },
     "execution_count": 141,
     "metadata": {},
     "output_type": "execute_result"
    },
    {
     "data": {
      "image/png": "[encoded data removed]",
      "text/plain": [
       "<Figure size 640x480 with 1 Axes>"
      ]
     },
     "metadata": {},
     "output_type": "display_data"
    }
   ],
   "source": [
    "myplot.plot(miniStore[\"PROFIT\"].max())"
   ]
  },
  {
   "cell_type": "code",
   "execution_count": 190,
   "id": "19d84188",
   "metadata": {},
   "outputs": [
    {
     "data": {
      "text/plain": [
       "['CATEGORY', 'CITY']"
      ]
     },
     "execution_count": 190,
     "metadata": {},
     "output_type": "execute_result"
    }
   ],
   "source": [
    "all_columns=list(mySuperStoreDataFrame.columns)\n",
    "all_columns_series=pd.Series(all_columns)\n",
    "all_columns_series.index=all_columns_series.values\n",
    "list(all_columns_series[[\"CATEGORY\",\"CITY\"]].reset_index(drop=True))"
   ]
  },
  {
   "cell_type": "code",
   "execution_count": 198,
   "id": "a6ade8bb",
   "metadata": {},
   "outputs": [
    {
     "name": "stdout",
     "output_type": "stream",
     "text": [
      "['CATEGORY', 'CITY', 'COUNTRY', 'CUSTOMER.ID', 'CUSTOMER.NAME', 'DISCOUNT', 'MARKET', '记录数', 'ORDER.DATE', 'ORDER.ID', 'ORDER.PRIORITY', 'PRODUCT.ID', 'PRODUCT.NAME', 'PROFIT', 'QUANTITY', 'REGION', 'ROW.ID', 'SALES', 'SEGMENT', 'SHIP.DATE', 'SHIP.MODE', 'SHIPPING.COST', 'STATE', 'SUB.CATEGORY', 'YEAR', 'MARKET2', 'WEEKNUM']\n"
     ]
    },
    {
     "data": {
      "text/plain": [
       "['CATEGORY', 'CITY']"
      ]
     },
     "execution_count": 198,
     "metadata": {},
     "output_type": "execute_result"
    }
   ],
   "source": [
    "all_columns =list(mySuperStoreDataFrame.columns)\n",
    "print(all_columns)\n",
    "columns=[col for col in all_columns if col in [\"CITY\", \"CATEGORY\"]]\n",
    "columns"
   ]
  },
  {
   "cell_type": "code",
   "execution_count": 188,
   "id": "098cec1a",
   "metadata": {},
   "outputs": [
    {
     "data": {
      "text/plain": [
       "'DISCOUNT'"
      ]
     },
     "execution_count": 188,
     "metadata": {},
     "output_type": "execute_result"
    }
   ],
   "source": [
    "np.array(mySuperStoreDataFrame.columns)[[0,4,5]]"
   ]
  },
  {
   "cell_type": "code",
   "execution_count": 161,
   "id": "6fb4a77a",
   "metadata": {},
   "outputs": [
    {
     "data": {
      "text/plain": [
       "'CATEGORY'"
      ]
     },
     "execution_count": 161,
     "metadata": {},
     "output_type": "execute_result"
    }
   ],
   "source": [
    "all_columns[0]"
   ]
  },
  {
   "cell_type": "code",
   "execution_count": 163,
   "id": "c63764be",
   "metadata": {},
   "outputs": [
    {
     "data": {
      "text/plain": [
       "[-1.4178759234352178,\n",
       " -1.5761110387239272,\n",
       " 1.7056457147277457,\n",
       " 2.1250470530109533,\n",
       " 0.04369157148800429,\n",
       " -0.8516391065638321]"
      ]
     },
     "execution_count": 163,
     "metadata": {},
     "output_type": "execute_result"
    }
   ],
   "source": [
    "myList=list(np.random.randn(6))\n",
    "myList"
   ]
  },
  {
   "cell_type": "code",
   "execution_count": 200,
   "id": "9570fb93",
   "metadata": {},
   "outputs": [
    {
     "name": "stdout",
     "output_type": "stream",
     "text": [
      "Checking wehter it is boolean list or actual values \n",
      "\n",
      "[ True False  True False]\n",
      "['CATEGORY' 'CITY']\n"
     ]
    }
   ],
   "source": [
    "import numpy as np\n",
    "\n",
    "\n",
    "columns = np.array([\"CATEGORY\", \"REGION\", \"CITY\", \"SALES\"])\n",
    "print(\"Checking wehter it is boolean list or actual values \\n\")\n",
    "print(np.isin(columns, [\"CATEGORY\", \"CITY\"]))\n",
    "\n",
    "result = columns[np.isin(columns, [\"CATEGORY\", \"CITY\"])]\n",
    "print(result)  "
   ]
  },
  {
   "cell_type": "code",
   "execution_count": 201,
   "id": "6bd810c6",
   "metadata": {},
   "outputs": [
    {
     "data": {
      "text/html": [
       "<div>\n",
       "<style scoped>\n",
       "    .dataframe tbody tr th:only-of-type {\n",
       "        vertical-align: middle;\n",
       "    }\n",
       "\n",
       "    .dataframe tbody tr th {\n",
       "        vertical-align: top;\n",
       "    }\n",
       "\n",
       "    .dataframe thead th {\n",
       "        text-align: right;\n",
       "    }\n",
       "</style>\n",
       "<table border=\"1\" class=\"dataframe\">\n",
       "  <thead>\n",
       "    <tr style=\"text-align: right;\">\n",
       "      <th></th>\n",
       "      <th>SHIP.MODE</th>\n",
       "      <th>ORDER.PRIORITY</th>\n",
       "      <th>COUNTRY</th>\n",
       "      <th>CITY</th>\n",
       "      <th>SHIPPING.COST</th>\n",
       "      <th>DISCOUNT</th>\n",
       "      <th>SALES</th>\n",
       "      <th>PROFIT</th>\n",
       "    </tr>\n",
       "  </thead>\n",
       "  <tbody>\n",
       "    <tr>\n",
       "      <th>0</th>\n",
       "      <td>Second Class</td>\n",
       "      <td>High</td>\n",
       "      <td>United States</td>\n",
       "      <td>Los Angeles</td>\n",
       "      <td>4.37</td>\n",
       "      <td>0.0</td>\n",
       "      <td>19</td>\n",
       "      <td>9.3312</td>\n",
       "    </tr>\n",
       "    <tr>\n",
       "      <th>1</th>\n",
       "      <td>Standard Class</td>\n",
       "      <td>Medium</td>\n",
       "      <td>United States</td>\n",
       "      <td>Los Angeles</td>\n",
       "      <td>0.94</td>\n",
       "      <td>0.0</td>\n",
       "      <td>19</td>\n",
       "      <td>9.2928</td>\n",
       "    </tr>\n",
       "    <tr>\n",
       "      <th>2</th>\n",
       "      <td>Standard Class</td>\n",
       "      <td>Medium</td>\n",
       "      <td>United States</td>\n",
       "      <td>Los Angeles</td>\n",
       "      <td>1.81</td>\n",
       "      <td>0.0</td>\n",
       "      <td>21</td>\n",
       "      <td>9.8418</td>\n",
       "    </tr>\n",
       "    <tr>\n",
       "      <th>3</th>\n",
       "      <td>Standard Class</td>\n",
       "      <td>Medium</td>\n",
       "      <td>United States</td>\n",
       "      <td>Los Angeles</td>\n",
       "      <td>4.59</td>\n",
       "      <td>0.0</td>\n",
       "      <td>111</td>\n",
       "      <td>53.2608</td>\n",
       "    </tr>\n",
       "    <tr>\n",
       "      <th>4</th>\n",
       "      <td>Standard Class</td>\n",
       "      <td>High</td>\n",
       "      <td>United States</td>\n",
       "      <td>Los Angeles</td>\n",
       "      <td>1.32</td>\n",
       "      <td>0.0</td>\n",
       "      <td>6</td>\n",
       "      <td>3.1104</td>\n",
       "    </tr>\n",
       "    <tr>\n",
       "      <th>...</th>\n",
       "      <td>...</td>\n",
       "      <td>...</td>\n",
       "      <td>...</td>\n",
       "      <td>...</td>\n",
       "      <td>...</td>\n",
       "      <td>...</td>\n",
       "      <td>...</td>\n",
       "      <td>...</td>\n",
       "    </tr>\n",
       "    <tr>\n",
       "      <th>51285</th>\n",
       "      <td>Same Day</td>\n",
       "      <td>High</td>\n",
       "      <td>United States</td>\n",
       "      <td>Los Angeles</td>\n",
       "      <td>5.15</td>\n",
       "      <td>0.2</td>\n",
       "      <td>69</td>\n",
       "      <td>22.5732</td>\n",
       "    </tr>\n",
       "    <tr>\n",
       "      <th>51286</th>\n",
       "      <td>Same Day</td>\n",
       "      <td>High</td>\n",
       "      <td>United States</td>\n",
       "      <td>Los Angeles</td>\n",
       "      <td>0.44</td>\n",
       "      <td>0.2</td>\n",
       "      <td>9</td>\n",
       "      <td>3.1584</td>\n",
       "    </tr>\n",
       "    <tr>\n",
       "      <th>51287</th>\n",
       "      <td>First Class</td>\n",
       "      <td>Medium</td>\n",
       "      <td>United States</td>\n",
       "      <td>Los Angeles</td>\n",
       "      <td>0.31</td>\n",
       "      <td>0.2</td>\n",
       "      <td>12</td>\n",
       "      <td>4.2804</td>\n",
       "    </tr>\n",
       "    <tr>\n",
       "      <th>51288</th>\n",
       "      <td>First Class</td>\n",
       "      <td>Critical</td>\n",
       "      <td>United States</td>\n",
       "      <td>Los Angeles</td>\n",
       "      <td>15.95</td>\n",
       "      <td>0.2</td>\n",
       "      <td>90</td>\n",
       "      <td>33.9300</td>\n",
       "    </tr>\n",
       "    <tr>\n",
       "      <th>51289</th>\n",
       "      <td>Standard Class</td>\n",
       "      <td>Medium</td>\n",
       "      <td>United States</td>\n",
       "      <td>Los Angeles</td>\n",
       "      <td>9.59</td>\n",
       "      <td>0.2</td>\n",
       "      <td>154</td>\n",
       "      <td>51.8238</td>\n",
       "    </tr>\n",
       "  </tbody>\n",
       "</table>\n",
       "<p>51290 rows × 8 columns</p>\n",
       "</div>"
      ],
      "text/plain": [
       "            SHIP.MODE ORDER.PRIORITY        COUNTRY         CITY  \\\n",
       "0        Second Class           High  United States  Los Angeles   \n",
       "1      Standard Class         Medium  United States  Los Angeles   \n",
       "2      Standard Class         Medium  United States  Los Angeles   \n",
       "3      Standard Class         Medium  United States  Los Angeles   \n",
       "4      Standard Class           High  United States  Los Angeles   \n",
       "...               ...            ...            ...          ...   \n",
       "51285        Same Day           High  United States  Los Angeles   \n",
       "51286        Same Day           High  United States  Los Angeles   \n",
       "51287     First Class         Medium  United States  Los Angeles   \n",
       "51288     First Class       Critical  United States  Los Angeles   \n",
       "51289  Standard Class         Medium  United States  Los Angeles   \n",
       "\n",
       "       SHIPPING.COST  DISCOUNT  SALES   PROFIT  \n",
       "0               4.37       0.0     19   9.3312  \n",
       "1               0.94       0.0     19   9.2928  \n",
       "2               1.81       0.0     21   9.8418  \n",
       "3               4.59       0.0    111  53.2608  \n",
       "4               1.32       0.0      6   3.1104  \n",
       "...              ...       ...    ...      ...  \n",
       "51285           5.15       0.2     69  22.5732  \n",
       "51286           0.44       0.2      9   3.1584  \n",
       "51287           0.31       0.2     12   4.2804  \n",
       "51288          15.95       0.2     90  33.9300  \n",
       "51289           9.59       0.2    154  51.8238  \n",
       "\n",
       "[51290 rows x 8 columns]"
      ]
     },
     "execution_count": 201,
     "metadata": {},
     "output_type": "execute_result"
    }
   ],
   "source": [
    "miniStore"
   ]
  },
  {
   "cell_type": "code",
   "execution_count": 203,
   "id": "307b0cd6",
   "metadata": {},
   "outputs": [
    {
     "data": {
      "text/html": [
       "<div>\n",
       "<style scoped>\n",
       "    .dataframe tbody tr th:only-of-type {\n",
       "        vertical-align: middle;\n",
       "    }\n",
       "\n",
       "    .dataframe tbody tr th {\n",
       "        vertical-align: top;\n",
       "    }\n",
       "\n",
       "    .dataframe thead th {\n",
       "        text-align: right;\n",
       "    }\n",
       "</style>\n",
       "<table border=\"1\" class=\"dataframe\">\n",
       "  <thead>\n",
       "    <tr style=\"text-align: right;\">\n",
       "      <th></th>\n",
       "      <th>SHIP.MODE</th>\n",
       "      <th>ORDER.PRIORITY</th>\n",
       "      <th>COUNTRY</th>\n",
       "    </tr>\n",
       "  </thead>\n",
       "  <tbody>\n",
       "    <tr>\n",
       "      <th>0</th>\n",
       "      <td>Second Class</td>\n",
       "      <td>High</td>\n",
       "      <td>United States</td>\n",
       "    </tr>\n",
       "    <tr>\n",
       "      <th>1</th>\n",
       "      <td>Standard Class</td>\n",
       "      <td>Medium</td>\n",
       "      <td>United States</td>\n",
       "    </tr>\n",
       "    <tr>\n",
       "      <th>2</th>\n",
       "      <td>Standard Class</td>\n",
       "      <td>Medium</td>\n",
       "      <td>United States</td>\n",
       "    </tr>\n",
       "    <tr>\n",
       "      <th>3</th>\n",
       "      <td>Standard Class</td>\n",
       "      <td>Medium</td>\n",
       "      <td>United States</td>\n",
       "    </tr>\n",
       "    <tr>\n",
       "      <th>4</th>\n",
       "      <td>Standard Class</td>\n",
       "      <td>High</td>\n",
       "      <td>United States</td>\n",
       "    </tr>\n",
       "    <tr>\n",
       "      <th>...</th>\n",
       "      <td>...</td>\n",
       "      <td>...</td>\n",
       "      <td>...</td>\n",
       "    </tr>\n",
       "    <tr>\n",
       "      <th>51285</th>\n",
       "      <td>Same Day</td>\n",
       "      <td>High</td>\n",
       "      <td>United States</td>\n",
       "    </tr>\n",
       "    <tr>\n",
       "      <th>51286</th>\n",
       "      <td>Same Day</td>\n",
       "      <td>High</td>\n",
       "      <td>United States</td>\n",
       "    </tr>\n",
       "    <tr>\n",
       "      <th>51287</th>\n",
       "      <td>First Class</td>\n",
       "      <td>Medium</td>\n",
       "      <td>United States</td>\n",
       "    </tr>\n",
       "    <tr>\n",
       "      <th>51288</th>\n",
       "      <td>First Class</td>\n",
       "      <td>Critical</td>\n",
       "      <td>United States</td>\n",
       "    </tr>\n",
       "    <tr>\n",
       "      <th>51289</th>\n",
       "      <td>Standard Class</td>\n",
       "      <td>Medium</td>\n",
       "      <td>United States</td>\n",
       "    </tr>\n",
       "  </tbody>\n",
       "</table>\n",
       "<p>51290 rows × 3 columns</p>\n",
       "</div>"
      ],
      "text/plain": [
       "            SHIP.MODE ORDER.PRIORITY        COUNTRY\n",
       "0        Second Class           High  United States\n",
       "1      Standard Class         Medium  United States\n",
       "2      Standard Class         Medium  United States\n",
       "3      Standard Class         Medium  United States\n",
       "4      Standard Class           High  United States\n",
       "...               ...            ...            ...\n",
       "51285        Same Day           High  United States\n",
       "51286        Same Day           High  United States\n",
       "51287     First Class         Medium  United States\n",
       "51288     First Class       Critical  United States\n",
       "51289  Standard Class         Medium  United States\n",
       "\n",
       "[51290 rows x 3 columns]"
      ]
     },
     "execution_count": 203,
     "metadata": {},
     "output_type": "execute_result"
    }
   ],
   "source": [
    "threeValues=miniStore[[\"SHIP.MODE\",\"ORDER.PRIORITY\",\"COUNTRY\"]]\n",
    "threeValues"
   ]
  },
  {
   "cell_type": "code",
   "execution_count": 216,
   "id": "8c573b47",
   "metadata": {},
   "outputs": [
    {
     "data": {
      "text/plain": [
       "51290"
      ]
     },
     "execution_count": 216,
     "metadata": {},
     "output_type": "execute_result"
    }
   ],
   "source": [
    "mySuperStoreDataFrame[[\"SHIP.MODE\",'ORDER.PRIORITY','COUNTRY']].groupby([\"SHIP.MODE\",'ORDER.PRIORITY','COUNTRY']).value_counts().reset_index()[0].sum()"
   ]
  },
  {
   "cell_type": "code",
   "execution_count": 228,
   "id": "8828fdb0",
   "metadata": {},
   "outputs": [
    {
     "data": {
      "text/plain": [
       "<matplotlib.legend.Legend at 0x281f8525e10>"
      ]
     },
     "execution_count": 228,
     "metadata": {},
     "output_type": "execute_result"
    },
    {
     "data": {
      "image/png": "[encoded data removed]",
      "text/plain": [
       "<Figure size 640x480 with 1 Axes>"
      ]
     },
     "metadata": {},
     "output_type": "display_data"
    }
   ],
   "source": [
    "myplot.scatter(x=mySuperStoreDataFrame[\"DISCOUNT\"], y=mySuperStoreDataFrame[\"SHIPPING.COST\"], label=\"SALES\")\n",
    "myplot.title(\"MY first Scatter Plot\")\n",
    "myplot.xticks([0.1,0.2,0.3,0.4,0.5,0.6,0.7,0.8])\n",
    "myplot.legend(loc=\"best\")"
   ]
  },
  {
   "cell_type": "code",
   "execution_count": 230,
   "id": "1a33d7cf",
   "metadata": {},
   "outputs": [
    {
     "data": {
      "text/plain": [
       "{'whiskers': [<matplotlib.lines.Line2D at 0x281f85e9010>,\n",
       "  <matplotlib.lines.Line2D at 0x281f8c1bd90>],\n",
       " 'caps': [<matplotlib.lines.Line2D at 0x281f8c1b050>,\n",
       "  <matplotlib.lines.Line2D at 0x281f8c1ad10>],\n",
       " 'boxes': [<matplotlib.lines.Line2D at 0x281b087a690>],\n",
       " 'medians': [<matplotlib.lines.Line2D at 0x281f8c1a810>],\n",
       " 'fliers': [<matplotlib.lines.Line2D at 0x281f8c19f90>],\n",
       " 'means': []}"
      ]
     },
     "execution_count": 230,
     "metadata": {},
     "output_type": "execute_result"
    },
    {
     "data": {
      "image/png": "[encoded data removed]",
      "text/plain": [
       "<Figure size 640x480 with 1 Axes>"
      ]
     },
     "metadata": {},
     "output_type": "display_data"
    }
   ],
   "source": [
    "myplot.boxplot(x=mySuperStoreDataFrame[\"DISCOUNT\"])"
   ]
  },
  {
   "cell_type": "markdown",
   "id": "8bec6816",
   "metadata": {},
   "source": [
    "### Let us make step by step approach to analyse the data set of any type\n"
   ]
  },
  {
   "cell_type": "markdown",
   "id": "21aec1d9",
   "metadata": {},
   "source": [
    "# Step 1: \n",
    "1. Start with the Canopy (Overview)\n",
    "#### Look at the dataset as a whole, like viewing the forest from above.\n",
    "### Actions:\n",
    "#### Use summary statistics (describe, info).\n",
    "Check data dimensions and types.\n",
    "Look for obvious patterns or outliers (e.g., missing data or extreme values).\n"
   ]
  },
  {
   "cell_type": "code",
   "execution_count": 231,
   "id": "ad8437a6",
   "metadata": {},
   "outputs": [
    {
     "data": {
      "text/html": [
       "<div>\n",
       "<style scoped>\n",
       "    .dataframe tbody tr th:only-of-type {\n",
       "        vertical-align: middle;\n",
       "    }\n",
       "\n",
       "    .dataframe tbody tr th {\n",
       "        vertical-align: top;\n",
       "    }\n",
       "\n",
       "    .dataframe thead th {\n",
       "        text-align: right;\n",
       "    }\n",
       "</style>\n",
       "<table border=\"1\" class=\"dataframe\">\n",
       "  <thead>\n",
       "    <tr style=\"text-align: right;\">\n",
       "      <th></th>\n",
       "      <th>DISCOUNT</th>\n",
       "      <th>记录数</th>\n",
       "      <th>PROFIT</th>\n",
       "      <th>QUANTITY</th>\n",
       "      <th>ROW.ID</th>\n",
       "      <th>SALES</th>\n",
       "      <th>SHIPPING.COST</th>\n",
       "      <th>YEAR</th>\n",
       "      <th>WEEKNUM</th>\n",
       "    </tr>\n",
       "  </thead>\n",
       "  <tbody>\n",
       "    <tr>\n",
       "      <th>count</th>\n",
       "      <td>51290.000000</td>\n",
       "      <td>51290.0</td>\n",
       "      <td>51290.000000</td>\n",
       "      <td>51290.000000</td>\n",
       "      <td>51290.00000</td>\n",
       "      <td>51290.000000</td>\n",
       "      <td>51290.000000</td>\n",
       "      <td>51290.000000</td>\n",
       "      <td>51290.000000</td>\n",
       "    </tr>\n",
       "    <tr>\n",
       "      <th>mean</th>\n",
       "      <td>0.142908</td>\n",
       "      <td>1.0</td>\n",
       "      <td>28.610982</td>\n",
       "      <td>3.476545</td>\n",
       "      <td>25645.50000</td>\n",
       "      <td>246.498440</td>\n",
       "      <td>26.375818</td>\n",
       "      <td>2012.777208</td>\n",
       "      <td>31.287112</td>\n",
       "    </tr>\n",
       "    <tr>\n",
       "      <th>std</th>\n",
       "      <td>0.212280</td>\n",
       "      <td>0.0</td>\n",
       "      <td>174.340972</td>\n",
       "      <td>2.278766</td>\n",
       "      <td>14806.29199</td>\n",
       "      <td>487.567175</td>\n",
       "      <td>57.296810</td>\n",
       "      <td>1.098931</td>\n",
       "      <td>14.429795</td>\n",
       "    </tr>\n",
       "    <tr>\n",
       "      <th>min</th>\n",
       "      <td>0.000000</td>\n",
       "      <td>1.0</td>\n",
       "      <td>-6599.978000</td>\n",
       "      <td>1.000000</td>\n",
       "      <td>1.00000</td>\n",
       "      <td>0.000000</td>\n",
       "      <td>0.002000</td>\n",
       "      <td>2011.000000</td>\n",
       "      <td>1.000000</td>\n",
       "    </tr>\n",
       "    <tr>\n",
       "      <th>25%</th>\n",
       "      <td>0.000000</td>\n",
       "      <td>1.0</td>\n",
       "      <td>0.000000</td>\n",
       "      <td>2.000000</td>\n",
       "      <td>12823.25000</td>\n",
       "      <td>31.000000</td>\n",
       "      <td>2.610000</td>\n",
       "      <td>2012.000000</td>\n",
       "      <td>20.000000</td>\n",
       "    </tr>\n",
       "    <tr>\n",
       "      <th>50%</th>\n",
       "      <td>0.000000</td>\n",
       "      <td>1.0</td>\n",
       "      <td>9.240000</td>\n",
       "      <td>3.000000</td>\n",
       "      <td>25645.50000</td>\n",
       "      <td>85.000000</td>\n",
       "      <td>7.790000</td>\n",
       "      <td>2013.000000</td>\n",
       "      <td>33.000000</td>\n",
       "    </tr>\n",
       "    <tr>\n",
       "      <th>75%</th>\n",
       "      <td>0.200000</td>\n",
       "      <td>1.0</td>\n",
       "      <td>36.810000</td>\n",
       "      <td>5.000000</td>\n",
       "      <td>38467.75000</td>\n",
       "      <td>251.000000</td>\n",
       "      <td>24.450000</td>\n",
       "      <td>2014.000000</td>\n",
       "      <td>44.000000</td>\n",
       "    </tr>\n",
       "    <tr>\n",
       "      <th>max</th>\n",
       "      <td>0.850000</td>\n",
       "      <td>1.0</td>\n",
       "      <td>8399.976000</td>\n",
       "      <td>14.000000</td>\n",
       "      <td>51290.00000</td>\n",
       "      <td>22638.000000</td>\n",
       "      <td>933.570000</td>\n",
       "      <td>2014.000000</td>\n",
       "      <td>53.000000</td>\n",
       "    </tr>\n",
       "  </tbody>\n",
       "</table>\n",
       "</div>"
      ],
      "text/plain": [
       "           DISCOUNT      记录数        PROFIT      QUANTITY       ROW.ID  \\\n",
       "count  51290.000000  51290.0  51290.000000  51290.000000  51290.00000   \n",
       "mean       0.142908      1.0     28.610982      3.476545  25645.50000   \n",
       "std        0.212280      0.0    174.340972      2.278766  14806.29199   \n",
       "min        0.000000      1.0  -6599.978000      1.000000      1.00000   \n",
       "25%        0.000000      1.0      0.000000      2.000000  12823.25000   \n",
       "50%        0.000000      1.0      9.240000      3.000000  25645.50000   \n",
       "75%        0.200000      1.0     36.810000      5.000000  38467.75000   \n",
       "max        0.850000      1.0   8399.976000     14.000000  51290.00000   \n",
       "\n",
       "              SALES  SHIPPING.COST          YEAR       WEEKNUM  \n",
       "count  51290.000000   51290.000000  51290.000000  51290.000000  \n",
       "mean     246.498440      26.375818   2012.777208     31.287112  \n",
       "std      487.567175      57.296810      1.098931     14.429795  \n",
       "min        0.000000       0.002000   2011.000000      1.000000  \n",
       "25%       31.000000       2.610000   2012.000000     20.000000  \n",
       "50%       85.000000       7.790000   2013.000000     33.000000  \n",
       "75%      251.000000      24.450000   2014.000000     44.000000  \n",
       "max    22638.000000     933.570000   2014.000000     53.000000  "
      ]
     },
     "execution_count": 231,
     "metadata": {},
     "output_type": "execute_result"
    }
   ],
   "source": [
    "mySuperStoreDataFrame.describe()"
   ]
  },
  {
   "cell_type": "code",
   "execution_count": 232,
   "id": "d0d761bf",
   "metadata": {},
   "outputs": [
    {
     "name": "stdout",
     "output_type": "stream",
     "text": [
      "<class 'pandas.core.frame.DataFrame'>\n",
      "RangeIndex: 51290 entries, 0 to 51289\n",
      "Data columns (total 27 columns):\n",
      " #   Column          Non-Null Count  Dtype  \n",
      "---  ------          --------------  -----  \n",
      " 0   CATEGORY        51290 non-null  object \n",
      " 1   CITY            51290 non-null  object \n",
      " 2   COUNTRY         51290 non-null  object \n",
      " 3   CUSTOMER.ID     51290 non-null  object \n",
      " 4   CUSTOMER.NAME   51290 non-null  object \n",
      " 5   DISCOUNT        51290 non-null  float64\n",
      " 6   MARKET          51290 non-null  object \n",
      " 7   记录数             51290 non-null  int64  \n",
      " 8   ORDER.DATE      51290 non-null  object \n",
      " 9   ORDER.ID        51290 non-null  object \n",
      " 10  ORDER.PRIORITY  51290 non-null  object \n",
      " 11  PRODUCT.ID      51290 non-null  object \n",
      " 12  PRODUCT.NAME    51290 non-null  object \n",
      " 13  PROFIT          51290 non-null  float64\n",
      " 14  QUANTITY        51290 non-null  int64  \n",
      " 15  REGION          51290 non-null  object \n",
      " 16  ROW.ID          51290 non-null  int64  \n",
      " 17  SALES           51290 non-null  int64  \n",
      " 18  SEGMENT         51290 non-null  object \n",
      " 19  SHIP.DATE       51290 non-null  object \n",
      " 20  SHIP.MODE       51290 non-null  object \n",
      " 21  SHIPPING.COST   51290 non-null  float64\n",
      " 22  STATE           51290 non-null  object \n",
      " 23  SUB.CATEGORY    51290 non-null  object \n",
      " 24  YEAR            51290 non-null  int64  \n",
      " 25  MARKET2         51290 non-null  object \n",
      " 26  WEEKNUM         51290 non-null  int64  \n",
      "dtypes: float64(3), int64(6), object(18)\n",
      "memory usage: 10.6+ MB\n"
     ]
    }
   ],
   "source": [
    "mySuperStoreDataFrame.info()"
   ]
  },
  {
   "cell_type": "code",
   "execution_count": 240,
   "id": "da11b7e5",
   "metadata": {},
   "outputs": [
    {
     "data": {
      "text/plain": [
       "25644.5"
      ]
     },
     "execution_count": 240,
     "metadata": {},
     "output_type": "execute_result"
    }
   ],
   "source": [
    "np.array(list(mySuperStoreDataFrame.index)).mean()"
   ]
  },
  {
   "cell_type": "code",
   "execution_count": 241,
   "id": "e3d73658",
   "metadata": {},
   "outputs": [
    {
     "data": {
      "text/plain": [
       "(51290, 27)"
      ]
     },
     "execution_count": 241,
     "metadata": {},
     "output_type": "execute_result"
    }
   ],
   "source": [
    "mySuperStoreDataFrame.shape"
   ]
  },
  {
   "cell_type": "code",
   "execution_count": 244,
   "id": "ca9e05db",
   "metadata": {},
   "outputs": [
    {
     "data": {
      "text/plain": [
       "CATEGORY           object\n",
       "CITY               object\n",
       "COUNTRY            object\n",
       "CUSTOMER.ID        object\n",
       "CUSTOMER.NAME      object\n",
       "DISCOUNT          float64\n",
       "MARKET             object\n",
       "记录数                 int64\n",
       "ORDER.DATE         object\n",
       "ORDER.ID           object\n",
       "ORDER.PRIORITY     object\n",
       "PRODUCT.ID         object\n",
       "PRODUCT.NAME       object\n",
       "PROFIT            float64\n",
       "QUANTITY            int64\n",
       "REGION             object\n",
       "ROW.ID              int64\n",
       "SALES               int64\n",
       "SEGMENT            object\n",
       "SHIP.DATE          object\n",
       "SHIP.MODE          object\n",
       "SHIPPING.COST     float64\n",
       "STATE              object\n",
       "SUB.CATEGORY       object\n",
       "YEAR                int64\n",
       "MARKET2            object\n",
       "WEEKNUM             int64\n",
       "dtype: object"
      ]
     },
     "execution_count": 244,
     "metadata": {},
     "output_type": "execute_result"
    }
   ],
   "source": [
    "mySuperStoreDataFrame.dtypes"
   ]
  },
  {
   "cell_type": "code",
   "execution_count": 245,
   "id": "acd7c524",
   "metadata": {},
   "outputs": [
    {
     "data": {
      "text/html": [
       "<div>\n",
       "<style scoped>\n",
       "    .dataframe tbody tr th:only-of-type {\n",
       "        vertical-align: middle;\n",
       "    }\n",
       "\n",
       "    .dataframe tbody tr th {\n",
       "        vertical-align: top;\n",
       "    }\n",
       "\n",
       "    .dataframe thead th {\n",
       "        text-align: right;\n",
       "    }\n",
       "</style>\n",
       "<table border=\"1\" class=\"dataframe\">\n",
       "  <thead>\n",
       "    <tr style=\"text-align: right;\">\n",
       "      <th></th>\n",
       "      <th>CATEGORY</th>\n",
       "      <th>CITY</th>\n",
       "      <th>COUNTRY</th>\n",
       "      <th>CUSTOMER.ID</th>\n",
       "      <th>CUSTOMER.NAME</th>\n",
       "      <th>DISCOUNT</th>\n",
       "      <th>MARKET</th>\n",
       "      <th>记录数</th>\n",
       "      <th>ORDER.DATE</th>\n",
       "      <th>ORDER.ID</th>\n",
       "      <th>...</th>\n",
       "      <th>SALES</th>\n",
       "      <th>SEGMENT</th>\n",
       "      <th>SHIP.DATE</th>\n",
       "      <th>SHIP.MODE</th>\n",
       "      <th>SHIPPING.COST</th>\n",
       "      <th>STATE</th>\n",
       "      <th>SUB.CATEGORY</th>\n",
       "      <th>YEAR</th>\n",
       "      <th>MARKET2</th>\n",
       "      <th>WEEKNUM</th>\n",
       "    </tr>\n",
       "  </thead>\n",
       "  <tbody>\n",
       "    <tr>\n",
       "      <th>0</th>\n",
       "      <td>Office Supplies</td>\n",
       "      <td>Los Angeles</td>\n",
       "      <td>United States</td>\n",
       "      <td>LS-172304</td>\n",
       "      <td>Lycoris Saunders</td>\n",
       "      <td>0.0</td>\n",
       "      <td>US</td>\n",
       "      <td>1</td>\n",
       "      <td>2011-01-07 00:00:00.000</td>\n",
       "      <td>CA-2011-130813</td>\n",
       "      <td>...</td>\n",
       "      <td>19</td>\n",
       "      <td>Consumer</td>\n",
       "      <td>2011-01-09 00:00:00.000</td>\n",
       "      <td>Second Class</td>\n",
       "      <td>4.37</td>\n",
       "      <td>California</td>\n",
       "      <td>Paper</td>\n",
       "      <td>2011</td>\n",
       "      <td>North America</td>\n",
       "      <td>2</td>\n",
       "    </tr>\n",
       "    <tr>\n",
       "      <th>1</th>\n",
       "      <td>Office Supplies</td>\n",
       "      <td>Los Angeles</td>\n",
       "      <td>United States</td>\n",
       "      <td>MV-174854</td>\n",
       "      <td>Mark Van Huff</td>\n",
       "      <td>0.0</td>\n",
       "      <td>US</td>\n",
       "      <td>1</td>\n",
       "      <td>2011-01-21 00:00:00.000</td>\n",
       "      <td>CA-2011-148614</td>\n",
       "      <td>...</td>\n",
       "      <td>19</td>\n",
       "      <td>Consumer</td>\n",
       "      <td>2011-01-26 00:00:00.000</td>\n",
       "      <td>Standard Class</td>\n",
       "      <td>0.94</td>\n",
       "      <td>California</td>\n",
       "      <td>Paper</td>\n",
       "      <td>2011</td>\n",
       "      <td>North America</td>\n",
       "      <td>4</td>\n",
       "    </tr>\n",
       "    <tr>\n",
       "      <th>2</th>\n",
       "      <td>Office Supplies</td>\n",
       "      <td>Los Angeles</td>\n",
       "      <td>United States</td>\n",
       "      <td>CS-121304</td>\n",
       "      <td>Chad Sievert</td>\n",
       "      <td>0.0</td>\n",
       "      <td>US</td>\n",
       "      <td>1</td>\n",
       "      <td>2011-08-05 00:00:00.000</td>\n",
       "      <td>CA-2011-118962</td>\n",
       "      <td>...</td>\n",
       "      <td>21</td>\n",
       "      <td>Consumer</td>\n",
       "      <td>2011-08-09 00:00:00.000</td>\n",
       "      <td>Standard Class</td>\n",
       "      <td>1.81</td>\n",
       "      <td>California</td>\n",
       "      <td>Paper</td>\n",
       "      <td>2011</td>\n",
       "      <td>North America</td>\n",
       "      <td>32</td>\n",
       "    </tr>\n",
       "    <tr>\n",
       "      <th>3</th>\n",
       "      <td>Office Supplies</td>\n",
       "      <td>Los Angeles</td>\n",
       "      <td>United States</td>\n",
       "      <td>CS-121304</td>\n",
       "      <td>Chad Sievert</td>\n",
       "      <td>0.0</td>\n",
       "      <td>US</td>\n",
       "      <td>1</td>\n",
       "      <td>2011-08-05 00:00:00.000</td>\n",
       "      <td>CA-2011-118962</td>\n",
       "      <td>...</td>\n",
       "      <td>111</td>\n",
       "      <td>Consumer</td>\n",
       "      <td>2011-08-09 00:00:00.000</td>\n",
       "      <td>Standard Class</td>\n",
       "      <td>4.59</td>\n",
       "      <td>California</td>\n",
       "      <td>Paper</td>\n",
       "      <td>2011</td>\n",
       "      <td>North America</td>\n",
       "      <td>32</td>\n",
       "    </tr>\n",
       "    <tr>\n",
       "      <th>4</th>\n",
       "      <td>Office Supplies</td>\n",
       "      <td>Los Angeles</td>\n",
       "      <td>United States</td>\n",
       "      <td>AP-109154</td>\n",
       "      <td>Arthur Prichep</td>\n",
       "      <td>0.0</td>\n",
       "      <td>US</td>\n",
       "      <td>1</td>\n",
       "      <td>2011-09-29 00:00:00.000</td>\n",
       "      <td>CA-2011-146969</td>\n",
       "      <td>...</td>\n",
       "      <td>6</td>\n",
       "      <td>Consumer</td>\n",
       "      <td>2011-10-03 00:00:00.000</td>\n",
       "      <td>Standard Class</td>\n",
       "      <td>1.32</td>\n",
       "      <td>California</td>\n",
       "      <td>Paper</td>\n",
       "      <td>2011</td>\n",
       "      <td>North America</td>\n",
       "      <td>40</td>\n",
       "    </tr>\n",
       "  </tbody>\n",
       "</table>\n",
       "<p>5 rows × 27 columns</p>\n",
       "</div>"
      ],
      "text/plain": [
       "          CATEGORY         CITY        COUNTRY CUSTOMER.ID     CUSTOMER.NAME  \\\n",
       "0  Office Supplies  Los Angeles  United States   LS-172304  Lycoris Saunders   \n",
       "1  Office Supplies  Los Angeles  United States   MV-174854     Mark Van Huff   \n",
       "2  Office Supplies  Los Angeles  United States   CS-121304      Chad Sievert   \n",
       "3  Office Supplies  Los Angeles  United States   CS-121304      Chad Sievert   \n",
       "4  Office Supplies  Los Angeles  United States   AP-109154    Arthur Prichep   \n",
       "\n",
       "   DISCOUNT MARKET  记录数               ORDER.DATE        ORDER.ID  ... SALES  \\\n",
       "0       0.0     US    1  2011-01-07 00:00:00.000  CA-2011-130813  ...    19   \n",
       "1       0.0     US    1  2011-01-21 00:00:00.000  CA-2011-148614  ...    19   \n",
       "2       0.0     US    1  2011-08-05 00:00:00.000  CA-2011-118962  ...    21   \n",
       "3       0.0     US    1  2011-08-05 00:00:00.000  CA-2011-118962  ...   111   \n",
       "4       0.0     US    1  2011-09-29 00:00:00.000  CA-2011-146969  ...     6   \n",
       "\n",
       "    SEGMENT                SHIP.DATE       SHIP.MODE  SHIPPING.COST  \\\n",
       "0  Consumer  2011-01-09 00:00:00.000    Second Class           4.37   \n",
       "1  Consumer  2011-01-26 00:00:00.000  Standard Class           0.94   \n",
       "2  Consumer  2011-08-09 00:00:00.000  Standard Class           1.81   \n",
       "3  Consumer  2011-08-09 00:00:00.000  Standard Class           4.59   \n",
       "4  Consumer  2011-10-03 00:00:00.000  Standard Class           1.32   \n",
       "\n",
       "        STATE  SUB.CATEGORY  YEAR        MARKET2 WEEKNUM  \n",
       "0  California         Paper  2011  North America       2  \n",
       "1  California         Paper  2011  North America       4  \n",
       "2  California         Paper  2011  North America      32  \n",
       "3  California         Paper  2011  North America      32  \n",
       "4  California         Paper  2011  North America      40  \n",
       "\n",
       "[5 rows x 27 columns]"
      ]
     },
     "execution_count": 245,
     "metadata": {},
     "output_type": "execute_result"
    }
   ],
   "source": [
    "mySuperStoreDataFrame.head()"
   ]
  },
  {
   "cell_type": "code",
   "execution_count": 247,
   "id": "e5534d5e",
   "metadata": {},
   "outputs": [
    {
     "data": {
      "text/plain": [
       "array(['Consumer', 'Home Office', 'Corporate'], dtype=object)"
      ]
     },
     "execution_count": 247,
     "metadata": {},
     "output_type": "execute_result"
    }
   ],
   "source": [
    "mySuperStoreDataFrame[\"SEGMENT\"].unique()"
   ]
  },
  {
   "cell_type": "code",
   "execution_count": 250,
   "id": "ad7d587b",
   "metadata": {},
   "outputs": [
    {
     "data": {
      "text/plain": [
       "0       NaN\n",
       "1       NaN\n",
       "2       NaN\n",
       "3       NaN\n",
       "4       NaN\n",
       "         ..\n",
       "51285   NaN\n",
       "51286   NaN\n",
       "51287   NaN\n",
       "51288   NaN\n",
       "51289   NaN\n",
       "Name: SEGMENT, Length: 51290, dtype: float64"
      ]
     },
     "execution_count": 250,
     "metadata": {},
     "output_type": "execute_result"
    }
   ],
   "source": [
    "pd.to_numeric(mySuperStoreDataFrame[\"SEGMENT\"], errors=\"coerce\")"
   ]
  },
  {
   "cell_type": "code",
   "execution_count": 252,
   "id": "728637b3",
   "metadata": {},
   "outputs": [
    {
     "data": {
      "text/plain": [
       "0       2011-01-09\n",
       "1       2011-01-26\n",
       "2       2011-08-09\n",
       "3       2011-08-09\n",
       "4       2011-10-03\n",
       "           ...    \n",
       "51285   2014-12-04\n",
       "51286   2014-12-04\n",
       "51287   2014-12-21\n",
       "51288   2014-12-26\n",
       "51289   2014-12-30\n",
       "Name: SHIP.DATE, Length: 51290, dtype: datetime64[ns]"
      ]
     },
     "execution_count": 252,
     "metadata": {},
     "output_type": "execute_result"
    }
   ],
   "source": [
    "pd.to_datetime(mySuperStoreDataFrame[\"SHIP.DATE\"], errors=\"coerce\")"
   ]
  },
  {
   "cell_type": "code",
   "execution_count": 253,
   "id": "7c53420a",
   "metadata": {},
   "outputs": [
    {
     "data": {
      "text/plain": [
       "0        2011-01-09 00:00:00.000\n",
       "1        2011-01-26 00:00:00.000\n",
       "2        2011-08-09 00:00:00.000\n",
       "3        2011-08-09 00:00:00.000\n",
       "4        2011-10-03 00:00:00.000\n",
       "                  ...           \n",
       "51285    2014-12-04 00:00:00.000\n",
       "51286    2014-12-04 00:00:00.000\n",
       "51287    2014-12-21 00:00:00.000\n",
       "51288    2014-12-26 00:00:00.000\n",
       "51289    2014-12-30 00:00:00.000\n",
       "Name: SHIP.DATE, Length: 51290, dtype: object"
      ]
     },
     "execution_count": 253,
     "metadata": {},
     "output_type": "execute_result"
    }
   ],
   "source": [
    "mySuperStoreDataFrame[\"SHIP.DATE\"]"
   ]
  },
  {
   "cell_type": "code",
   "execution_count": 255,
   "id": "fa17a0e1",
   "metadata": {},
   "outputs": [
    {
     "data": {
      "text/plain": [
       "0       1970-01-01 00:00:00.000000019\n",
       "1       1970-01-01 00:00:00.000000019\n",
       "2       1970-01-01 00:00:00.000000021\n",
       "3       1970-01-01 00:00:00.000000111\n",
       "4       1970-01-01 00:00:00.000000006\n",
       "                     ...             \n",
       "51285   1970-01-01 00:00:00.000000069\n",
       "51286   1970-01-01 00:00:00.000000009\n",
       "51287   1970-01-01 00:00:00.000000012\n",
       "51288   1970-01-01 00:00:00.000000090\n",
       "51289   1970-01-01 00:00:00.000000154\n",
       "Name: SALES, Length: 51290, dtype: datetime64[ns]"
      ]
     },
     "execution_count": 255,
     "metadata": {},
     "output_type": "execute_result"
    }
   ],
   "source": [
    "pd.to_datetime(mySuperStoreDataFrame[\"SALES\"])"
   ]
  },
  {
   "cell_type": "code",
   "execution_count": 258,
   "id": "823e994f",
   "metadata": {},
   "outputs": [
    {
     "data": {
      "text/plain": [
       "DatetimeIndex(['1970-01-01 00:00:00.000000011',\n",
       "               '1970-01-01 00:00:00.000000022',\n",
       "               '1970-01-01 00:00:00.000000015'],\n",
       "              dtype='datetime64[ns]', freq=None)"
      ]
     },
     "execution_count": 258,
     "metadata": {},
     "output_type": "execute_result"
    }
   ],
   "source": [
    "pd.to_datetime([11,22,15])"
   ]
  },
  {
   "cell_type": "code",
   "execution_count": 267,
   "id": "14b129f0",
   "metadata": {},
   "outputs": [
    {
     "data": {
      "text/plain": [
       "datetime.date(1992, 6, 30)"
      ]
     },
     "execution_count": 267,
     "metadata": {},
     "output_type": "execute_result"
    }
   ],
   "source": [
    "import datetime\n",
    "birthday=datetime.datetime.strptime('1992/06/30',\"%Y/%m/%d\")\n",
    "date=birthday.date()\n",
    "date"
   ]
  },
  {
   "cell_type": "code",
   "execution_count": 277,
   "id": "44cd7b11",
   "metadata": {},
   "outputs": [
    {
     "data": {
      "text/plain": [
       "str"
      ]
     },
     "execution_count": 277,
     "metadata": {},
     "output_type": "execute_result"
    }
   ],
   "source": [
    "birthday=datetime.datetime.strftime(datetime.datetime(1992,6,30),\"%m/%d/%Y %H:%M\")\n"
   ]
  },
  {
   "cell_type": "code",
   "execution_count": 296,
   "id": "0a949608",
   "metadata": {},
   "outputs": [
    {
     "data": {
      "text/plain": [
       "datetime.datetime(1992, 6, 30, 0, 0)"
      ]
     },
     "execution_count": 296,
     "metadata": {},
     "output_type": "execute_result"
    }
   ],
   "source": [
    "from datetime import datetime, date, time\n",
    "birthday=datetime(1992,6,30)\n",
    "birthday"
   ]
  },
  {
   "cell_type": "code",
   "execution_count": 299,
   "id": "80fd33b3",
   "metadata": {},
   "outputs": [
    {
     "data": {
      "text/plain": [
       "'06-30-1992 00:00'"
      ]
     },
     "execution_count": 299,
     "metadata": {},
     "output_type": "execute_result"
    }
   ],
   "source": [
    "stringFrom=birthday.strftime('%m-%d-%Y %H:%M')\n",
    "stringFrom"
   ]
  },
  {
   "cell_type": "code",
   "execution_count": 301,
   "id": "f54a2a95",
   "metadata": {},
   "outputs": [
    {
     "data": {
      "text/plain": [
       "datetime.datetime(1992, 6, 30, 0, 0)"
      ]
     },
     "execution_count": 301,
     "metadata": {},
     "output_type": "execute_result"
    }
   ],
   "source": [
    "datetime.strptime(stringFrom,'%m-%d-%Y %H:%M')"
   ]
  },
  {
   "cell_type": "code",
   "execution_count": 293,
   "id": "3a71b776",
   "metadata": {},
   "outputs": [
    {
     "data": {
      "text/plain": [
       "0       2011-01-09\n",
       "1       2011-01-26\n",
       "2       2011-08-09\n",
       "3       2011-08-09\n",
       "4       2011-10-03\n",
       "           ...    \n",
       "51285   2014-12-04\n",
       "51286   2014-12-04\n",
       "51287   2014-12-21\n",
       "51288   2014-12-26\n",
       "51289   2014-12-30\n",
       "Name: SHIP.DATE, Length: 51290, dtype: datetime64[ns]"
      ]
     },
     "execution_count": 293,
     "metadata": {},
     "output_type": "execute_result"
    }
   ],
   "source": [
    "mySuperStoreDataFrame[\"SHIP.DATE\"]=pd.to_datetime(mySuperStoreDataFrame[\"SHIP.DATE\"])\n",
    "mySuperStoreDataFrame[\"SHIP.DATE\"]"
   ]
  },
  {
   "cell_type": "code",
   "execution_count": 294,
   "id": "0bb8d852",
   "metadata": {},
   "outputs": [
    {
     "name": "stdout",
     "output_type": "stream",
     "text": [
      "The Unsampled data frame is  2000-01-01   -1.173236\n",
      "2000-01-02   -0.481457\n",
      "2000-01-03   -1.448930\n",
      "2000-01-04   -0.279259\n",
      "2000-01-05   -1.057434\n",
      "                ...   \n",
      "2001-12-26    0.041366\n",
      "2001-12-27   -0.305435\n",
      "2001-12-28   -0.964643\n",
      "2001-12-29   -1.170088\n",
      "2001-12-30    0.215532\n",
      "Freq: D, Length: 730, dtype: float64\n",
      "\n",
      " the resampled data frame is \n",
      "2000-12-31    34.467179\n",
      "2001-12-31    44.482007\n",
      "Freq: A-DEC, dtype: float64\n"
     ]
    }
   ],
   "source": [
    "\n",
    "dates = pd.date_range('2000-01-01', periods=365*2, freq='D')  \n",
    "data = np.random.randn(len(dates))  \n",
    "\n",
    "\n",
    "df = pd.Series(data, index=dates)\n",
    "print(\"The Unsampled data frame is \", df)\n",
    "\n",
    "print(\"\\n the resampled data frame is \")\n",
    "df_resampled = df.resample('A').sum()  \n",
    "\n",
    "print(df_resampled)\n"
   ]
  },
  {
   "cell_type": "code",
   "execution_count": 373,
   "id": "8157852c",
   "metadata": {},
   "outputs": [
    {
     "data": {
      "text/plain": [
       "SHIP.MODE         <bound method Series.unique of 0          Seco...\n",
       "ORDER.PRIORITY    <bound method Series.unique of 0            Hi...\n",
       "COUNTRY           <bound method Series.unique of 0        United...\n",
       "CITY              <bound method Series.unique of 0        Los An...\n",
       "SHIPPING.COST     <bound method Series.unique of 0         4.37\\...\n",
       "DISCOUNT          <bound method Series.unique of 0        0.0\\n1...\n",
       "SALES             <bound method Series.unique of 0         19\\n1...\n",
       "PROFIT            <bound method Series.unique of 0         9.331...\n",
       "dtype: object"
      ]
     },
     "execution_count": 373,
     "metadata": {},
     "output_type": "execute_result"
    }
   ],
   "source": [
    "miniStore.apply(lambda x: x.unique)"
   ]
  },
  {
   "cell_type": "code",
   "execution_count": 356,
   "id": "4050f3e6",
   "metadata": {},
   "outputs": [
    {
     "data": {
      "text/plain": [
       "array([  19,   21,  111, ..., 3360, 4159, 2357], dtype=int64)"
      ]
     },
     "execution_count": 356,
     "metadata": {},
     "output_type": "execute_result"
    }
   ],
   "source": [
    "miniStore[\"SALES\"].unique()"
   ]
  },
  {
   "cell_type": "code",
   "execution_count": 312,
   "id": "5de312aa",
   "metadata": {},
   "outputs": [
    {
     "data": {
      "text/plain": [
       "True"
      ]
     },
     "execution_count": 312,
     "metadata": {},
     "output_type": "execute_result"
    }
   ],
   "source": [
    "miniStore.index.is_unique"
   ]
  },
  {
   "cell_type": "code",
   "execution_count": 363,
   "id": "49cb153d",
   "metadata": {},
   "outputs": [
    {
     "data": {
      "text/plain": [
       "0         19\n",
       "1         19\n",
       "2         21\n",
       "3        111\n",
       "4          6\n",
       "        ... \n",
       "51285     69\n",
       "51286      9\n",
       "51287     12\n",
       "51288     90\n",
       "51289    154\n",
       "Name: SALES, Length: 51290, dtype: int64"
      ]
     },
     "execution_count": 363,
     "metadata": {},
     "output_type": "execute_result"
    }
   ],
   "source": [
    "miniStore[\"SALES\"]"
   ]
  },
  {
   "cell_type": "code",
   "execution_count": 375,
   "id": "11af4027",
   "metadata": {},
   "outputs": [
    {
     "data": {
      "text/plain": [
       "Range    <bound method Series.unique of 0    0\\n1    1\\...\n",
       "dtype: object"
      ]
     },
     "execution_count": 375,
     "metadata": {},
     "output_type": "execute_result"
    }
   ],
   "source": [
    "#pd.Series(range(5), index=range(5)).apply(lambda x: x.unique())\n",
    "pd.DataFrame(range(5), columns=[\"Range\"]).apply(lambda x :x.unique)"
   ]
  },
  {
   "cell_type": "code",
   "execution_count": 319,
   "id": "8b7ac3bd",
   "metadata": {},
   "outputs": [
    {
     "data": {
      "text/plain": [
       "147"
      ]
     },
     "execution_count": 319,
     "metadata": {},
     "output_type": "execute_result"
    }
   ],
   "source": [
    "sales=miniStore[\"COUNTRY\"]\n",
    "len(pd.unique(sales))"
   ]
  },
  {
   "cell_type": "code",
   "execution_count": 322,
   "id": "bbed656e",
   "metadata": {},
   "outputs": [
    {
     "data": {
      "text/plain": [
       "0"
      ]
     },
     "execution_count": 322,
     "metadata": {},
     "output_type": "execute_result"
    }
   ],
   "source": [
    "sum(miniStore[\"SALES\"].isna())"
   ]
  },
  {
   "cell_type": "code",
   "execution_count": 325,
   "id": "9d15083c",
   "metadata": {},
   "outputs": [
    {
     "data": {
      "text/plain": [
       "0"
      ]
     },
     "execution_count": 325,
     "metadata": {},
     "output_type": "execute_result"
    }
   ],
   "source": [
    "sum(miniStore[\"SALES\"].isnull())"
   ]
  },
  {
   "cell_type": "code",
   "execution_count": 332,
   "id": "f6a4fe30",
   "metadata": {},
   "outputs": [
    {
     "data": {
      "text/html": [
       "<div>\n",
       "<style scoped>\n",
       "    .dataframe tbody tr th:only-of-type {\n",
       "        vertical-align: middle;\n",
       "    }\n",
       "\n",
       "    .dataframe tbody tr th {\n",
       "        vertical-align: top;\n",
       "    }\n",
       "\n",
       "    .dataframe thead th {\n",
       "        text-align: right;\n",
       "    }\n",
       "</style>\n",
       "<table border=\"1\" class=\"dataframe\">\n",
       "  <thead>\n",
       "    <tr style=\"text-align: right;\">\n",
       "      <th></th>\n",
       "      <th>SHIP.MODE</th>\n",
       "      <th>ORDER.PRIORITY</th>\n",
       "      <th>COUNTRY</th>\n",
       "      <th>CITY</th>\n",
       "      <th>SHIPPING.COST</th>\n",
       "      <th>DISCOUNT</th>\n",
       "      <th>SALES</th>\n",
       "      <th>PROFIT</th>\n",
       "    </tr>\n",
       "  </thead>\n",
       "  <tbody>\n",
       "    <tr>\n",
       "      <th>0</th>\n",
       "      <td>False</td>\n",
       "      <td>False</td>\n",
       "      <td>False</td>\n",
       "      <td>False</td>\n",
       "      <td>False</td>\n",
       "      <td>False</td>\n",
       "      <td>False</td>\n",
       "      <td>False</td>\n",
       "    </tr>\n",
       "    <tr>\n",
       "      <th>1</th>\n",
       "      <td>False</td>\n",
       "      <td>False</td>\n",
       "      <td>False</td>\n",
       "      <td>False</td>\n",
       "      <td>False</td>\n",
       "      <td>False</td>\n",
       "      <td>False</td>\n",
       "      <td>False</td>\n",
       "    </tr>\n",
       "    <tr>\n",
       "      <th>2</th>\n",
       "      <td>False</td>\n",
       "      <td>False</td>\n",
       "      <td>False</td>\n",
       "      <td>False</td>\n",
       "      <td>False</td>\n",
       "      <td>False</td>\n",
       "      <td>False</td>\n",
       "      <td>False</td>\n",
       "    </tr>\n",
       "    <tr>\n",
       "      <th>3</th>\n",
       "      <td>False</td>\n",
       "      <td>False</td>\n",
       "      <td>False</td>\n",
       "      <td>False</td>\n",
       "      <td>False</td>\n",
       "      <td>False</td>\n",
       "      <td>False</td>\n",
       "      <td>False</td>\n",
       "    </tr>\n",
       "    <tr>\n",
       "      <th>4</th>\n",
       "      <td>False</td>\n",
       "      <td>False</td>\n",
       "      <td>False</td>\n",
       "      <td>False</td>\n",
       "      <td>False</td>\n",
       "      <td>False</td>\n",
       "      <td>False</td>\n",
       "      <td>False</td>\n",
       "    </tr>\n",
       "    <tr>\n",
       "      <th>...</th>\n",
       "      <td>...</td>\n",
       "      <td>...</td>\n",
       "      <td>...</td>\n",
       "      <td>...</td>\n",
       "      <td>...</td>\n",
       "      <td>...</td>\n",
       "      <td>...</td>\n",
       "      <td>...</td>\n",
       "    </tr>\n",
       "    <tr>\n",
       "      <th>51285</th>\n",
       "      <td>False</td>\n",
       "      <td>False</td>\n",
       "      <td>False</td>\n",
       "      <td>False</td>\n",
       "      <td>False</td>\n",
       "      <td>False</td>\n",
       "      <td>False</td>\n",
       "      <td>False</td>\n",
       "    </tr>\n",
       "    <tr>\n",
       "      <th>51286</th>\n",
       "      <td>False</td>\n",
       "      <td>False</td>\n",
       "      <td>False</td>\n",
       "      <td>False</td>\n",
       "      <td>False</td>\n",
       "      <td>False</td>\n",
       "      <td>False</td>\n",
       "      <td>False</td>\n",
       "    </tr>\n",
       "    <tr>\n",
       "      <th>51287</th>\n",
       "      <td>False</td>\n",
       "      <td>False</td>\n",
       "      <td>False</td>\n",
       "      <td>False</td>\n",
       "      <td>False</td>\n",
       "      <td>False</td>\n",
       "      <td>False</td>\n",
       "      <td>False</td>\n",
       "    </tr>\n",
       "    <tr>\n",
       "      <th>51288</th>\n",
       "      <td>False</td>\n",
       "      <td>False</td>\n",
       "      <td>False</td>\n",
       "      <td>False</td>\n",
       "      <td>False</td>\n",
       "      <td>False</td>\n",
       "      <td>False</td>\n",
       "      <td>False</td>\n",
       "    </tr>\n",
       "    <tr>\n",
       "      <th>51289</th>\n",
       "      <td>False</td>\n",
       "      <td>False</td>\n",
       "      <td>False</td>\n",
       "      <td>False</td>\n",
       "      <td>False</td>\n",
       "      <td>False</td>\n",
       "      <td>False</td>\n",
       "      <td>False</td>\n",
       "    </tr>\n",
       "  </tbody>\n",
       "</table>\n",
       "<p>51290 rows × 8 columns</p>\n",
       "</div>"
      ],
      "text/plain": [
       "       SHIP.MODE  ORDER.PRIORITY  COUNTRY   CITY  SHIPPING.COST  DISCOUNT  \\\n",
       "0          False           False    False  False          False     False   \n",
       "1          False           False    False  False          False     False   \n",
       "2          False           False    False  False          False     False   \n",
       "3          False           False    False  False          False     False   \n",
       "4          False           False    False  False          False     False   \n",
       "...          ...             ...      ...    ...            ...       ...   \n",
       "51285      False           False    False  False          False     False   \n",
       "51286      False           False    False  False          False     False   \n",
       "51287      False           False    False  False          False     False   \n",
       "51288      False           False    False  False          False     False   \n",
       "51289      False           False    False  False          False     False   \n",
       "\n",
       "       SALES  PROFIT  \n",
       "0      False   False  \n",
       "1      False   False  \n",
       "2      False   False  \n",
       "3      False   False  \n",
       "4      False   False  \n",
       "...      ...     ...  \n",
       "51285  False   False  \n",
       "51286  False   False  \n",
       "51287  False   False  \n",
       "51288  False   False  \n",
       "51289  False   False  \n",
       "\n",
       "[51290 rows x 8 columns]"
      ]
     },
     "execution_count": 332,
     "metadata": {},
     "output_type": "execute_result"
    }
   ],
   "source": [
    "miniStore.isna()"
   ]
  },
  {
   "cell_type": "code",
   "execution_count": 350,
   "id": "c82b8974",
   "metadata": {},
   "outputs": [
    {
     "data": {
      "text/plain": [
       "SHIP.MODE         0\n",
       "ORDER.PRIORITY    0\n",
       "COUNTRY           0\n",
       "CITY              0\n",
       "SHIPPING.COST     0\n",
       "DISCOUNT          0\n",
       "SALES             0\n",
       "PROFIT            0\n",
       "dtype: int64"
      ]
     },
     "execution_count": 350,
     "metadata": {},
     "output_type": "execute_result"
    }
   ],
   "source": [
    "miniStore.isna().apply('sum')\n"
   ]
  },
  {
   "cell_type": "code",
   "execution_count": 337,
   "id": "821aa2ab",
   "metadata": {},
   "outputs": [
    {
     "name": "stdout",
     "output_type": "stream",
     "text": [
      "1\n"
     ]
    }
   ],
   "source": [
    "print(True+False)"
   ]
  },
  {
   "cell_type": "markdown",
   "id": "229af502",
   "metadata": {},
   "source": [
    "## map() and apply()\n",
    "#### each column act as series when acessed from data frame or pd.Series() itself. The thing is series is one dimensional with interesting thing that both methods can be applied to it where each value of it can be modified with apply() and map() having more flexibilty of apply(). \n",
    "#### Similarlly data frame is 2D we can use apply() either row-wise or colum-wise whose actions are on entire row or column rather individual items. \n",
    "#### sometimes we need to use our operations on each items across rows or columns of data frame for that we have applymap() similar to apply() except that the actions are perfomed on each item."
   ]
  },
  {
   "cell_type": "code",
   "execution_count": 379,
   "id": "93e13219",
   "metadata": {},
   "outputs": [
    {
     "data": {
      "text/html": [
       "<div>\n",
       "<style scoped>\n",
       "    .dataframe tbody tr th:only-of-type {\n",
       "        vertical-align: middle;\n",
       "    }\n",
       "\n",
       "    .dataframe tbody tr th {\n",
       "        vertical-align: top;\n",
       "    }\n",
       "\n",
       "    .dataframe thead th {\n",
       "        text-align: right;\n",
       "    }\n",
       "</style>\n",
       "<table border=\"1\" class=\"dataframe\">\n",
       "  <thead>\n",
       "    <tr style=\"text-align: right;\">\n",
       "      <th></th>\n",
       "      <th>SHIPPING.COST</th>\n",
       "      <th>DISCOUNT</th>\n",
       "      <th>SALES</th>\n",
       "      <th>PROFIT</th>\n",
       "    </tr>\n",
       "  </thead>\n",
       "  <tbody>\n",
       "    <tr>\n",
       "      <th>0</th>\n",
       "      <td>4.37</td>\n",
       "      <td>0.0</td>\n",
       "      <td>19</td>\n",
       "      <td>9.3312</td>\n",
       "    </tr>\n",
       "    <tr>\n",
       "      <th>1</th>\n",
       "      <td>0.94</td>\n",
       "      <td>0.0</td>\n",
       "      <td>19</td>\n",
       "      <td>9.2928</td>\n",
       "    </tr>\n",
       "    <tr>\n",
       "      <th>2</th>\n",
       "      <td>1.81</td>\n",
       "      <td>0.0</td>\n",
       "      <td>21</td>\n",
       "      <td>9.8418</td>\n",
       "    </tr>\n",
       "    <tr>\n",
       "      <th>3</th>\n",
       "      <td>4.59</td>\n",
       "      <td>0.0</td>\n",
       "      <td>111</td>\n",
       "      <td>53.2608</td>\n",
       "    </tr>\n",
       "    <tr>\n",
       "      <th>4</th>\n",
       "      <td>1.32</td>\n",
       "      <td>0.0</td>\n",
       "      <td>6</td>\n",
       "      <td>3.1104</td>\n",
       "    </tr>\n",
       "    <tr>\n",
       "      <th>5</th>\n",
       "      <td>2.39</td>\n",
       "      <td>0.0</td>\n",
       "      <td>13</td>\n",
       "      <td>6.5856</td>\n",
       "    </tr>\n",
       "    <tr>\n",
       "      <th>6</th>\n",
       "      <td>1.15</td>\n",
       "      <td>0.0</td>\n",
       "      <td>19</td>\n",
       "      <td>9.3312</td>\n",
       "    </tr>\n",
       "    <tr>\n",
       "      <th>7</th>\n",
       "      <td>0.92</td>\n",
       "      <td>0.0</td>\n",
       "      <td>12</td>\n",
       "      <td>5.8604</td>\n",
       "    </tr>\n",
       "    <tr>\n",
       "      <th>8</th>\n",
       "      <td>6.98</td>\n",
       "      <td>0.0</td>\n",
       "      <td>54</td>\n",
       "      <td>24.2190</td>\n",
       "    </tr>\n",
       "    <tr>\n",
       "      <th>9</th>\n",
       "      <td>1.99</td>\n",
       "      <td>0.0</td>\n",
       "      <td>49</td>\n",
       "      <td>23.0864</td>\n",
       "    </tr>\n",
       "  </tbody>\n",
       "</table>\n",
       "</div>"
      ],
      "text/plain": [
       "   SHIPPING.COST  DISCOUNT  SALES   PROFIT\n",
       "0           4.37       0.0     19   9.3312\n",
       "1           0.94       0.0     19   9.2928\n",
       "2           1.81       0.0     21   9.8418\n",
       "3           4.59       0.0    111  53.2608\n",
       "4           1.32       0.0      6   3.1104\n",
       "5           2.39       0.0     13   6.5856\n",
       "6           1.15       0.0     19   9.3312\n",
       "7           0.92       0.0     12   5.8604\n",
       "8           6.98       0.0     54  24.2190\n",
       "9           1.99       0.0     49  23.0864"
      ]
     },
     "execution_count": 379,
     "metadata": {},
     "output_type": "execute_result"
    }
   ],
   "source": [
    "miniStore[[\"SHIPPING.COST\",\"DISCOUNT\",\"SALES\",\"PROFIT\"]][:10]\n",
    "\n"
   ]
  }
 ],
 "metadata": {
  "kernelspec": {
   "display_name": "Python 3 (ipykernel)",
   "language": "python",
   "name": "python3"
  },
  "language_info": {
   "codemirror_mode": {
    "name": "ipython",
    "version": 3
   },
   "file_extension": ".py",
   "mimetype": "text/x-python",
   "name": "python",
   "nbconvert_exporter": "python",
   "pygments_lexer": "ipython3",
   "version": "3.11.4"
  }
 },
 "nbformat": 4,
 "nbformat_minor": 5
}
